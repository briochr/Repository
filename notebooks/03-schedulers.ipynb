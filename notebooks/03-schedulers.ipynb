{
  "cells": [
    {
      "cell_type": "markdown",
      "metadata": {
        "id": "uoHtbe7TBHi_"
      },
      "source": [
        "## Scheduling\n",
        "\n",
        "Operations like `dask.delayed` generate task graphs where each node in the graph is a normal Python function and edges between nodes are normal Python objects that are created by one task as outputs and used as inputs in another task.\n",
        "\n",
        "After Dask generates these task graphs, it needs to execute them on parallel hardware. This is the job of a **task scheduler**.\n",
        "\n",
        "Different task schedulers exist, and each will consume a task graph and compute the same result, but with different performance characteristics.\n",
        "\n",
        "Dask has two families of task schedulers:\n",
        "\n",
        "1.  **Single machine scheduler family**: This provides basic features on a local process or thread pool.  This is the default. It is simple and cheap to use, although it can only be used on a single machine, so scalability is limitted.\n",
        "2.  **Distributed scheduler**: This scheduler is more sophisticated, offers more features, but also requires a bit more effort to set up.  It can run locally or distributed across a cluster.\n",
        "\n",
        "<img src=\"https://github.com/ualberta-rcg/python-dask/blob/master/notebooks/assets/collections-schedulers.png?raw=1\">"
      ]
    },
    {
      "cell_type": "markdown",
      "metadata": {
        "id": "sUa1kmgpBHjB"
      },
      "source": [
        "For different computations you may find better performance with particular scheduler settings. We'll explore different schedulers and their impact.\n",
        "\n",
        "Consider the following, which is similar to what we explored in the last section:"
      ]
    },
    {
      "cell_type": "code",
      "execution_count": 1,
      "metadata": {
        "id": "hTU0RoXjBHjC",
        "outputId": "8a2d9908-1961-4df8-ffb4-efc6e458de63",
        "colab": {
          "base_uri": "https://localhost:8080/"
        }
      },
      "outputs": [
        {
          "output_type": "stream",
          "name": "stdout",
          "text": [
            "CPU times: user 794 ms, sys: 101 ms, total: 895 ms\n",
            "Wall time: 5.17 s\n",
            "Printing result from computing total: 44\n"
          ]
        }
      ],
      "source": [
        "from dask import delayed\n",
        "from time import sleep\n",
        "import random\n",
        "import dask\n",
        "\n",
        "def inc(x):\n",
        "    sleep(1)\n",
        "    # Or we can make it sleep a random number less than 20\n",
        "    # sleep(random.randrange(20))\n",
        "    return x + 1\n",
        "\n",
        "data = [1, 2, 3, 4, 5, 6, 7, 8]\n",
        "results = []\n",
        "\n",
        "for x in data:\n",
        "    y = delayed(inc)(x)\n",
        "    results.append(y)\n",
        "\n",
        "total = delayed(sum)(results)\n",
        "\n",
        "# Computing ...\n",
        "%time result = total.compute()\n",
        "print(\"Printing result from computing total:\", result)"
      ]
    },
    {
      "cell_type": "markdown",
      "metadata": {
        "id": "MdFZkibVBHjD"
      },
      "source": [
        "## Single thread\n",
        "\n",
        "If we wanted to, we could compute the result using only a single thread. Each task in the graph is executed one-at-a-time. We do this by telling Dask to use the 'sychronous' scheduler, by passing a keyword option to the `compute` method:"
      ]
    },
    {
      "cell_type": "code",
      "execution_count": 2,
      "metadata": {
        "id": "PlsRsNegBHjE",
        "outputId": "c9af0ffa-f6ec-4930-c684-3ea45c60bb4e",
        "colab": {
          "base_uri": "https://localhost:8080/"
        }
      },
      "outputs": [
        {
          "output_type": "stream",
          "name": "stdout",
          "text": [
            "CPU times: user 34 ms, sys: 6.32 ms, total: 40.3 ms\n",
            "Wall time: 8 s\n"
          ]
        }
      ],
      "source": [
        "%time result = total.compute(scheduler='synchronous')"
      ]
    },
    {
      "cell_type": "markdown",
      "metadata": {
        "id": "r2SFBFY6BHjE"
      },
      "source": [
        "Why would you want to do this? Well, most of the time you wouldn't, but this can be helpful when trying to fix code using debugging tools that don't parallelize well."
      ]
    },
    {
      "cell_type": "markdown",
      "metadata": {
        "id": "brad_ZU9BHjF"
      },
      "source": [
        "## Local Threads\n",
        "\n",
        "The threaded scheduler executes computations with a local `multiprocessing.pool.ThreadPool` (from the Python `multiprocessing` library). It is lightweight and requires no setup. It introduces very little task overhead and, because everything occurs in the same process, it incurs no costs to transfer data between tasks. However, due to Python’s Global Interpreter Lock (GIL), this scheduler only provides parallelism when your computation is dominated by non-Python code, such as is the case when operating on numeric data in NumPy arrays, Pandas DataFrames, or using any of the other C/C++/Cython based projects in the ecosystem.\n",
        "\n",
        "The threaded scheduler is the **default** choice for Dask Delayed (and Dask Array and Dask DataFrame). However, if your computation is dominated by processing pure Python objects like strings, dicts, or lists, then you may want to try one of the process-based schedulers below (we currently recommend the distributed scheduler on a local machine).\n",
        "\n",
        "Although this is the default (unless Dask is configured otherwise), we can use this scheduler by telling Dask to use the 'threads' scheduler, by passing a keyword option to the `compute` method:"
      ]
    },
    {
      "cell_type": "code",
      "execution_count": 3,
      "metadata": {
        "id": "pYn-P0N9BHjF",
        "outputId": "7fb46e87-a93b-4ce6-f1cc-dbc615eca713",
        "colab": {
          "base_uri": "https://localhost:8080/"
        }
      },
      "outputs": [
        {
          "output_type": "stream",
          "name": "stdout",
          "text": [
            "CPU times: user 18.8 ms, sys: 4.7 ms, total: 23.5 ms\n",
            "Wall time: 4 s\n"
          ]
        }
      ],
      "source": [
        "%time result = total.compute(scheduler='threads')"
      ]
    },
    {
      "cell_type": "markdown",
      "metadata": {
        "id": "GvkTbCU2BHjG"
      },
      "source": [
        "## Local Processes\n",
        "\n",
        "The multiprocessing scheduler executes computations with a local `multiprocessing.Pool`.\n",
        "\n",
        "It is lightweight to use and requires no setup.\n",
        "Every task and all of its dependencies are shipped to a local process,\n",
        "executed, and then their result is shipped back to the main process.\n",
        "This means that it is able to bypass issues with the GIL and provide parallelism even on computations that are dominated by pure Python code,\n",
        "such as those that process strings, dicts, and lists.\n",
        "\n",
        "However, moving data to remote processes and back can introduce performance penalties, particularly when the data being transferred between processes is large. The multiprocessing scheduler is an excellent choice when workflows are relatively linear, and so does not involve significant inter-task data transfer as well as when inputs and outputs are both small, like filenames and counts.\n",
        "\n",
        "This is common in basic data ingestion workloads, such as those are common in `Dask Bag`, where the multiprocessing scheduler is the default:\n",
        "\n",
        "```python\n",
        "# Read in a bunch of json files...\n",
        "# parse them...\n",
        "# grab all the name attributes...\n",
        "# and compute frequencies\n",
        "\n",
        "import dask.bag as db\n",
        "db.read_text('*.json').map(json.loads).pluck('name').frequencies().compute()\n",
        "\n",
        "{'alice': 100, 'bob': 200, 'charlie': 300}\n",
        "```\n",
        "\n",
        "We tell Dask to use the `threads` scheduler by passing a keyword option to the `compute` method:"
      ]
    },
    {
      "cell_type": "code",
      "execution_count": 4,
      "metadata": {
        "id": "oOozc3RLBHjL",
        "outputId": "7ffa87e1-b48d-4ccf-d9d2-1c150b210c1a",
        "colab": {
          "base_uri": "https://localhost:8080/"
        }
      },
      "outputs": [
        {
          "output_type": "stream",
          "name": "stdout",
          "text": [
            "CPU times: user 35.5 ms, sys: 11.4 ms, total: 46.9 ms\n",
            "Wall time: 6.48 s\n"
          ]
        }
      ],
      "source": [
        "%time result = total.compute(scheduler='processes')"
      ]
    },
    {
      "cell_type": "markdown",
      "metadata": {
        "id": "tT5lLSSKBHjL"
      },
      "source": [
        "## Distributed (local)\n",
        "\n",
        "### Note: some things won't work on Colab\n",
        "\n",
        "The Dask distributed scheduler can either be setup on a cluster or run locally on a personal machine. Despite having the name “distributed”, it is often pragmatic on local machines for a few reasons:\n",
        "\n",
        "* It provides access to asynchronous API, notably Futures\n",
        "* It provides a diagnostic dashboard that can provide valuable insight on performance and progress\n",
        "* It handles data locality with more sophistication, and so can be more efficient than the multiprocessing scheduler on workloads that require multiple processes\n",
        "\n",
        "Here's how we start a distributed local **client**:"
      ]
    },
    {
      "cell_type": "code",
      "execution_count": null,
      "metadata": {
        "id": "_1shXqKIBHjM"
      },
      "outputs": [],
      "source": [
        "# NOTE!!! Won't work directly on Colab, see below\n",
        "\n",
        "from dask.distributed import Client\n",
        "client = Client()\n",
        "client"
      ]
    },
    {
      "cell_type": "markdown",
      "metadata": {
        "id": "3n2HD9RsBHjM"
      },
      "source": [
        "For Colab, we need to do this:"
      ]
    },
    {
      "cell_type": "code",
      "execution_count": 5,
      "metadata": {
        "id": "Syk4LNtABHjN",
        "outputId": "16ca4626-f33f-477a-ef3b-b9393a20c1b8",
        "colab": {
          "base_uri": "https://localhost:8080/",
          "height": 594
        }
      },
      "outputs": [
        {
          "output_type": "stream",
          "name": "stderr",
          "text": [
            "INFO:distributed.http.proxy:To route to workers diagnostics web server please install jupyter-server-proxy: python -m pip install jupyter-server-proxy\n",
            "INFO:distributed.scheduler:State start\n",
            "INFO:distributed.scheduler:  Scheduler at: inproc://172.28.0.12/1427/1\n",
            "INFO:distributed.scheduler:  dashboard at:  http://172.28.0.12:8787/status\n",
            "INFO:distributed.scheduler:Registering Worker plugin shuffle\n",
            "INFO:distributed.worker:      Start worker at: inproc://172.28.0.12/1427/4\n",
            "INFO:distributed.worker:         Listening to:          inproc172.28.0.12\n",
            "INFO:distributed.worker:          Worker name:                          0\n",
            "INFO:distributed.worker:         dashboard at:          172.28.0.12:41265\n",
            "INFO:distributed.worker:Waiting to connect to: inproc://172.28.0.12/1427/1\n",
            "INFO:distributed.worker:-------------------------------------------------\n",
            "INFO:distributed.worker:              Threads:                          2\n",
            "INFO:distributed.worker:               Memory:                  12.67 GiB\n",
            "INFO:distributed.worker:      Local Directory: /tmp/dask-scratch-space/worker-d1dqe86r\n",
            "INFO:distributed.worker:-------------------------------------------------\n",
            "INFO:distributed.scheduler:Register worker addr: inproc://172.28.0.12/1427/4 name: 0\n",
            "INFO:distributed.scheduler:Starting worker compute stream, inproc://172.28.0.12/1427/4\n",
            "INFO:distributed.core:Starting established connection to inproc://172.28.0.12/1427/5\n",
            "INFO:distributed.worker:Starting Worker plugin shuffle\n",
            "INFO:distributed.worker:        Registered to: inproc://172.28.0.12/1427/1\n",
            "INFO:distributed.worker:-------------------------------------------------\n",
            "INFO:distributed.core:Starting established connection to inproc://172.28.0.12/1427/1\n",
            "INFO:distributed.scheduler:Receive client connection: Client-a9776908-0d84-11f0-8593-0242ac1c000c\n",
            "INFO:distributed.core:Starting established connection to inproc://172.28.0.12/1427/6\n"
          ]
        },
        {
          "output_type": "execute_result",
          "data": {
            "text/plain": [
              "<Client: 'inproc://172.28.0.12/1427/1' processes=1 threads=2, memory=12.67 GiB>"
            ],
            "text/html": [
              "<div>\n",
              "    <div style=\"width: 24px; height: 24px; background-color: #e1e1e1; border: 3px solid #9D9D9D; border-radius: 5px; position: absolute;\"> </div>\n",
              "    <div style=\"margin-left: 48px;\">\n",
              "        <h3 style=\"margin-bottom: 0px;\">Client</h3>\n",
              "        <p style=\"color: #9D9D9D; margin-bottom: 0px;\">Client-a9776908-0d84-11f0-8593-0242ac1c000c</p>\n",
              "        <table style=\"width: 100%; text-align: left;\">\n",
              "\n",
              "        <tr>\n",
              "        \n",
              "            <td style=\"text-align: left;\"><strong>Connection method:</strong> Cluster object</td>\n",
              "            <td style=\"text-align: left;\"><strong>Cluster type:</strong> distributed.LocalCluster</td>\n",
              "        \n",
              "        </tr>\n",
              "\n",
              "        \n",
              "            <tr>\n",
              "                <td style=\"text-align: left;\">\n",
              "                    <strong>Dashboard: </strong> <a href=\"http://172.28.0.12:8787/status\" target=\"_blank\">http://172.28.0.12:8787/status</a>\n",
              "                </td>\n",
              "                <td style=\"text-align: left;\"></td>\n",
              "            </tr>\n",
              "        \n",
              "\n",
              "        </table>\n",
              "\n",
              "        \n",
              "\n",
              "        \n",
              "            <details>\n",
              "            <summary style=\"margin-bottom: 20px;\"><h3 style=\"display: inline;\">Cluster Info</h3></summary>\n",
              "            <div class=\"jp-RenderedHTMLCommon jp-RenderedHTML jp-mod-trusted jp-OutputArea-output\">\n",
              "    <div style=\"width: 24px; height: 24px; background-color: #e1e1e1; border: 3px solid #9D9D9D; border-radius: 5px; position: absolute;\">\n",
              "    </div>\n",
              "    <div style=\"margin-left: 48px;\">\n",
              "        <h3 style=\"margin-bottom: 0px; margin-top: 0px;\">LocalCluster</h3>\n",
              "        <p style=\"color: #9D9D9D; margin-bottom: 0px;\">bdf8b5e4</p>\n",
              "        <table style=\"width: 100%; text-align: left;\">\n",
              "            <tr>\n",
              "                <td style=\"text-align: left;\">\n",
              "                    <strong>Dashboard:</strong> <a href=\"http://172.28.0.12:8787/status\" target=\"_blank\">http://172.28.0.12:8787/status</a>\n",
              "                </td>\n",
              "                <td style=\"text-align: left;\">\n",
              "                    <strong>Workers:</strong> 1\n",
              "                </td>\n",
              "            </tr>\n",
              "            <tr>\n",
              "                <td style=\"text-align: left;\">\n",
              "                    <strong>Total threads:</strong> 2\n",
              "                </td>\n",
              "                <td style=\"text-align: left;\">\n",
              "                    <strong>Total memory:</strong> 12.67 GiB\n",
              "                </td>\n",
              "            </tr>\n",
              "            \n",
              "            <tr>\n",
              "    <td style=\"text-align: left;\"><strong>Status:</strong> running</td>\n",
              "    <td style=\"text-align: left;\"><strong>Using processes:</strong> False</td>\n",
              "</tr>\n",
              "\n",
              "            \n",
              "        </table>\n",
              "\n",
              "        <details>\n",
              "            <summary style=\"margin-bottom: 20px;\">\n",
              "                <h3 style=\"display: inline;\">Scheduler Info</h3>\n",
              "            </summary>\n",
              "\n",
              "            <div style=\"\">\n",
              "    <div>\n",
              "        <div style=\"width: 24px; height: 24px; background-color: #FFF7E5; border: 3px solid #FF6132; border-radius: 5px; position: absolute;\"> </div>\n",
              "        <div style=\"margin-left: 48px;\">\n",
              "            <h3 style=\"margin-bottom: 0px;\">Scheduler</h3>\n",
              "            <p style=\"color: #9D9D9D; margin-bottom: 0px;\">Scheduler-9b3509c3-2ae5-4c3d-8ee3-670dd55ede69</p>\n",
              "            <table style=\"width: 100%; text-align: left;\">\n",
              "                <tr>\n",
              "                    <td style=\"text-align: left;\">\n",
              "                        <strong>Comm:</strong> inproc://172.28.0.12/1427/1\n",
              "                    </td>\n",
              "                    <td style=\"text-align: left;\">\n",
              "                        <strong>Workers:</strong> 1\n",
              "                    </td>\n",
              "                </tr>\n",
              "                <tr>\n",
              "                    <td style=\"text-align: left;\">\n",
              "                        <strong>Dashboard:</strong> <a href=\"http://172.28.0.12:8787/status\" target=\"_blank\">http://172.28.0.12:8787/status</a>\n",
              "                    </td>\n",
              "                    <td style=\"text-align: left;\">\n",
              "                        <strong>Total threads:</strong> 2\n",
              "                    </td>\n",
              "                </tr>\n",
              "                <tr>\n",
              "                    <td style=\"text-align: left;\">\n",
              "                        <strong>Started:</strong> Just now\n",
              "                    </td>\n",
              "                    <td style=\"text-align: left;\">\n",
              "                        <strong>Total memory:</strong> 12.67 GiB\n",
              "                    </td>\n",
              "                </tr>\n",
              "            </table>\n",
              "        </div>\n",
              "    </div>\n",
              "\n",
              "    <details style=\"margin-left: 48px;\">\n",
              "        <summary style=\"margin-bottom: 20px;\">\n",
              "            <h3 style=\"display: inline;\">Workers</h3>\n",
              "        </summary>\n",
              "\n",
              "        \n",
              "        <div style=\"margin-bottom: 20px;\">\n",
              "            <div style=\"width: 24px; height: 24px; background-color: #DBF5FF; border: 3px solid #4CC9FF; border-radius: 5px; position: absolute;\"> </div>\n",
              "            <div style=\"margin-left: 48px;\">\n",
              "            <details>\n",
              "                <summary>\n",
              "                    <h4 style=\"margin-bottom: 0px; display: inline;\">Worker: 0</h4>\n",
              "                </summary>\n",
              "                <table style=\"width: 100%; text-align: left;\">\n",
              "                    <tr>\n",
              "                        <td style=\"text-align: left;\">\n",
              "                            <strong>Comm: </strong> inproc://172.28.0.12/1427/4\n",
              "                        </td>\n",
              "                        <td style=\"text-align: left;\">\n",
              "                            <strong>Total threads: </strong> 2\n",
              "                        </td>\n",
              "                    </tr>\n",
              "                    <tr>\n",
              "                        <td style=\"text-align: left;\">\n",
              "                            <strong>Dashboard: </strong> <a href=\"http://172.28.0.12:41265/status\" target=\"_blank\">http://172.28.0.12:41265/status</a>\n",
              "                        </td>\n",
              "                        <td style=\"text-align: left;\">\n",
              "                            <strong>Memory: </strong> 12.67 GiB\n",
              "                        </td>\n",
              "                    </tr>\n",
              "                    <tr>\n",
              "                        <td style=\"text-align: left;\">\n",
              "                            <strong>Nanny: </strong> None\n",
              "                        </td>\n",
              "                        <td style=\"text-align: left;\"></td>\n",
              "                    </tr>\n",
              "                    <tr>\n",
              "                        <td colspan=\"2\" style=\"text-align: left;\">\n",
              "                            <strong>Local directory: </strong> /tmp/dask-scratch-space/worker-d1dqe86r\n",
              "                        </td>\n",
              "                    </tr>\n",
              "\n",
              "                    \n",
              "\n",
              "                    \n",
              "\n",
              "                </table>\n",
              "            </details>\n",
              "            </div>\n",
              "        </div>\n",
              "        \n",
              "\n",
              "    </details>\n",
              "</div>\n",
              "\n",
              "        </details>\n",
              "    </div>\n",
              "</div>\n",
              "            </details>\n",
              "        \n",
              "\n",
              "    </div>\n",
              "</div>"
            ]
          },
          "metadata": {},
          "execution_count": 5
        }
      ],
      "source": [
        "# NOTE!!! Only for Colab, not for local Jupyter\n",
        "\n",
        "from dask.distributed import Client\n",
        "client = Client(processes=False, diagnostics_port=None)\n",
        "client"
      ]
    },
    {
      "cell_type": "markdown",
      "metadata": {
        "id": "M7zl9FSuBHjN"
      },
      "source": [
        "**Note: When we create a `Client` object it registers itself as the default Dask scheduler**. All `.compute()` methods will automatically start using the distributed system.\n",
        "\n",
        "The `Client` connects to a `Cluster`, which is a pool of workers (in software) that will execute any tasks we sent to it. On my laptop, the notebook tells me that I can use `4` workers, `8` cores, and `~17 GB` of memory.\n",
        "\n",
        "The client also gives a network address for scheduling (`tcp://127.0.0.1:64821`), and a link to a dashboard to view the execution of task graphs (`http://127.0.0.1:8787/status`).\n",
        "\n",
        "Checkout the workers tab of the dashboard: it will show you the configuration and the load on the available workers.\n",
        "\n",
        "We can now send our work to the distributed local cluster:"
      ]
    },
    {
      "cell_type": "code",
      "execution_count": 6,
      "metadata": {
        "id": "4buWdtZSBHjN",
        "outputId": "574de2bd-fe1b-4095-943c-4a138338d513",
        "colab": {
          "base_uri": "https://localhost:8080/"
        }
      },
      "outputs": [
        {
          "output_type": "stream",
          "name": "stdout",
          "text": [
            "CPU times: user 256 ms, sys: 22.4 ms, total: 278 ms\n",
            "Wall time: 4.02 s\n"
          ]
        }
      ],
      "source": [
        "%time result = total.compute()"
      ]
    },
    {
      "cell_type": "markdown",
      "metadata": {
        "id": "tYHQOs7yBHjN"
      },
      "source": [
        "We can shutdown the cluster when we are done with it:"
      ]
    },
    {
      "cell_type": "code",
      "execution_count": 7,
      "metadata": {
        "id": "2qJR7rH_BHjO",
        "outputId": "9f69a793-74ee-48ce-e398-4811443994cd",
        "colab": {
          "base_uri": "https://localhost:8080/"
        }
      },
      "outputs": [
        {
          "output_type": "stream",
          "name": "stderr",
          "text": [
            "INFO:distributed.scheduler:Remove client Client-a9776908-0d84-11f0-8593-0242ac1c000c\n",
            "INFO:distributed.core:Received 'close-stream' from inproc://172.28.0.12/1427/6; closing.\n",
            "INFO:distributed.scheduler:Remove client Client-a9776908-0d84-11f0-8593-0242ac1c000c\n",
            "INFO:distributed.scheduler:Close client connection: Client-a9776908-0d84-11f0-8593-0242ac1c000c\n",
            "INFO:distributed.scheduler:Retire worker addresses (stimulus_id='retire-workers-1743352525.7192552') [0]\n",
            "INFO:distributed.worker:Stopping worker at inproc://172.28.0.12/1427/4. Reason: worker-close\n",
            "INFO:distributed.worker:Removing Worker plugin shuffle\n",
            "INFO:distributed.core:Received 'close-stream' from inproc://172.28.0.12/1427/5; closing.\n",
            "INFO:distributed.scheduler:Remove worker addr: inproc://172.28.0.12/1427/4 name: 0 (stimulus_id='handle-worker-cleanup-1743352525.7253897')\n",
            "INFO:distributed.scheduler:Lost all workers\n",
            "INFO:distributed.core:Connection to inproc://172.28.0.12/1427/1 has been closed.\n",
            "INFO:distributed.scheduler:Closing scheduler. Reason: unknown\n",
            "INFO:distributed.scheduler:Scheduler closing all comms\n"
          ]
        }
      ],
      "source": [
        "client.close()"
      ]
    },
    {
      "cell_type": "markdown",
      "metadata": {
        "id": "EGFrusgCBHjO"
      },
      "source": [
        "If we want, we can create a `Client` that only uses a single worker and uses all of the CPUs available."
      ]
    },
    {
      "cell_type": "code",
      "execution_count": 8,
      "metadata": {
        "id": "2v9C2O9sBHjO",
        "outputId": "4916cf05-8871-481c-ae1f-1c056293f5f5",
        "colab": {
          "base_uri": "https://localhost:8080/",
          "height": 576
        }
      },
      "outputs": [
        {
          "output_type": "stream",
          "name": "stderr",
          "text": [
            "INFO:distributed.scheduler:State start\n",
            "INFO:distributed.scheduler:  Scheduler at: inproc://172.28.0.12/1427/10\n",
            "INFO:distributed.scheduler:  dashboard at:  http://172.28.0.12:8787/status\n",
            "INFO:distributed.scheduler:Registering Worker plugin shuffle\n",
            "INFO:distributed.worker:      Start worker at: inproc://172.28.0.12/1427/13\n",
            "INFO:distributed.worker:         Listening to:          inproc172.28.0.12\n",
            "INFO:distributed.worker:          Worker name:                          0\n",
            "INFO:distributed.worker:         dashboard at:          172.28.0.12:39937\n",
            "INFO:distributed.worker:Waiting to connect to: inproc://172.28.0.12/1427/10\n",
            "INFO:distributed.worker:-------------------------------------------------\n",
            "INFO:distributed.worker:              Threads:                          2\n",
            "INFO:distributed.worker:               Memory:                  12.67 GiB\n",
            "INFO:distributed.worker:      Local Directory: /tmp/dask-scratch-space/worker-d5qau3d8\n",
            "INFO:distributed.worker:-------------------------------------------------\n",
            "INFO:distributed.scheduler:Register worker addr: inproc://172.28.0.12/1427/13 name: 0\n",
            "INFO:distributed.scheduler:Starting worker compute stream, inproc://172.28.0.12/1427/13\n",
            "INFO:distributed.core:Starting established connection to inproc://172.28.0.12/1427/14\n",
            "INFO:distributed.worker:Starting Worker plugin shuffle\n",
            "INFO:distributed.worker:        Registered to: inproc://172.28.0.12/1427/10\n",
            "INFO:distributed.worker:-------------------------------------------------\n",
            "INFO:distributed.core:Starting established connection to inproc://172.28.0.12/1427/10\n",
            "INFO:distributed.scheduler:Receive client connection: Client-0fa11374-0d85-11f0-8593-0242ac1c000c\n",
            "INFO:distributed.core:Starting established connection to inproc://172.28.0.12/1427/15\n"
          ]
        },
        {
          "output_type": "execute_result",
          "data": {
            "text/plain": [
              "<Client: 'inproc://172.28.0.12/1427/10' processes=1 threads=2, memory=12.67 GiB>"
            ],
            "text/html": [
              "<div>\n",
              "    <div style=\"width: 24px; height: 24px; background-color: #e1e1e1; border: 3px solid #9D9D9D; border-radius: 5px; position: absolute;\"> </div>\n",
              "    <div style=\"margin-left: 48px;\">\n",
              "        <h3 style=\"margin-bottom: 0px;\">Client</h3>\n",
              "        <p style=\"color: #9D9D9D; margin-bottom: 0px;\">Client-0fa11374-0d85-11f0-8593-0242ac1c000c</p>\n",
              "        <table style=\"width: 100%; text-align: left;\">\n",
              "\n",
              "        <tr>\n",
              "        \n",
              "            <td style=\"text-align: left;\"><strong>Connection method:</strong> Cluster object</td>\n",
              "            <td style=\"text-align: left;\"><strong>Cluster type:</strong> distributed.LocalCluster</td>\n",
              "        \n",
              "        </tr>\n",
              "\n",
              "        \n",
              "            <tr>\n",
              "                <td style=\"text-align: left;\">\n",
              "                    <strong>Dashboard: </strong> <a href=\"http://172.28.0.12:8787/status\" target=\"_blank\">http://172.28.0.12:8787/status</a>\n",
              "                </td>\n",
              "                <td style=\"text-align: left;\"></td>\n",
              "            </tr>\n",
              "        \n",
              "\n",
              "        </table>\n",
              "\n",
              "        \n",
              "\n",
              "        \n",
              "            <details>\n",
              "            <summary style=\"margin-bottom: 20px;\"><h3 style=\"display: inline;\">Cluster Info</h3></summary>\n",
              "            <div class=\"jp-RenderedHTMLCommon jp-RenderedHTML jp-mod-trusted jp-OutputArea-output\">\n",
              "    <div style=\"width: 24px; height: 24px; background-color: #e1e1e1; border: 3px solid #9D9D9D; border-radius: 5px; position: absolute;\">\n",
              "    </div>\n",
              "    <div style=\"margin-left: 48px;\">\n",
              "        <h3 style=\"margin-bottom: 0px; margin-top: 0px;\">LocalCluster</h3>\n",
              "        <p style=\"color: #9D9D9D; margin-bottom: 0px;\">efe86755</p>\n",
              "        <table style=\"width: 100%; text-align: left;\">\n",
              "            <tr>\n",
              "                <td style=\"text-align: left;\">\n",
              "                    <strong>Dashboard:</strong> <a href=\"http://172.28.0.12:8787/status\" target=\"_blank\">http://172.28.0.12:8787/status</a>\n",
              "                </td>\n",
              "                <td style=\"text-align: left;\">\n",
              "                    <strong>Workers:</strong> 1\n",
              "                </td>\n",
              "            </tr>\n",
              "            <tr>\n",
              "                <td style=\"text-align: left;\">\n",
              "                    <strong>Total threads:</strong> 2\n",
              "                </td>\n",
              "                <td style=\"text-align: left;\">\n",
              "                    <strong>Total memory:</strong> 12.67 GiB\n",
              "                </td>\n",
              "            </tr>\n",
              "            \n",
              "            <tr>\n",
              "    <td style=\"text-align: left;\"><strong>Status:</strong> running</td>\n",
              "    <td style=\"text-align: left;\"><strong>Using processes:</strong> False</td>\n",
              "</tr>\n",
              "\n",
              "            \n",
              "        </table>\n",
              "\n",
              "        <details>\n",
              "            <summary style=\"margin-bottom: 20px;\">\n",
              "                <h3 style=\"display: inline;\">Scheduler Info</h3>\n",
              "            </summary>\n",
              "\n",
              "            <div style=\"\">\n",
              "    <div>\n",
              "        <div style=\"width: 24px; height: 24px; background-color: #FFF7E5; border: 3px solid #FF6132; border-radius: 5px; position: absolute;\"> </div>\n",
              "        <div style=\"margin-left: 48px;\">\n",
              "            <h3 style=\"margin-bottom: 0px;\">Scheduler</h3>\n",
              "            <p style=\"color: #9D9D9D; margin-bottom: 0px;\">Scheduler-4a8ac257-3fb3-4951-a153-ed99a11206da</p>\n",
              "            <table style=\"width: 100%; text-align: left;\">\n",
              "                <tr>\n",
              "                    <td style=\"text-align: left;\">\n",
              "                        <strong>Comm:</strong> inproc://172.28.0.12/1427/10\n",
              "                    </td>\n",
              "                    <td style=\"text-align: left;\">\n",
              "                        <strong>Workers:</strong> 1\n",
              "                    </td>\n",
              "                </tr>\n",
              "                <tr>\n",
              "                    <td style=\"text-align: left;\">\n",
              "                        <strong>Dashboard:</strong> <a href=\"http://172.28.0.12:8787/status\" target=\"_blank\">http://172.28.0.12:8787/status</a>\n",
              "                    </td>\n",
              "                    <td style=\"text-align: left;\">\n",
              "                        <strong>Total threads:</strong> 2\n",
              "                    </td>\n",
              "                </tr>\n",
              "                <tr>\n",
              "                    <td style=\"text-align: left;\">\n",
              "                        <strong>Started:</strong> Just now\n",
              "                    </td>\n",
              "                    <td style=\"text-align: left;\">\n",
              "                        <strong>Total memory:</strong> 12.67 GiB\n",
              "                    </td>\n",
              "                </tr>\n",
              "            </table>\n",
              "        </div>\n",
              "    </div>\n",
              "\n",
              "    <details style=\"margin-left: 48px;\">\n",
              "        <summary style=\"margin-bottom: 20px;\">\n",
              "            <h3 style=\"display: inline;\">Workers</h3>\n",
              "        </summary>\n",
              "\n",
              "        \n",
              "        <div style=\"margin-bottom: 20px;\">\n",
              "            <div style=\"width: 24px; height: 24px; background-color: #DBF5FF; border: 3px solid #4CC9FF; border-radius: 5px; position: absolute;\"> </div>\n",
              "            <div style=\"margin-left: 48px;\">\n",
              "            <details>\n",
              "                <summary>\n",
              "                    <h4 style=\"margin-bottom: 0px; display: inline;\">Worker: 0</h4>\n",
              "                </summary>\n",
              "                <table style=\"width: 100%; text-align: left;\">\n",
              "                    <tr>\n",
              "                        <td style=\"text-align: left;\">\n",
              "                            <strong>Comm: </strong> inproc://172.28.0.12/1427/13\n",
              "                        </td>\n",
              "                        <td style=\"text-align: left;\">\n",
              "                            <strong>Total threads: </strong> 2\n",
              "                        </td>\n",
              "                    </tr>\n",
              "                    <tr>\n",
              "                        <td style=\"text-align: left;\">\n",
              "                            <strong>Dashboard: </strong> <a href=\"http://172.28.0.12:39937/status\" target=\"_blank\">http://172.28.0.12:39937/status</a>\n",
              "                        </td>\n",
              "                        <td style=\"text-align: left;\">\n",
              "                            <strong>Memory: </strong> 12.67 GiB\n",
              "                        </td>\n",
              "                    </tr>\n",
              "                    <tr>\n",
              "                        <td style=\"text-align: left;\">\n",
              "                            <strong>Nanny: </strong> None\n",
              "                        </td>\n",
              "                        <td style=\"text-align: left;\"></td>\n",
              "                    </tr>\n",
              "                    <tr>\n",
              "                        <td colspan=\"2\" style=\"text-align: left;\">\n",
              "                            <strong>Local directory: </strong> /tmp/dask-scratch-space/worker-d5qau3d8\n",
              "                        </td>\n",
              "                    </tr>\n",
              "\n",
              "                    \n",
              "\n",
              "                    \n",
              "\n",
              "                </table>\n",
              "            </details>\n",
              "            </div>\n",
              "        </div>\n",
              "        \n",
              "\n",
              "    </details>\n",
              "</div>\n",
              "\n",
              "        </details>\n",
              "    </div>\n",
              "</div>\n",
              "            </details>\n",
              "        \n",
              "\n",
              "    </div>\n",
              "</div>"
            ]
          },
          "metadata": {},
          "execution_count": 8
        }
      ],
      "source": [
        "from dask.distributed import Client\n",
        "\n",
        "# COLAB! Do this line instead...(comment out below)\n",
        "# client = Client(processes=False, diagnostics_port=None)\n",
        "\n",
        "client = Client(processes=False)\n",
        "client"
      ]
    },
    {
      "cell_type": "code",
      "execution_count": 9,
      "metadata": {
        "id": "iYskBVfEBHjP",
        "outputId": "dd314ffe-e16a-4f59-ff06-2d2b6e2f927a",
        "colab": {
          "base_uri": "https://localhost:8080/"
        }
      },
      "outputs": [
        {
          "output_type": "stream",
          "name": "stdout",
          "text": [
            "CPU times: user 234 ms, sys: 26.5 ms, total: 260 ms\n",
            "Wall time: 4.03 s\n"
          ]
        }
      ],
      "source": [
        "%time result = total.compute()"
      ]
    },
    {
      "cell_type": "code",
      "execution_count": 10,
      "metadata": {
        "id": "9pCd4CXBBHjP",
        "outputId": "58550cc2-b4c5-4788-c3ad-9a84d3a0487f",
        "colab": {
          "base_uri": "https://localhost:8080/"
        }
      },
      "outputs": [
        {
          "output_type": "stream",
          "name": "stderr",
          "text": [
            "INFO:distributed.scheduler:Remove client Client-0fa11374-0d85-11f0-8593-0242ac1c000c\n",
            "INFO:distributed.core:Received 'close-stream' from inproc://172.28.0.12/1427/15; closing.\n",
            "INFO:distributed.scheduler:Remove client Client-0fa11374-0d85-11f0-8593-0242ac1c000c\n",
            "INFO:distributed.scheduler:Close client connection: Client-0fa11374-0d85-11f0-8593-0242ac1c000c\n",
            "INFO:distributed.scheduler:Retire worker addresses (stimulus_id='retire-workers-1743352575.347534') [0]\n",
            "INFO:distributed.worker:Stopping worker at inproc://172.28.0.12/1427/13. Reason: worker-close\n",
            "INFO:distributed.worker:Removing Worker plugin shuffle\n",
            "INFO:distributed.core:Received 'close-stream' from inproc://172.28.0.12/1427/14; closing.\n",
            "INFO:distributed.scheduler:Remove worker addr: inproc://172.28.0.12/1427/13 name: 0 (stimulus_id='handle-worker-cleanup-1743352575.3558192')\n",
            "INFO:distributed.scheduler:Lost all workers\n",
            "INFO:distributed.core:Connection to inproc://172.28.0.12/1427/10 has been closed.\n",
            "INFO:distributed.scheduler:Closing scheduler. Reason: unknown\n",
            "INFO:distributed.scheduler:Scheduler closing all comms\n"
          ]
        }
      ],
      "source": [
        "client.close()"
      ]
    },
    {
      "cell_type": "markdown",
      "metadata": {
        "id": "WO5UG6LMBHjQ"
      },
      "source": [
        "So far `Client` has been creating a 'cluster' of workers for us (this is from class `LocalCluster`).\n",
        "\n",
        "We can create the cluster our selves and explicitly specify what resources we need for it, and hook up a client to the cluster:"
      ]
    },
    {
      "cell_type": "code",
      "execution_count": null,
      "metadata": {
        "id": "556JSHvoBHjQ"
      },
      "outputs": [],
      "source": [
        "# NOTE!!! Won't work on Colab\n",
        "\n",
        "from distributed import Client, LocalCluster\n",
        "\n",
        "cluster = LocalCluster(n_workers=2, threads_per_worker=1)\n",
        "client = Client(cluster)\n",
        "client"
      ]
    },
    {
      "cell_type": "code",
      "execution_count": null,
      "metadata": {
        "id": "ftws_HwYBHjQ"
      },
      "outputs": [],
      "source": [
        "%time result = total.compute()"
      ]
    },
    {
      "cell_type": "markdown",
      "metadata": {
        "id": "hHWTw7LjBHjR"
      },
      "source": [
        "We can then scale up the cluster as needed:"
      ]
    },
    {
      "cell_type": "code",
      "execution_count": null,
      "metadata": {
        "id": "O1Xe-gs-BHjR"
      },
      "outputs": [],
      "source": [
        "cluster.scale(4)\n",
        "\n",
        "# The client doesn't update right away, wait a couple of seconds\n",
        "sleep(2)\n",
        "\n",
        "client"
      ]
    },
    {
      "cell_type": "code",
      "execution_count": null,
      "metadata": {
        "id": "2X3kiyqBBHjR"
      },
      "outputs": [],
      "source": [
        "%time result = total.compute()"
      ]
    },
    {
      "cell_type": "code",
      "execution_count": null,
      "metadata": {
        "id": "bd1HjytWBHjR"
      },
      "outputs": [],
      "source": [
        "client.close()\n",
        "cluster.close()"
      ]
    },
    {
      "cell_type": "markdown",
      "metadata": {
        "id": "ZWN2XxCoBHjR"
      },
      "source": [
        "## Dask Distributed (Cluster)\n",
        "\n",
        "You can also run Dask on a distributed cluster. There are a variety of ways to set this up depending on your cluster.\n",
        "\n",
        "We won't get too deep into this. If you are interested, I did a webinar for WestGrid that included more information on how to use Dask with a HPC cluster: https://www.youtube.com/watch?v=uGy5gT2vLdI"
      ]
    },
    {
      "cell_type": "markdown",
      "metadata": {
        "id": "XU64EzWFBHjS"
      },
      "source": [
        "Colab users need something like this:"
      ]
    },
    {
      "cell_type": "code",
      "execution_count": 11,
      "metadata": {
        "id": "sBkYp1oSBHjS",
        "outputId": "d7e6472f-113b-4dc7-a9f6-5b6b8e650cf9",
        "colab": {
          "base_uri": "https://localhost:8080/"
        }
      },
      "outputs": [
        {
          "output_type": "stream",
          "name": "stdout",
          "text": [
            "Collecting dask_jobqueue\n",
            "  Downloading dask_jobqueue-0.9.0-py2.py3-none-any.whl.metadata (1.3 kB)\n",
            "Requirement already satisfied: dask>=2022.02.0 in /usr/local/lib/python3.11/dist-packages (from dask_jobqueue) (2024.12.1)\n",
            "Requirement already satisfied: distributed>=2022.02.0 in /usr/local/lib/python3.11/dist-packages (from dask_jobqueue) (2024.12.1)\n",
            "Requirement already satisfied: click>=8.1 in /usr/local/lib/python3.11/dist-packages (from dask>=2022.02.0->dask_jobqueue) (8.1.8)\n",
            "Requirement already satisfied: cloudpickle>=3.0.0 in /usr/local/lib/python3.11/dist-packages (from dask>=2022.02.0->dask_jobqueue) (3.1.1)\n",
            "Requirement already satisfied: fsspec>=2021.09.0 in /usr/local/lib/python3.11/dist-packages (from dask>=2022.02.0->dask_jobqueue) (2025.3.0)\n",
            "Requirement already satisfied: packaging>=20.0 in /usr/local/lib/python3.11/dist-packages (from dask>=2022.02.0->dask_jobqueue) (24.2)\n",
            "Requirement already satisfied: partd>=1.4.0 in /usr/local/lib/python3.11/dist-packages (from dask>=2022.02.0->dask_jobqueue) (1.4.2)\n",
            "Requirement already satisfied: pyyaml>=5.3.1 in /usr/local/lib/python3.11/dist-packages (from dask>=2022.02.0->dask_jobqueue) (6.0.2)\n",
            "Requirement already satisfied: toolz>=0.10.0 in /usr/local/lib/python3.11/dist-packages (from dask>=2022.02.0->dask_jobqueue) (0.12.1)\n",
            "Requirement already satisfied: importlib_metadata>=4.13.0 in /usr/local/lib/python3.11/dist-packages (from dask>=2022.02.0->dask_jobqueue) (8.6.1)\n",
            "Requirement already satisfied: jinja2>=2.10.3 in /usr/local/lib/python3.11/dist-packages (from distributed>=2022.02.0->dask_jobqueue) (3.1.6)\n",
            "Requirement already satisfied: locket>=1.0.0 in /usr/local/lib/python3.11/dist-packages (from distributed>=2022.02.0->dask_jobqueue) (1.0.0)\n",
            "Requirement already satisfied: msgpack>=1.0.2 in /usr/local/lib/python3.11/dist-packages (from distributed>=2022.02.0->dask_jobqueue) (1.1.0)\n",
            "Requirement already satisfied: psutil>=5.8.0 in /usr/local/lib/python3.11/dist-packages (from distributed>=2022.02.0->dask_jobqueue) (5.9.5)\n",
            "Requirement already satisfied: sortedcontainers>=2.0.5 in /usr/local/lib/python3.11/dist-packages (from distributed>=2022.02.0->dask_jobqueue) (2.4.0)\n",
            "Requirement already satisfied: tblib>=1.6.0 in /usr/local/lib/python3.11/dist-packages (from distributed>=2022.02.0->dask_jobqueue) (3.0.0)\n",
            "Requirement already satisfied: tornado>=6.2.0 in /usr/local/lib/python3.11/dist-packages (from distributed>=2022.02.0->dask_jobqueue) (6.4.2)\n",
            "Requirement already satisfied: urllib3>=1.26.5 in /usr/local/lib/python3.11/dist-packages (from distributed>=2022.02.0->dask_jobqueue) (2.3.0)\n",
            "Requirement already satisfied: zict>=3.0.0 in /usr/local/lib/python3.11/dist-packages (from distributed>=2022.02.0->dask_jobqueue) (3.0.0)\n",
            "Requirement already satisfied: zipp>=3.20 in /usr/local/lib/python3.11/dist-packages (from importlib_metadata>=4.13.0->dask>=2022.02.0->dask_jobqueue) (3.21.0)\n",
            "Requirement already satisfied: MarkupSafe>=2.0 in /usr/local/lib/python3.11/dist-packages (from jinja2>=2.10.3->distributed>=2022.02.0->dask_jobqueue) (3.0.2)\n",
            "Downloading dask_jobqueue-0.9.0-py2.py3-none-any.whl (52 kB)\n",
            "\u001b[?25l   \u001b[90m━━━━━━━━━━━━━━━━━━━━━━━━━━━━━━━━━━━━━━━━\u001b[0m \u001b[32m0.0/52.0 kB\u001b[0m \u001b[31m?\u001b[0m eta \u001b[36m-:--:--\u001b[0m\r\u001b[2K   \u001b[90m━━━━━━━━━━━━━━━━━━━━━━━━━━━━━━━━━━━━━━━━\u001b[0m \u001b[32m52.0/52.0 kB\u001b[0m \u001b[31m3.5 MB/s\u001b[0m eta \u001b[36m0:00:00\u001b[0m\n",
            "\u001b[?25hInstalling collected packages: dask_jobqueue\n",
            "Successfully installed dask_jobqueue-0.9.0\n"
          ]
        }
      ],
      "source": [
        "# May need to restart your runtime after\n",
        "!pip install dask_jobqueue"
      ]
    },
    {
      "cell_type": "markdown",
      "metadata": {
        "id": "GidpnBlcBHjS"
      },
      "source": [
        "Here is an example that sets up workers on an HPC cluster that uses the SLURM scheduler:"
      ]
    },
    {
      "cell_type": "code",
      "execution_count": 12,
      "metadata": {
        "id": "XpPPdLHhBHjS",
        "outputId": "9237c2c1-9e24-4fb6-a4c6-c806c656d02d",
        "colab": {
          "base_uri": "https://localhost:8080/",
          "height": 389,
          "referenced_widgets": [
            "0fee941562904aa5b6d68d2160027893",
            "b3d438d76dea4a6fb3f3e6746cf66f85",
            "13f39aaeeda24ad197bf129cfe8dd31b",
            "38fdb48616ad4177bbff2548d6d2ea87",
            "d4916af1e1504c5e94144711e4a53de6",
            "7a2756dd222a4d96b70687362dab3408",
            "36a4bc707ced4fe289231f1f0ac81755",
            "cffaac8b52434b678257b7a9c0a1e3fe",
            "21c59cd0016e47e4a4e881149cedd70d",
            "3e92f589399042eca2a7add225746ac3",
            "733ea6bccfed4015a20ac37ccd2f961b",
            "a485b4cd9d0248bcae996f3dc5f5e5ba",
            "f83a4ba168724225b34f98fe37e7126d",
            "4e47b64882f842ad91e3d9b2936cd7e8",
            "ecbe07a677904c73914b7aeeb7dd86f0",
            "3c495b5856e74713a9a54d9d700bc2c0",
            "6210cb005c4b43c19576c7a00091c12b",
            "1956678decf541b0b83e9dc666a99c3d",
            "9af44a4655ab4397b19f4a71c656e13a",
            "6ac999eb731145f6ad8679af48b86fa2",
            "16597873a31c4936a3eb5fe29140407f",
            "02d35ecbf7b0473d90b8b5a7d92fffae",
            "d5af1cb4983c4a77ad87552f02d0b109",
            "b822526bb01642adafd6d06c1b8a6841",
            "4ebc5c4f4aad4a55a68f259feaf4a2d7",
            "62bf34e780e74f178a33830c37c366dc",
            "8345e909b2224676a8dbcf57d0c2824a"
          ]
        }
      },
      "outputs": [
        {
          "output_type": "stream",
          "name": "stderr",
          "text": [
            "/usr/local/lib/python3.11/dist-packages/dask_jobqueue/slurm.py:55: FutureWarning: project has been renamed to account as this kwarg was used wit -A option. You are still using it (please also check config files). If you did not set account yet, project will be respected for now, but it will be removed in a future release. If you already set account, project is ignored and you can remove it.\n",
            "  warnings.warn(warn, FutureWarning)\n",
            "INFO:distributed.scheduler:State start\n",
            "INFO:distributed.scheduler:  Scheduler at:   tcp://172.28.0.12:46713\n",
            "INFO:distributed.scheduler:  dashboard at:  http://172.28.0.12:8787/status\n",
            "INFO:distributed.scheduler:Registering Worker plugin shuffle\n"
          ]
        },
        {
          "output_type": "display_data",
          "data": {
            "text/plain": [
              "Tab(children=(HTML(value='<div class=\"jp-RenderedHTMLCommon jp-RenderedHTML jp-mod-trusted jp-OutputArea-outpu…"
            ],
            "application/vnd.jupyter.widget-view+json": {
              "version_major": 2,
              "version_minor": 0,
              "model_id": "0fee941562904aa5b6d68d2160027893"
            }
          },
          "metadata": {}
        }
      ],
      "source": [
        "from dask_jobqueue import SLURMCluster\n",
        "from dask.distributed import Client\n",
        "from dask.distributed import progress\n",
        "import time\n",
        "\n",
        "cluster = SLURMCluster(cores=2,\n",
        "                       memory=\"8000MB\",\n",
        "                       walltime='00:30:00',\n",
        "                       project='def-blahblahblah')\n",
        "cluster"
      ]
    },
    {
      "cell_type": "markdown",
      "metadata": {
        "id": "nPLDjmIPBHjT"
      },
      "source": [
        "At this point no workers have been allocated to do work. We can checkout the job submission script that Dask uses to create a single worker (with one or more threads):"
      ]
    },
    {
      "cell_type": "code",
      "execution_count": 13,
      "metadata": {
        "id": "c8CbgIyrBHjT",
        "outputId": "17a3f1f3-7175-4913-9fb0-292e12706a46",
        "colab": {
          "base_uri": "https://localhost:8080/"
        }
      },
      "outputs": [
        {
          "output_type": "stream",
          "name": "stdout",
          "text": [
            "#!/usr/bin/env bash\n",
            "\n",
            "#SBATCH -J dask-worker\n",
            "#SBATCH -A def-blahblahblah\n",
            "#SBATCH -n 1\n",
            "#SBATCH --cpus-per-task=2\n",
            "#SBATCH --mem=8G\n",
            "#SBATCH -t 00:30:00\n",
            "\n",
            "/usr/bin/python3 -m distributed.cli.dask_worker tcp://172.28.0.12:46713 --name dummy-name --nthreads 1 --memory-limit 3.73GiB --nworkers 2 --nanny --death-timeout 60\n",
            "\n"
          ]
        },
        {
          "output_type": "stream",
          "name": "stderr",
          "text": [
            "/usr/local/lib/python3.11/dist-packages/dask_jobqueue/slurm.py:55: FutureWarning: project has been renamed to account as this kwarg was used wit -A option. You are still using it (please also check config files). If you did not set account yet, project will be respected for now, but it will be removed in a future release. If you already set account, project is ignored and you can remove it.\n",
            "  warnings.warn(warn, FutureWarning)\n"
          ]
        }
      ],
      "source": [
        "print(cluster.job_script())"
      ]
    },
    {
      "cell_type": "markdown",
      "metadata": {
        "id": "CSaublpbBHjT"
      },
      "source": [
        "We can hook up a client to the cluster to monitor and inspect it:"
      ]
    },
    {
      "cell_type": "code",
      "execution_count": 14,
      "metadata": {
        "id": "tuiPPXEuBHjT",
        "outputId": "aea26943-a376-4c92-854d-faf02fb5e6f7",
        "colab": {
          "base_uri": "https://localhost:8080/",
          "height": 1000
        }
      },
      "outputs": [
        {
          "output_type": "stream",
          "name": "stderr",
          "text": [
            "ERROR:asyncio:Task exception was never retrieved\n",
            "future: <Task finished name='Task-40338' coro=<_wrap_awaitable() done, defined at /usr/local/lib/python3.11/dist-packages/distributed/deploy/spec.py:124> exception=FileNotFoundError(2, 'No such file or directory')>\n",
            "Traceback (most recent call last):\n",
            "  File \"/usr/local/lib/python3.11/dist-packages/distributed/deploy/spec.py\", line 125, in _wrap_awaitable\n",
            "    return await aw\n",
            "           ^^^^^^^^\n",
            "  File \"/usr/local/lib/python3.11/dist-packages/distributed/deploy/spec.py\", line 74, in _\n",
            "    await self.start()\n",
            "  File \"/usr/local/lib/python3.11/dist-packages/dask_jobqueue/core.py\", line 426, in start\n",
            "    out = await self._submit_job(fn)\n",
            "          ^^^^^^^^^^^^^^^^^^^^^^^^^^\n",
            "  File \"/usr/local/lib/python3.11/dist-packages/dask_jobqueue/core.py\", line 409, in _submit_job\n",
            "    return await self._call(shlex.split(self.submit_command) + [script_filename])\n",
            "           ^^^^^^^^^^^^^^^^^^^^^^^^^^^^^^^^^^^^^^^^^^^^^^^^^^^^^^^^^^^^^^^^^^^^^^\n",
            "  File \"/usr/local/lib/python3.11/dist-packages/dask_jobqueue/core.py\", line 503, in _call\n",
            "    proc = await create_subproc(\n",
            "           ^^^^^^^^^^^^^^^^^^^^^\n",
            "  File \"/usr/lib/python3.11/asyncio/subprocess.py\", line 223, in create_subprocess_exec\n",
            "    transport, protocol = await loop.subprocess_exec(\n",
            "                          ^^^^^^^^^^^^^^^^^^^^^^^^^^^\n",
            "  File \"/usr/lib/python3.11/asyncio/base_events.py\", line 1708, in subprocess_exec\n",
            "    transport = await self._make_subprocess_transport(\n",
            "                ^^^^^^^^^^^^^^^^^^^^^^^^^^^^^^^^^^^^^^\n",
            "  File \"/usr/lib/python3.11/asyncio/unix_events.py\", line 207, in _make_subprocess_transport\n",
            "    transp = _UnixSubprocessTransport(self, protocol, args, shell,\n",
            "             ^^^^^^^^^^^^^^^^^^^^^^^^^^^^^^^^^^^^^^^^^^^^^^^^^^^^^\n",
            "  File \"/usr/lib/python3.11/asyncio/base_subprocess.py\", line 36, in __init__\n",
            "    self._start(args=args, shell=shell, stdin=stdin, stdout=stdout,\n",
            "  File \"/usr/lib/python3.11/asyncio/unix_events.py\", line 818, in _start\n",
            "    self._proc = subprocess.Popen(\n",
            "                 ^^^^^^^^^^^^^^^^^\n",
            "  File \"/usr/lib/python3.11/subprocess.py\", line 1026, in __init__\n",
            "    self._execute_child(args, executable, preexec_fn, close_fds,\n",
            "  File \"/usr/lib/python3.11/subprocess.py\", line 1955, in _execute_child\n",
            "    raise child_exception_type(errno_num, err_msg, err_filename)\n",
            "FileNotFoundError: [Errno 2] No such file or directory: 'sbatch'\n",
            "ERROR:asyncio:Task exception was never retrieved\n",
            "future: <Task finished name='Task-40339' coro=<_wrap_awaitable() done, defined at /usr/local/lib/python3.11/dist-packages/distributed/deploy/spec.py:124> exception=FileNotFoundError(2, 'No such file or directory')>\n",
            "Traceback (most recent call last):\n",
            "  File \"/usr/local/lib/python3.11/dist-packages/distributed/deploy/spec.py\", line 125, in _wrap_awaitable\n",
            "    return await aw\n",
            "           ^^^^^^^^\n",
            "  File \"/usr/local/lib/python3.11/dist-packages/distributed/deploy/spec.py\", line 74, in _\n",
            "    await self.start()\n",
            "  File \"/usr/local/lib/python3.11/dist-packages/dask_jobqueue/core.py\", line 426, in start\n",
            "    out = await self._submit_job(fn)\n",
            "          ^^^^^^^^^^^^^^^^^^^^^^^^^^\n",
            "  File \"/usr/local/lib/python3.11/dist-packages/dask_jobqueue/core.py\", line 409, in _submit_job\n",
            "    return await self._call(shlex.split(self.submit_command) + [script_filename])\n",
            "           ^^^^^^^^^^^^^^^^^^^^^^^^^^^^^^^^^^^^^^^^^^^^^^^^^^^^^^^^^^^^^^^^^^^^^^\n",
            "  File \"/usr/local/lib/python3.11/dist-packages/dask_jobqueue/core.py\", line 503, in _call\n",
            "    proc = await create_subproc(\n",
            "           ^^^^^^^^^^^^^^^^^^^^^\n",
            "  File \"/usr/lib/python3.11/asyncio/subprocess.py\", line 223, in create_subprocess_exec\n",
            "    transport, protocol = await loop.subprocess_exec(\n",
            "                          ^^^^^^^^^^^^^^^^^^^^^^^^^^^\n",
            "  File \"/usr/lib/python3.11/asyncio/base_events.py\", line 1708, in subprocess_exec\n",
            "    transport = await self._make_subprocess_transport(\n",
            "                ^^^^^^^^^^^^^^^^^^^^^^^^^^^^^^^^^^^^^^\n",
            "  File \"/usr/lib/python3.11/asyncio/unix_events.py\", line 207, in _make_subprocess_transport\n",
            "    transp = _UnixSubprocessTransport(self, protocol, args, shell,\n",
            "             ^^^^^^^^^^^^^^^^^^^^^^^^^^^^^^^^^^^^^^^^^^^^^^^^^^^^^\n",
            "  File \"/usr/lib/python3.11/asyncio/base_subprocess.py\", line 36, in __init__\n",
            "    self._start(args=args, shell=shell, stdin=stdin, stdout=stdout,\n",
            "  File \"/usr/lib/python3.11/asyncio/unix_events.py\", line 818, in _start\n",
            "    self._proc = subprocess.Popen(\n",
            "                 ^^^^^^^^^^^^^^^^^\n",
            "  File \"/usr/lib/python3.11/subprocess.py\", line 1026, in __init__\n",
            "    self._execute_child(args, executable, preexec_fn, close_fds,\n",
            "  File \"/usr/lib/python3.11/subprocess.py\", line 1955, in _execute_child\n",
            "    raise child_exception_type(errno_num, err_msg, err_filename)\n",
            "FileNotFoundError: [Errno 2] No such file or directory: 'sbatch'\n",
            "INFO:distributed.scheduler:Receive client connection: Client-61edb451-0d85-11f0-8593-0242ac1c000c\n",
            "INFO:distributed.core:Starting established connection to tcp://172.28.0.12:48682\n"
          ]
        },
        {
          "output_type": "execute_result",
          "data": {
            "text/plain": [
              "<Client: 'tcp://172.28.0.12:46713' processes=0 threads=0, memory=0 B>"
            ],
            "text/html": [
              "<div>\n",
              "    <div style=\"width: 24px; height: 24px; background-color: #e1e1e1; border: 3px solid #9D9D9D; border-radius: 5px; position: absolute;\"> </div>\n",
              "    <div style=\"margin-left: 48px;\">\n",
              "        <h3 style=\"margin-bottom: 0px;\">Client</h3>\n",
              "        <p style=\"color: #9D9D9D; margin-bottom: 0px;\">Client-61edb451-0d85-11f0-8593-0242ac1c000c</p>\n",
              "        <table style=\"width: 100%; text-align: left;\">\n",
              "\n",
              "        <tr>\n",
              "        \n",
              "            <td style=\"text-align: left;\"><strong>Connection method:</strong> Cluster object</td>\n",
              "            <td style=\"text-align: left;\"><strong>Cluster type:</strong> dask_jobqueue.SLURMCluster</td>\n",
              "        \n",
              "        </tr>\n",
              "\n",
              "        \n",
              "            <tr>\n",
              "                <td style=\"text-align: left;\">\n",
              "                    <strong>Dashboard: </strong> <a href=\"http://172.28.0.12:8787/status\" target=\"_blank\">http://172.28.0.12:8787/status</a>\n",
              "                </td>\n",
              "                <td style=\"text-align: left;\"></td>\n",
              "            </tr>\n",
              "        \n",
              "\n",
              "        </table>\n",
              "\n",
              "        \n",
              "\n",
              "        \n",
              "            <details>\n",
              "            <summary style=\"margin-bottom: 20px;\"><h3 style=\"display: inline;\">Cluster Info</h3></summary>\n",
              "            <div class=\"jp-RenderedHTMLCommon jp-RenderedHTML jp-mod-trusted jp-OutputArea-output\">\n",
              "    <div style=\"width: 24px; height: 24px; background-color: #e1e1e1; border: 3px solid #9D9D9D; border-radius: 5px; position: absolute;\">\n",
              "    </div>\n",
              "    <div style=\"margin-left: 48px;\">\n",
              "        <h3 style=\"margin-bottom: 0px; margin-top: 0px;\">SLURMCluster</h3>\n",
              "        <p style=\"color: #9D9D9D; margin-bottom: 0px;\">e41b7c0b</p>\n",
              "        <table style=\"width: 100%; text-align: left;\">\n",
              "            <tr>\n",
              "                <td style=\"text-align: left;\">\n",
              "                    <strong>Dashboard:</strong> <a href=\"http://172.28.0.12:8787/status\" target=\"_blank\">http://172.28.0.12:8787/status</a>\n",
              "                </td>\n",
              "                <td style=\"text-align: left;\">\n",
              "                    <strong>Workers:</strong> 0\n",
              "                </td>\n",
              "            </tr>\n",
              "            <tr>\n",
              "                <td style=\"text-align: left;\">\n",
              "                    <strong>Total threads:</strong> 0\n",
              "                </td>\n",
              "                <td style=\"text-align: left;\">\n",
              "                    <strong>Total memory:</strong> 0 B\n",
              "                </td>\n",
              "            </tr>\n",
              "            \n",
              "        </table>\n",
              "\n",
              "        <details>\n",
              "            <summary style=\"margin-bottom: 20px;\">\n",
              "                <h3 style=\"display: inline;\">Scheduler Info</h3>\n",
              "            </summary>\n",
              "\n",
              "            <div style=\"\">\n",
              "    <div>\n",
              "        <div style=\"width: 24px; height: 24px; background-color: #FFF7E5; border: 3px solid #FF6132; border-radius: 5px; position: absolute;\"> </div>\n",
              "        <div style=\"margin-left: 48px;\">\n",
              "            <h3 style=\"margin-bottom: 0px;\">Scheduler</h3>\n",
              "            <p style=\"color: #9D9D9D; margin-bottom: 0px;\">Scheduler-7e04d143-8f13-43fd-8a30-673ccf3e2ddc</p>\n",
              "            <table style=\"width: 100%; text-align: left;\">\n",
              "                <tr>\n",
              "                    <td style=\"text-align: left;\">\n",
              "                        <strong>Comm:</strong> tcp://172.28.0.12:46713\n",
              "                    </td>\n",
              "                    <td style=\"text-align: left;\">\n",
              "                        <strong>Workers:</strong> 0\n",
              "                    </td>\n",
              "                </tr>\n",
              "                <tr>\n",
              "                    <td style=\"text-align: left;\">\n",
              "                        <strong>Dashboard:</strong> <a href=\"http://172.28.0.12:8787/status\" target=\"_blank\">http://172.28.0.12:8787/status</a>\n",
              "                    </td>\n",
              "                    <td style=\"text-align: left;\">\n",
              "                        <strong>Total threads:</strong> 0\n",
              "                    </td>\n",
              "                </tr>\n",
              "                <tr>\n",
              "                    <td style=\"text-align: left;\">\n",
              "                        <strong>Started:</strong> Just now\n",
              "                    </td>\n",
              "                    <td style=\"text-align: left;\">\n",
              "                        <strong>Total memory:</strong> 0 B\n",
              "                    </td>\n",
              "                </tr>\n",
              "            </table>\n",
              "        </div>\n",
              "    </div>\n",
              "\n",
              "    <details style=\"margin-left: 48px;\">\n",
              "        <summary style=\"margin-bottom: 20px;\">\n",
              "            <h3 style=\"display: inline;\">Workers</h3>\n",
              "        </summary>\n",
              "\n",
              "        \n",
              "\n",
              "    </details>\n",
              "</div>\n",
              "\n",
              "        </details>\n",
              "    </div>\n",
              "</div>\n",
              "            </details>\n",
              "        \n",
              "\n",
              "    </div>\n",
              "</div>"
            ]
          },
          "metadata": {},
          "execution_count": 14
        }
      ],
      "source": [
        "# Colab: this won't work\n",
        "\n",
        "client = Client(cluster)\n",
        "client"
      ]
    },
    {
      "cell_type": "markdown",
      "metadata": {
        "id": "sv6jyQAxBHjT"
      },
      "source": [
        "Finally, when we want to allocate workers for our computations, we instruct Dask to submit jobs to SLURM (one job is submitted per worker):"
      ]
    },
    {
      "cell_type": "code",
      "execution_count": 15,
      "metadata": {
        "id": "ftHHPkGaBHjU",
        "outputId": "033fdb4d-5a40-41d8-8909-908fa3c5e023",
        "colab": {
          "base_uri": "https://localhost:8080/"
        }
      },
      "outputs": [
        {
          "output_type": "stream",
          "name": "stderr",
          "text": [
            "/usr/local/lib/python3.11/dist-packages/dask_jobqueue/slurm.py:55: FutureWarning: project has been renamed to account as this kwarg was used wit -A option. You are still using it (please also check config files). If you did not set account yet, project will be respected for now, but it will be removed in a future release. If you already set account, project is ignored and you can remove it.\n",
            "  warnings.warn(warn, FutureWarning)\n"
          ]
        }
      ],
      "source": [
        "# This submits eight jobs to create workers ... this will fail on your laptop\n",
        "cluster.scale(8)"
      ]
    },
    {
      "cell_type": "markdown",
      "metadata": {
        "id": "9aQb0kZHBHjU"
      },
      "source": [
        "This function doesn't wait for the workers to be scheduled -- it returns right away.\n",
        "We can wait for all of the workers to be ready with:"
      ]
    },
    {
      "cell_type": "code",
      "execution_count": 16,
      "metadata": {
        "id": "itcN5qc2BHjU",
        "outputId": "eb12bb10-3f3a-4e4e-cc7f-0cefb0097382",
        "colab": {
          "base_uri": "https://localhost:8080/",
          "height": 181
        }
      },
      "outputs": [
        {
          "output_type": "error",
          "ename": "KeyboardInterrupt",
          "evalue": "",
          "traceback": [
            "\u001b[0;31m---------------------------------------------------------------------------\u001b[0m",
            "\u001b[0;31mKeyboardInterrupt\u001b[0m                         Traceback (most recent call last)",
            "\u001b[0;32m<ipython-input-16-11291332df4f>\u001b[0m in \u001b[0;36m<cell line: 0>\u001b[0;34m()\u001b[0m\n\u001b[1;32m      2\u001b[0m while ((client.status == \"running\") and \\\n\u001b[1;32m      3\u001b[0m        (len(client.scheduler_info()[\"workers\"]) < 8)):\n\u001b[0;32m----> 4\u001b[0;31m     \u001b[0mtime\u001b[0m\u001b[0;34m.\u001b[0m\u001b[0msleep\u001b[0m\u001b[0;34m(\u001b[0m\u001b[0;36m1\u001b[0m\u001b[0;34m)\u001b[0m\u001b[0;34m\u001b[0m\u001b[0;34m\u001b[0m\u001b[0m\n\u001b[0m",
            "\u001b[0;31mKeyboardInterrupt\u001b[0m: "
          ]
        }
      ],
      "source": [
        "# Example with 8 workers ...\n",
        "while ((client.status == \"running\") and \\\n",
        "       (len(client.scheduler_info()[\"workers\"]) < 8)):\n",
        "    time.sleep(1)"
      ]
    },
    {
      "cell_type": "markdown",
      "metadata": {
        "id": "hbRbMQiDBHjU"
      },
      "source": [
        "For a demo of this sort of workflow, check out the linked webinar at the top of this section."
      ]
    },
    {
      "cell_type": "markdown",
      "metadata": {
        "id": "Ke9JrmS8BHjU"
      },
      "source": [
        "## Configuration"
      ]
    },
    {
      "cell_type": "markdown",
      "metadata": {
        "id": "TarAzoRtBHjV"
      },
      "source": [
        "Back to your local laptop ...\n",
        "\n",
        "You can configure the global default scheduler by using the `dask.config.set(scheduler...)` command. This can be done globally:"
      ]
    },
    {
      "cell_type": "code",
      "execution_count": 17,
      "metadata": {
        "id": "tUk_chvrBHjV",
        "outputId": "b6fedd9f-fef9-42d4-9c50-654b16c5a3e8",
        "colab": {
          "base_uri": "https://localhost:8080/"
        }
      },
      "outputs": [
        {
          "output_type": "stream",
          "name": "stderr",
          "text": [
            "/usr/local/lib/python3.11/dist-packages/dask/base.py:1103: UserWarning: Running on a single-machine scheduler when a distributed client is active might lead to unexpected results.\n",
            "  warnings.warn(\n"
          ]
        },
        {
          "output_type": "stream",
          "name": "stdout",
          "text": [
            "CPU times: user 212 ms, sys: 16.3 ms, total: 228 ms\n",
            "Wall time: 4.01 s\n"
          ]
        }
      ],
      "source": [
        "import dask\n",
        "dask.config.set(scheduler='threads')\n",
        "\n",
        "%time result = total.compute()"
      ]
    },
    {
      "cell_type": "markdown",
      "metadata": {
        "id": "4GzcuWJ-BHjV"
      },
      "source": [
        "or within the context of a block:"
      ]
    },
    {
      "cell_type": "code",
      "execution_count": 18,
      "metadata": {
        "id": "DqqIk7HLBHjW",
        "outputId": "89465d65-3da1-4d26-b314-b8122f954aaf",
        "colab": {
          "base_uri": "https://localhost:8080/"
        }
      },
      "outputs": [
        {
          "output_type": "stream",
          "name": "stdout",
          "text": [
            "CPU times: user 388 ms, sys: 23 ms, total: 411 ms\n",
            "Wall time: 6.46 s\n"
          ]
        }
      ],
      "source": [
        "# Up until here we are using the default task scheduler\n",
        "\n",
        "with dask.config.set(scheduler='processes'):\n",
        "    # Anything in this block uses the 'processes' scheduler\n",
        "    # Do stuff\n",
        "    %time result = total.compute()\n",
        "    # Do more stuff\n",
        "\n",
        "# Outside of the block we return back to the default scheduler"
      ]
    },
    {
      "cell_type": "markdown",
      "metadata": {
        "id": "tREm3zcyBHjW"
      },
      "source": [
        "or as we have already seen, within a single compute call:"
      ]
    },
    {
      "cell_type": "code",
      "execution_count": 19,
      "metadata": {
        "id": "z_1jPMaBBHjW",
        "outputId": "bf8c2820-ccc8-442c-df20-c15d3071890d",
        "colab": {
          "base_uri": "https://localhost:8080/"
        }
      },
      "outputs": [
        {
          "output_type": "stream",
          "name": "stdout",
          "text": [
            "CPU times: user 468 ms, sys: 20.9 ms, total: 489 ms\n",
            "Wall time: 8 s\n"
          ]
        }
      ],
      "source": [
        "%time result = total.compute(scheduler='synchronous')"
      ]
    },
    {
      "cell_type": "markdown",
      "metadata": {
        "id": "xlvzu7tlBHjW"
      },
      "source": [
        "[On to the next notebook (`dask.array`)](04-array.ipynb) ..."
      ]
    }
  ],
  "metadata": {
    "kernelspec": {
      "display_name": "Python 3 (ipykernel)",
      "language": "python",
      "name": "python3"
    },
    "language_info": {
      "codemirror_mode": {
        "name": "ipython",
        "version": 3
      },
      "file_extension": ".py",
      "mimetype": "text/x-python",
      "name": "python",
      "nbconvert_exporter": "python",
      "pygments_lexer": "ipython3",
      "version": "3.9.7"
    },
    "colab": {
      "provenance": []
    },
    "widgets": {
      "application/vnd.jupyter.widget-state+json": {
        "0fee941562904aa5b6d68d2160027893": {
          "model_module": "@jupyter-widgets/controls",
          "model_name": "TabModel",
          "model_module_version": "1.5.0",
          "state": {
            "_dom_classes": [],
            "_model_module": "@jupyter-widgets/controls",
            "_model_module_version": "1.5.0",
            "_model_name": "TabModel",
            "_titles": {
              "0": "Status",
              "1": "Scaling"
            },
            "_view_count": null,
            "_view_module": "@jupyter-widgets/controls",
            "_view_module_version": "1.5.0",
            "_view_name": "TabView",
            "box_style": "",
            "children": [
              "IPY_MODEL_b3d438d76dea4a6fb3f3e6746cf66f85",
              "IPY_MODEL_13f39aaeeda24ad197bf129cfe8dd31b"
            ],
            "layout": "IPY_MODEL_38fdb48616ad4177bbff2548d6d2ea87",
            "selected_index": 0
          }
        },
        "b3d438d76dea4a6fb3f3e6746cf66f85": {
          "model_module": "@jupyter-widgets/controls",
          "model_name": "HTMLModel",
          "model_module_version": "1.5.0",
          "state": {
            "_dom_classes": [],
            "_model_module": "@jupyter-widgets/controls",
            "_model_module_version": "1.5.0",
            "_model_name": "HTMLModel",
            "_view_count": null,
            "_view_module": "@jupyter-widgets/controls",
            "_view_module_version": "1.5.0",
            "_view_name": "HTMLView",
            "description": "",
            "description_tooltip": null,
            "layout": "IPY_MODEL_d4916af1e1504c5e94144711e4a53de6",
            "placeholder": "​",
            "style": "IPY_MODEL_7a2756dd222a4d96b70687362dab3408",
            "value": "<div class=\"jp-RenderedHTMLCommon jp-RenderedHTML jp-mod-trusted jp-OutputArea-output\">\n    <div style=\"width: 24px; height: 24px; background-color: #e1e1e1; border: 3px solid #9D9D9D; border-radius: 5px; position: absolute;\">\n    </div>\n    <div style=\"margin-left: 48px;\">\n        <h3 style=\"margin-bottom: 0px; margin-top: 0px;\">SLURMCluster</h3>\n        <p style=\"color: #9D9D9D; margin-bottom: 0px;\">e41b7c0b</p>\n        <table style=\"width: 100%; text-align: left;\">\n            <tr>\n                <td style=\"text-align: left;\">\n                    <strong>Dashboard:</strong> <a href=\"http://172.28.0.12:8787/status\" target=\"_blank\">http://172.28.0.12:8787/status</a>\n                </td>\n                <td style=\"text-align: left;\">\n                    <strong>Workers:</strong> 0\n                </td>\n            </tr>\n            <tr>\n                <td style=\"text-align: left;\">\n                    <strong>Total threads:</strong> 0\n                </td>\n                <td style=\"text-align: left;\">\n                    <strong>Total memory:</strong> 0 B\n                </td>\n            </tr>\n            \n        </table>\n\n        <details>\n            <summary style=\"margin-bottom: 20px;\">\n                <h3 style=\"display: inline;\">Scheduler Info</h3>\n            </summary>\n\n            <div style=\"\">\n    <div>\n        <div style=\"width: 24px; height: 24px; background-color: #FFF7E5; border: 3px solid #FF6132; border-radius: 5px; position: absolute;\"> </div>\n        <div style=\"margin-left: 48px;\">\n            <h3 style=\"margin-bottom: 0px;\">Scheduler</h3>\n            <p style=\"color: #9D9D9D; margin-bottom: 0px;\">Scheduler-7e04d143-8f13-43fd-8a30-673ccf3e2ddc</p>\n            <table style=\"width: 100%; text-align: left;\">\n                <tr>\n                    <td style=\"text-align: left;\">\n                        <strong>Comm:</strong> tcp://172.28.0.12:46713\n                    </td>\n                    <td style=\"text-align: left;\">\n                        <strong>Workers:</strong> 0\n                    </td>\n                </tr>\n                <tr>\n                    <td style=\"text-align: left;\">\n                        <strong>Dashboard:</strong> <a href=\"http://172.28.0.12:8787/status\" target=\"_blank\">http://172.28.0.12:8787/status</a>\n                    </td>\n                    <td style=\"text-align: left;\">\n                        <strong>Total threads:</strong> 0\n                    </td>\n                </tr>\n                <tr>\n                    <td style=\"text-align: left;\">\n                        <strong>Started:</strong> 16 minutes ago\n                    </td>\n                    <td style=\"text-align: left;\">\n                        <strong>Total memory:</strong> 0 B\n                    </td>\n                </tr>\n            </table>\n        </div>\n    </div>\n\n    <details style=\"margin-left: 48px;\">\n        <summary style=\"margin-bottom: 20px;\">\n            <h3 style=\"display: inline;\">Workers</h3>\n        </summary>\n\n        \n\n    </details>\n</div>\n\n        </details>\n    </div>\n</div>"
          }
        },
        "13f39aaeeda24ad197bf129cfe8dd31b": {
          "model_module": "@jupyter-widgets/controls",
          "model_name": "VBoxModel",
          "model_module_version": "1.5.0",
          "state": {
            "_dom_classes": [],
            "_model_module": "@jupyter-widgets/controls",
            "_model_module_version": "1.5.0",
            "_model_name": "VBoxModel",
            "_view_count": null,
            "_view_module": "@jupyter-widgets/controls",
            "_view_module_version": "1.5.0",
            "_view_name": "VBoxView",
            "box_style": "",
            "children": [
              "IPY_MODEL_36a4bc707ced4fe289231f1f0ac81755",
              "IPY_MODEL_cffaac8b52434b678257b7a9c0a1e3fe"
            ],
            "layout": "IPY_MODEL_21c59cd0016e47e4a4e881149cedd70d"
          }
        },
        "38fdb48616ad4177bbff2548d6d2ea87": {
          "model_module": "@jupyter-widgets/base",
          "model_name": "LayoutModel",
          "model_module_version": "1.2.0",
          "state": {
            "_model_module": "@jupyter-widgets/base",
            "_model_module_version": "1.2.0",
            "_model_name": "LayoutModel",
            "_view_count": null,
            "_view_module": "@jupyter-widgets/base",
            "_view_module_version": "1.2.0",
            "_view_name": "LayoutView",
            "align_content": null,
            "align_items": null,
            "align_self": null,
            "border": null,
            "bottom": null,
            "display": null,
            "flex": null,
            "flex_flow": null,
            "grid_area": null,
            "grid_auto_columns": null,
            "grid_auto_flow": null,
            "grid_auto_rows": null,
            "grid_column": null,
            "grid_gap": null,
            "grid_row": null,
            "grid_template_areas": null,
            "grid_template_columns": null,
            "grid_template_rows": null,
            "height": null,
            "justify_content": null,
            "justify_items": null,
            "left": null,
            "margin": null,
            "max_height": null,
            "max_width": null,
            "min_height": null,
            "min_width": null,
            "object_fit": null,
            "object_position": null,
            "order": null,
            "overflow": null,
            "overflow_x": null,
            "overflow_y": null,
            "padding": null,
            "right": null,
            "top": null,
            "visibility": null,
            "width": null
          }
        },
        "d4916af1e1504c5e94144711e4a53de6": {
          "model_module": "@jupyter-widgets/base",
          "model_name": "LayoutModel",
          "model_module_version": "1.2.0",
          "state": {
            "_model_module": "@jupyter-widgets/base",
            "_model_module_version": "1.2.0",
            "_model_name": "LayoutModel",
            "_view_count": null,
            "_view_module": "@jupyter-widgets/base",
            "_view_module_version": "1.2.0",
            "_view_name": "LayoutView",
            "align_content": null,
            "align_items": null,
            "align_self": null,
            "border": null,
            "bottom": null,
            "display": null,
            "flex": null,
            "flex_flow": null,
            "grid_area": null,
            "grid_auto_columns": null,
            "grid_auto_flow": null,
            "grid_auto_rows": null,
            "grid_column": null,
            "grid_gap": null,
            "grid_row": null,
            "grid_template_areas": null,
            "grid_template_columns": null,
            "grid_template_rows": null,
            "height": null,
            "justify_content": null,
            "justify_items": null,
            "left": null,
            "margin": null,
            "max_height": null,
            "max_width": null,
            "min_height": null,
            "min_width": null,
            "object_fit": null,
            "object_position": null,
            "order": null,
            "overflow": null,
            "overflow_x": null,
            "overflow_y": null,
            "padding": null,
            "right": null,
            "top": null,
            "visibility": null,
            "width": null
          }
        },
        "7a2756dd222a4d96b70687362dab3408": {
          "model_module": "@jupyter-widgets/controls",
          "model_name": "DescriptionStyleModel",
          "model_module_version": "1.5.0",
          "state": {
            "_model_module": "@jupyter-widgets/controls",
            "_model_module_version": "1.5.0",
            "_model_name": "DescriptionStyleModel",
            "_view_count": null,
            "_view_module": "@jupyter-widgets/base",
            "_view_module_version": "1.2.0",
            "_view_name": "StyleView",
            "description_width": ""
          }
        },
        "36a4bc707ced4fe289231f1f0ac81755": {
          "model_module": "@jupyter-widgets/controls",
          "model_name": "HTMLModel",
          "model_module_version": "1.5.0",
          "state": {
            "_dom_classes": [],
            "_model_module": "@jupyter-widgets/controls",
            "_model_module_version": "1.5.0",
            "_model_name": "HTMLModel",
            "_view_count": null,
            "_view_module": "@jupyter-widgets/controls",
            "_view_module_version": "1.5.0",
            "_view_name": "HTMLView",
            "description": "",
            "description_tooltip": null,
            "layout": "IPY_MODEL_3e92f589399042eca2a7add225746ac3",
            "placeholder": "​",
            "style": "IPY_MODEL_733ea6bccfed4015a20ac37ccd2f961b",
            "value": "\n        <table>\n            <tr><td style=\"text-align: left;\">Scaling mode: Manual</td></tr>\n            <tr><td style=\"text-align: left;\">Workers: 0 / 4</td></tr>\n        </table>\n        "
          }
        },
        "cffaac8b52434b678257b7a9c0a1e3fe": {
          "model_module": "@jupyter-widgets/controls",
          "model_name": "AccordionModel",
          "model_module_version": "1.5.0",
          "state": {
            "_dom_classes": [],
            "_model_module": "@jupyter-widgets/controls",
            "_model_module_version": "1.5.0",
            "_model_name": "AccordionModel",
            "_titles": {
              "0": "Manual Scaling",
              "1": "Adaptive Scaling"
            },
            "_view_count": null,
            "_view_module": "@jupyter-widgets/controls",
            "_view_module_version": "1.5.0",
            "_view_name": "AccordionView",
            "box_style": "",
            "children": [
              "IPY_MODEL_a485b4cd9d0248bcae996f3dc5f5e5ba",
              "IPY_MODEL_f83a4ba168724225b34f98fe37e7126d"
            ],
            "layout": "IPY_MODEL_4e47b64882f842ad91e3d9b2936cd7e8",
            "selected_index": 0
          }
        },
        "21c59cd0016e47e4a4e881149cedd70d": {
          "model_module": "@jupyter-widgets/base",
          "model_name": "LayoutModel",
          "model_module_version": "1.2.0",
          "state": {
            "_model_module": "@jupyter-widgets/base",
            "_model_module_version": "1.2.0",
            "_model_name": "LayoutModel",
            "_view_count": null,
            "_view_module": "@jupyter-widgets/base",
            "_view_module_version": "1.2.0",
            "_view_name": "LayoutView",
            "align_content": null,
            "align_items": null,
            "align_self": null,
            "border": null,
            "bottom": null,
            "display": null,
            "flex": null,
            "flex_flow": null,
            "grid_area": null,
            "grid_auto_columns": null,
            "grid_auto_flow": null,
            "grid_auto_rows": null,
            "grid_column": null,
            "grid_gap": null,
            "grid_row": null,
            "grid_template_areas": null,
            "grid_template_columns": null,
            "grid_template_rows": null,
            "height": null,
            "justify_content": null,
            "justify_items": null,
            "left": null,
            "margin": null,
            "max_height": null,
            "max_width": null,
            "min_height": null,
            "min_width": null,
            "object_fit": null,
            "object_position": null,
            "order": null,
            "overflow": null,
            "overflow_x": null,
            "overflow_y": null,
            "padding": null,
            "right": null,
            "top": null,
            "visibility": null,
            "width": null
          }
        },
        "3e92f589399042eca2a7add225746ac3": {
          "model_module": "@jupyter-widgets/base",
          "model_name": "LayoutModel",
          "model_module_version": "1.2.0",
          "state": {
            "_model_module": "@jupyter-widgets/base",
            "_model_module_version": "1.2.0",
            "_model_name": "LayoutModel",
            "_view_count": null,
            "_view_module": "@jupyter-widgets/base",
            "_view_module_version": "1.2.0",
            "_view_name": "LayoutView",
            "align_content": null,
            "align_items": null,
            "align_self": null,
            "border": null,
            "bottom": null,
            "display": null,
            "flex": null,
            "flex_flow": null,
            "grid_area": null,
            "grid_auto_columns": null,
            "grid_auto_flow": null,
            "grid_auto_rows": null,
            "grid_column": null,
            "grid_gap": null,
            "grid_row": null,
            "grid_template_areas": null,
            "grid_template_columns": null,
            "grid_template_rows": null,
            "height": null,
            "justify_content": null,
            "justify_items": null,
            "left": null,
            "margin": null,
            "max_height": null,
            "max_width": null,
            "min_height": null,
            "min_width": null,
            "object_fit": null,
            "object_position": null,
            "order": null,
            "overflow": null,
            "overflow_x": null,
            "overflow_y": null,
            "padding": null,
            "right": null,
            "top": null,
            "visibility": null,
            "width": null
          }
        },
        "733ea6bccfed4015a20ac37ccd2f961b": {
          "model_module": "@jupyter-widgets/controls",
          "model_name": "DescriptionStyleModel",
          "model_module_version": "1.5.0",
          "state": {
            "_model_module": "@jupyter-widgets/controls",
            "_model_module_version": "1.5.0",
            "_model_name": "DescriptionStyleModel",
            "_view_count": null,
            "_view_module": "@jupyter-widgets/base",
            "_view_module_version": "1.2.0",
            "_view_name": "StyleView",
            "description_width": ""
          }
        },
        "a485b4cd9d0248bcae996f3dc5f5e5ba": {
          "model_module": "@jupyter-widgets/controls",
          "model_name": "HBoxModel",
          "model_module_version": "1.5.0",
          "state": {
            "_dom_classes": [],
            "_model_module": "@jupyter-widgets/controls",
            "_model_module_version": "1.5.0",
            "_model_name": "HBoxModel",
            "_view_count": null,
            "_view_module": "@jupyter-widgets/controls",
            "_view_module_version": "1.5.0",
            "_view_name": "HBoxView",
            "box_style": "",
            "children": [
              "IPY_MODEL_ecbe07a677904c73914b7aeeb7dd86f0",
              "IPY_MODEL_3c495b5856e74713a9a54d9d700bc2c0"
            ],
            "layout": "IPY_MODEL_6210cb005c4b43c19576c7a00091c12b"
          }
        },
        "f83a4ba168724225b34f98fe37e7126d": {
          "model_module": "@jupyter-widgets/controls",
          "model_name": "HBoxModel",
          "model_module_version": "1.5.0",
          "state": {
            "_dom_classes": [],
            "_model_module": "@jupyter-widgets/controls",
            "_model_module_version": "1.5.0",
            "_model_name": "HBoxModel",
            "_view_count": null,
            "_view_module": "@jupyter-widgets/controls",
            "_view_module_version": "1.5.0",
            "_view_name": "HBoxView",
            "box_style": "",
            "children": [
              "IPY_MODEL_1956678decf541b0b83e9dc666a99c3d",
              "IPY_MODEL_9af44a4655ab4397b19f4a71c656e13a",
              "IPY_MODEL_6ac999eb731145f6ad8679af48b86fa2"
            ],
            "layout": "IPY_MODEL_16597873a31c4936a3eb5fe29140407f"
          }
        },
        "4e47b64882f842ad91e3d9b2936cd7e8": {
          "model_module": "@jupyter-widgets/base",
          "model_name": "LayoutModel",
          "model_module_version": "1.2.0",
          "state": {
            "_model_module": "@jupyter-widgets/base",
            "_model_module_version": "1.2.0",
            "_model_name": "LayoutModel",
            "_view_count": null,
            "_view_module": "@jupyter-widgets/base",
            "_view_module_version": "1.2.0",
            "_view_name": "LayoutView",
            "align_content": null,
            "align_items": null,
            "align_self": null,
            "border": null,
            "bottom": null,
            "display": null,
            "flex": null,
            "flex_flow": null,
            "grid_area": null,
            "grid_auto_columns": null,
            "grid_auto_flow": null,
            "grid_auto_rows": null,
            "grid_column": null,
            "grid_gap": null,
            "grid_row": null,
            "grid_template_areas": null,
            "grid_template_columns": null,
            "grid_template_rows": null,
            "height": null,
            "justify_content": null,
            "justify_items": null,
            "left": null,
            "margin": null,
            "max_height": null,
            "max_width": null,
            "min_height": null,
            "min_width": "500px",
            "object_fit": null,
            "object_position": null,
            "order": null,
            "overflow": null,
            "overflow_x": null,
            "overflow_y": null,
            "padding": null,
            "right": null,
            "top": null,
            "visibility": null,
            "width": null
          }
        },
        "ecbe07a677904c73914b7aeeb7dd86f0": {
          "model_module": "@jupyter-widgets/controls",
          "model_name": "IntTextModel",
          "model_module_version": "1.5.0",
          "state": {
            "_dom_classes": [],
            "_model_module": "@jupyter-widgets/controls",
            "_model_module_version": "1.5.0",
            "_model_name": "IntTextModel",
            "_view_count": null,
            "_view_module": "@jupyter-widgets/controls",
            "_view_module_version": "1.5.0",
            "_view_name": "IntTextView",
            "continuous_update": false,
            "description": "Workers",
            "description_tooltip": null,
            "disabled": false,
            "layout": "IPY_MODEL_02d35ecbf7b0473d90b8b5a7d92fffae",
            "step": 1,
            "style": "IPY_MODEL_d5af1cb4983c4a77ad87552f02d0b109",
            "value": 3
          }
        },
        "3c495b5856e74713a9a54d9d700bc2c0": {
          "model_module": "@jupyter-widgets/controls",
          "model_name": "ButtonModel",
          "model_module_version": "1.5.0",
          "state": {
            "_dom_classes": [],
            "_model_module": "@jupyter-widgets/controls",
            "_model_module_version": "1.5.0",
            "_model_name": "ButtonModel",
            "_view_count": null,
            "_view_module": "@jupyter-widgets/controls",
            "_view_module_version": "1.5.0",
            "_view_name": "ButtonView",
            "button_style": "",
            "description": "Scale",
            "disabled": false,
            "icon": "",
            "layout": "IPY_MODEL_02d35ecbf7b0473d90b8b5a7d92fffae",
            "style": "IPY_MODEL_b822526bb01642adafd6d06c1b8a6841",
            "tooltip": ""
          }
        },
        "6210cb005c4b43c19576c7a00091c12b": {
          "model_module": "@jupyter-widgets/base",
          "model_name": "LayoutModel",
          "model_module_version": "1.2.0",
          "state": {
            "_model_module": "@jupyter-widgets/base",
            "_model_module_version": "1.2.0",
            "_model_name": "LayoutModel",
            "_view_count": null,
            "_view_module": "@jupyter-widgets/base",
            "_view_module_version": "1.2.0",
            "_view_name": "LayoutView",
            "align_content": null,
            "align_items": null,
            "align_self": null,
            "border": null,
            "bottom": null,
            "display": null,
            "flex": null,
            "flex_flow": null,
            "grid_area": null,
            "grid_auto_columns": null,
            "grid_auto_flow": null,
            "grid_auto_rows": null,
            "grid_column": null,
            "grid_gap": null,
            "grid_row": null,
            "grid_template_areas": null,
            "grid_template_columns": null,
            "grid_template_rows": null,
            "height": null,
            "justify_content": null,
            "justify_items": null,
            "left": null,
            "margin": null,
            "max_height": null,
            "max_width": null,
            "min_height": null,
            "min_width": null,
            "object_fit": null,
            "object_position": null,
            "order": null,
            "overflow": null,
            "overflow_x": null,
            "overflow_y": null,
            "padding": null,
            "right": null,
            "top": null,
            "visibility": null,
            "width": null
          }
        },
        "1956678decf541b0b83e9dc666a99c3d": {
          "model_module": "@jupyter-widgets/controls",
          "model_name": "IntTextModel",
          "model_module_version": "1.5.0",
          "state": {
            "_dom_classes": [],
            "_model_module": "@jupyter-widgets/controls",
            "_model_module_version": "1.5.0",
            "_model_name": "IntTextModel",
            "_view_count": null,
            "_view_module": "@jupyter-widgets/controls",
            "_view_module_version": "1.5.0",
            "_view_name": "IntTextView",
            "continuous_update": false,
            "description": "Minimum",
            "description_tooltip": null,
            "disabled": false,
            "layout": "IPY_MODEL_02d35ecbf7b0473d90b8b5a7d92fffae",
            "step": 1,
            "style": "IPY_MODEL_4ebc5c4f4aad4a55a68f259feaf4a2d7",
            "value": 0
          }
        },
        "9af44a4655ab4397b19f4a71c656e13a": {
          "model_module": "@jupyter-widgets/controls",
          "model_name": "IntTextModel",
          "model_module_version": "1.5.0",
          "state": {
            "_dom_classes": [],
            "_model_module": "@jupyter-widgets/controls",
            "_model_module_version": "1.5.0",
            "_model_name": "IntTextModel",
            "_view_count": null,
            "_view_module": "@jupyter-widgets/controls",
            "_view_module_version": "1.5.0",
            "_view_name": "IntTextView",
            "continuous_update": false,
            "description": "Maximum",
            "description_tooltip": null,
            "disabled": false,
            "layout": "IPY_MODEL_02d35ecbf7b0473d90b8b5a7d92fffae",
            "step": 1,
            "style": "IPY_MODEL_62bf34e780e74f178a33830c37c366dc",
            "value": 0
          }
        },
        "6ac999eb731145f6ad8679af48b86fa2": {
          "model_module": "@jupyter-widgets/controls",
          "model_name": "ButtonModel",
          "model_module_version": "1.5.0",
          "state": {
            "_dom_classes": [],
            "_model_module": "@jupyter-widgets/controls",
            "_model_module_version": "1.5.0",
            "_model_name": "ButtonModel",
            "_view_count": null,
            "_view_module": "@jupyter-widgets/controls",
            "_view_module_version": "1.5.0",
            "_view_name": "ButtonView",
            "button_style": "",
            "description": "Adapt",
            "disabled": false,
            "icon": "",
            "layout": "IPY_MODEL_02d35ecbf7b0473d90b8b5a7d92fffae",
            "style": "IPY_MODEL_8345e909b2224676a8dbcf57d0c2824a",
            "tooltip": ""
          }
        },
        "16597873a31c4936a3eb5fe29140407f": {
          "model_module": "@jupyter-widgets/base",
          "model_name": "LayoutModel",
          "model_module_version": "1.2.0",
          "state": {
            "_model_module": "@jupyter-widgets/base",
            "_model_module_version": "1.2.0",
            "_model_name": "LayoutModel",
            "_view_count": null,
            "_view_module": "@jupyter-widgets/base",
            "_view_module_version": "1.2.0",
            "_view_name": "LayoutView",
            "align_content": null,
            "align_items": null,
            "align_self": null,
            "border": null,
            "bottom": null,
            "display": null,
            "flex": null,
            "flex_flow": null,
            "grid_area": null,
            "grid_auto_columns": null,
            "grid_auto_flow": null,
            "grid_auto_rows": null,
            "grid_column": null,
            "grid_gap": null,
            "grid_row": null,
            "grid_template_areas": null,
            "grid_template_columns": null,
            "grid_template_rows": null,
            "height": null,
            "justify_content": null,
            "justify_items": null,
            "left": null,
            "margin": null,
            "max_height": null,
            "max_width": null,
            "min_height": null,
            "min_width": null,
            "object_fit": null,
            "object_position": null,
            "order": null,
            "overflow": null,
            "overflow_x": null,
            "overflow_y": null,
            "padding": null,
            "right": null,
            "top": null,
            "visibility": null,
            "width": null
          }
        },
        "02d35ecbf7b0473d90b8b5a7d92fffae": {
          "model_module": "@jupyter-widgets/base",
          "model_name": "LayoutModel",
          "model_module_version": "1.2.0",
          "state": {
            "_model_module": "@jupyter-widgets/base",
            "_model_module_version": "1.2.0",
            "_model_name": "LayoutModel",
            "_view_count": null,
            "_view_module": "@jupyter-widgets/base",
            "_view_module_version": "1.2.0",
            "_view_name": "LayoutView",
            "align_content": null,
            "align_items": null,
            "align_self": null,
            "border": null,
            "bottom": null,
            "display": null,
            "flex": null,
            "flex_flow": null,
            "grid_area": null,
            "grid_auto_columns": null,
            "grid_auto_flow": null,
            "grid_auto_rows": null,
            "grid_column": null,
            "grid_gap": null,
            "grid_row": null,
            "grid_template_areas": null,
            "grid_template_columns": null,
            "grid_template_rows": null,
            "height": null,
            "justify_content": null,
            "justify_items": null,
            "left": null,
            "margin": null,
            "max_height": null,
            "max_width": null,
            "min_height": null,
            "min_width": null,
            "object_fit": null,
            "object_position": null,
            "order": null,
            "overflow": null,
            "overflow_x": null,
            "overflow_y": null,
            "padding": null,
            "right": null,
            "top": null,
            "visibility": null,
            "width": "150px"
          }
        },
        "d5af1cb4983c4a77ad87552f02d0b109": {
          "model_module": "@jupyter-widgets/controls",
          "model_name": "DescriptionStyleModel",
          "model_module_version": "1.5.0",
          "state": {
            "_model_module": "@jupyter-widgets/controls",
            "_model_module_version": "1.5.0",
            "_model_name": "DescriptionStyleModel",
            "_view_count": null,
            "_view_module": "@jupyter-widgets/base",
            "_view_module_version": "1.2.0",
            "_view_name": "StyleView",
            "description_width": ""
          }
        },
        "b822526bb01642adafd6d06c1b8a6841": {
          "model_module": "@jupyter-widgets/controls",
          "model_name": "ButtonStyleModel",
          "model_module_version": "1.5.0",
          "state": {
            "_model_module": "@jupyter-widgets/controls",
            "_model_module_version": "1.5.0",
            "_model_name": "ButtonStyleModel",
            "_view_count": null,
            "_view_module": "@jupyter-widgets/base",
            "_view_module_version": "1.2.0",
            "_view_name": "StyleView",
            "button_color": null,
            "font_weight": ""
          }
        },
        "4ebc5c4f4aad4a55a68f259feaf4a2d7": {
          "model_module": "@jupyter-widgets/controls",
          "model_name": "DescriptionStyleModel",
          "model_module_version": "1.5.0",
          "state": {
            "_model_module": "@jupyter-widgets/controls",
            "_model_module_version": "1.5.0",
            "_model_name": "DescriptionStyleModel",
            "_view_count": null,
            "_view_module": "@jupyter-widgets/base",
            "_view_module_version": "1.2.0",
            "_view_name": "StyleView",
            "description_width": ""
          }
        },
        "62bf34e780e74f178a33830c37c366dc": {
          "model_module": "@jupyter-widgets/controls",
          "model_name": "DescriptionStyleModel",
          "model_module_version": "1.5.0",
          "state": {
            "_model_module": "@jupyter-widgets/controls",
            "_model_module_version": "1.5.0",
            "_model_name": "DescriptionStyleModel",
            "_view_count": null,
            "_view_module": "@jupyter-widgets/base",
            "_view_module_version": "1.2.0",
            "_view_name": "StyleView",
            "description_width": ""
          }
        },
        "8345e909b2224676a8dbcf57d0c2824a": {
          "model_module": "@jupyter-widgets/controls",
          "model_name": "ButtonStyleModel",
          "model_module_version": "1.5.0",
          "state": {
            "_model_module": "@jupyter-widgets/controls",
            "_model_module_version": "1.5.0",
            "_model_name": "ButtonStyleModel",
            "_view_count": null,
            "_view_module": "@jupyter-widgets/base",
            "_view_module_version": "1.2.0",
            "_view_name": "StyleView",
            "button_color": null,
            "font_weight": ""
          }
        }
      }
    }
  },
  "nbformat": 4,
  "nbformat_minor": 0
}