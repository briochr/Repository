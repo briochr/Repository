{
  "cells": [
    {
      "cell_type": "markdown",
      "metadata": {
        "id": "ByQUw6ZWZev8"
      },
      "source": [
        "# dask.dataframe\n",
        "\n",
        "<img src=\"https://github.com/ualberta-rcg/python-dask/blob/master/notebooks/assets/dask-dataframe.svg?raw=1\"\n",
        "     align=\"right\"\n",
        "     width=\"20%\"\n",
        "     alt=\"Dask dataframes are blocked Pandas dataframes\">\n",
        "     \n",
        "Dask Dataframes coordinate many Pandas dataframes, partitioned along an index.  They support a large subset of the Pandas API."
      ]
    },
    {
      "cell_type": "markdown",
      "metadata": {
        "id": "NXCCCZ1cZev-"
      },
      "source": [
        "## Start Dask Client for Dashboard\n",
        "\n",
        "Starting the Dask Client is optional.  It will provide a dashboard which\n",
        "is useful to gain insight on the computation.  \n",
        "\n",
        "The link to the dashboard will become visible when you create the client below.  We recommend having it open on one side of your screen while using your notebook on the other side.  This can take some effort to arrange your windows, but seeing them both at the same is very useful when learning."
      ]
    },
    {
      "cell_type": "code",
      "execution_count": null,
      "metadata": {
        "id": "8q14mMDvZev_"
      },
      "outputs": [],
      "source": [
        "# NOTE!!! Don't do this on Colab\n",
        "\n",
        "from dask.distributed import Client, progress\n",
        "client = Client(n_workers=2, threads_per_worker=2, memory_limit='1GB')\n",
        "client"
      ]
    },
    {
      "cell_type": "markdown",
      "metadata": {
        "id": "-A9uZaqHZewA"
      },
      "source": [
        "## Create Random Dataframe"
      ]
    },
    {
      "cell_type": "code",
      "execution_count": null,
      "metadata": {
        "id": "wcHhhU0DZewB"
      },
      "outputs": [],
      "source": [
        "# In order for the following mock datasets to work, we may need to install this further dependency.\n",
        "# Uncomment the needed line ...\n",
        "\n",
        "# !pip install fsspec\n",
        "# !conda install fsspec"
      ]
    },
    {
      "cell_type": "markdown",
      "metadata": {
        "id": "xxUndnjSZewB"
      },
      "source": [
        "We create a random timeseries of data with the following attributes:\n",
        "\n",
        "1.  It stores a record for every 1 second of the first month of 2000\n",
        "2.  Along with a datetime index it has columns for names, ids, and numeric values\n",
        "\n",
        "This is a small dataset (each day is about 6MB, for a total of 180MB). Increase the number of days or reduce the frequency to practice with a larger dataset.\n",
        "\n",
        "We'll dump this mock data into files (one per day)"
      ]
    },
    {
      "cell_type": "code",
      "execution_count": 1,
      "metadata": {
        "id": "UNfOLdXQZewC",
        "outputId": "f8f3aa79-06d5-47b3-f998-473c116acc4b",
        "colab": {
          "base_uri": "https://localhost:8080/"
        }
      },
      "outputs": [
        {
          "output_type": "stream",
          "name": "stderr",
          "text": [
            "/usr/local/lib/python3.11/dist-packages/dask_expr/_collection.py:6004: UserWarning: dask_expr does not support the DataFrameIOFunction protocol for column projection. To enable column projection, please ensure that the signature of `func` includes a `columns=` keyword argument instead.\n",
            "  warnings.warn(\n"
          ]
        }
      ],
      "source": [
        "import os\n",
        "\n",
        "if not os.path.exists('data'):\n",
        "    os.mkdir('data')\n",
        "\n",
        "import dask\n",
        "import datetime\n",
        "\n",
        "ts = dask.datasets.timeseries()\n",
        "\n",
        "name = lambda i:str(datetime.date(2000, 1, 1) + i * datetime.timedelta(days=1))\n",
        "\n",
        "ts.to_csv('data/*.csv', name_function=name);"
      ]
    },
    {
      "cell_type": "code",
      "execution_count": 2,
      "metadata": {
        "id": "iej8INZ3ZewC",
        "outputId": "24ea5d91-0a59-473c-c6be-b123b97762dd",
        "colab": {
          "base_uri": "https://localhost:8080/"
        }
      },
      "outputs": [
        {
          "output_type": "stream",
          "name": "stdout",
          "text": [
            "Help on function timeseries in module dask.datasets:\n",
            "\n",
            "timeseries(start='2000-01-01', end='2000-01-31', freq='1s', partition_freq='1D', dtypes=None, seed=None, **kwargs)\n",
            "    Create timeseries dataframe with random data\n",
            "    \n",
            "    Parameters\n",
            "    ----------\n",
            "    start : datetime (or datetime-like string)\n",
            "        Start of time series\n",
            "    end : datetime (or datetime-like string)\n",
            "        End of time series\n",
            "    dtypes : dict (optional)\n",
            "        Mapping of column names to types.\n",
            "        Valid types include {float, int, str, 'category'}\n",
            "    freq : string\n",
            "        String like '2s' or '1H' or '12W' for the time series frequency\n",
            "    partition_freq : string\n",
            "        String like '1M' or '2Y' to divide the dataframe into partitions\n",
            "    seed : int (optional)\n",
            "        Randomstate seed\n",
            "    kwargs:\n",
            "        Keywords to pass down to individual column creation functions.\n",
            "        Keywords should be prefixed by the column name and then an underscore.\n",
            "    \n",
            "    Examples\n",
            "    --------\n",
            "    >>> import dask\n",
            "    >>> df = dask.datasets.timeseries()\n",
            "    >>> df.head()  # doctest: +SKIP\n",
            "              timestamp    id     name         x         y\n",
            "    2000-01-01 00:00:00   967    Jerry -0.031348 -0.040633\n",
            "    2000-01-01 00:00:01  1066  Michael -0.262136  0.307107\n",
            "    2000-01-01 00:00:02   988    Wendy -0.526331  0.128641\n",
            "    2000-01-01 00:00:03  1016   Yvonne  0.620456  0.767270\n",
            "    2000-01-01 00:00:04   998   Ursula  0.684902 -0.463278\n",
            "    >>> df = dask.datasets.timeseries(\n",
            "    ...     '2000', '2010',\n",
            "    ...     freq='2h', partition_freq='1D', seed=1,  # data frequency\n",
            "    ...     dtypes={'value': float, 'name': str, 'id': int},  # data types\n",
            "    ...     id_lam=1000  # control number of items in id column\n",
            "    ... )\n",
            "\n"
          ]
        }
      ],
      "source": [
        "# If you want to know more about this function to create fake data\n",
        "\n",
        "help(dask.datasets.timeseries)"
      ]
    },
    {
      "cell_type": "code",
      "execution_count": 3,
      "metadata": {
        "id": "8cpwBfb4ZewC",
        "outputId": "31758c6d-84b5-4eb4-dea0-2c1be5554f2e",
        "colab": {
          "base_uri": "https://localhost:8080/"
        }
      },
      "outputs": [
        {
          "output_type": "stream",
          "name": "stdout",
          "text": [
            "data/2000-01-01.csv  data/2000-01-09.csv  data/2000-01-17.csv  data/2000-01-25.csv\n",
            "data/2000-01-02.csv  data/2000-01-10.csv  data/2000-01-18.csv  data/2000-01-26.csv\n",
            "data/2000-01-03.csv  data/2000-01-11.csv  data/2000-01-19.csv  data/2000-01-27.csv\n",
            "data/2000-01-04.csv  data/2000-01-12.csv  data/2000-01-20.csv  data/2000-01-28.csv\n",
            "data/2000-01-05.csv  data/2000-01-13.csv  data/2000-01-21.csv  data/2000-01-29.csv\n",
            "data/2000-01-06.csv  data/2000-01-14.csv  data/2000-01-22.csv  data/2000-01-30.csv\n",
            "data/2000-01-07.csv  data/2000-01-15.csv  data/2000-01-23.csv\n",
            "data/2000-01-08.csv  data/2000-01-16.csv  data/2000-01-24.csv\n",
            "timestamp,name,id,x,y\n",
            "2000-01-01 00:00:00,Edith,984,-0.4340468057422404,-0.5151187345128907\n",
            "2000-01-01 00:00:01,Frank,995,-0.9939937477112384,0.92828928902152\n",
            "2000-01-01 00:00:02,Oliver,1002,-0.9846575304724183,0.33865655096089986\n",
            "2000-01-01 00:00:03,Charlie,988,-0.34512600947980543,0.2965642512026627\n",
            "2000-01-01 00:00:04,Tim,1039,-0.8082284187137172,-0.48249458396355704\n",
            "2000-01-01 00:00:05,Charlie,1007,-0.21595068131974937,-0.5078699306717271\n",
            "2000-01-01 00:00:06,Zelda,1046,0.871111084115519,-0.8870914772803866\n",
            "2000-01-01 00:00:07,Alice,947,-0.6090697002139855,0.41595091049791244\n",
            "2000-01-01 00:00:08,Charlie,942,0.5290755520684189,0.6299134369037775\n"
          ]
        }
      ],
      "source": [
        "# These will work on Mac or Linux\n",
        "\n",
        "!ls data/*.csv\n",
        "\n",
        "!head data/2000-01-01.csv"
      ]
    },
    {
      "cell_type": "markdown",
      "metadata": {
        "id": "7LMF6OozZewD"
      },
      "source": [
        "Now we will load the csv files. Unlike Pandas, dask understands a wildcard * in a filename."
      ]
    },
    {
      "cell_type": "code",
      "execution_count": 4,
      "metadata": {
        "id": "LlRYkCjkZewD",
        "outputId": "a770c698-a02c-4c93-b05e-e027e9320da6",
        "colab": {
          "base_uri": "https://localhost:8080/",
          "height": 272
        }
      },
      "outputs": [
        {
          "output_type": "execute_result",
          "data": {
            "text/plain": [
              "Dask DataFrame Structure:\n",
              "               timestamp    name     id        x        y\n",
              "npartitions=30                                           \n",
              "                  string  string  int64  float64  float64\n",
              "                     ...     ...    ...      ...      ...\n",
              "...                  ...     ...    ...      ...      ...\n",
              "                     ...     ...    ...      ...      ...\n",
              "                     ...     ...    ...      ...      ...\n",
              "Dask Name: to_string_dtype, 2 expressions\n",
              "Expr=ArrowStringConversion(frame=FromMapProjectable(6242bf6))"
            ],
            "text/html": [
              "<div><strong>Dask DataFrame Structure:</strong></div>\n",
              "<table border=\"1\" class=\"dataframe\">\n",
              "  <thead>\n",
              "    <tr style=\"text-align: right;\">\n",
              "      <th></th>\n",
              "      <th>timestamp</th>\n",
              "      <th>name</th>\n",
              "      <th>id</th>\n",
              "      <th>x</th>\n",
              "      <th>y</th>\n",
              "    </tr>\n",
              "    <tr>\n",
              "      <th>npartitions=30</th>\n",
              "      <th></th>\n",
              "      <th></th>\n",
              "      <th></th>\n",
              "      <th></th>\n",
              "      <th></th>\n",
              "    </tr>\n",
              "  </thead>\n",
              "  <tbody>\n",
              "    <tr>\n",
              "      <th></th>\n",
              "      <td>string</td>\n",
              "      <td>string</td>\n",
              "      <td>int64</td>\n",
              "      <td>float64</td>\n",
              "      <td>float64</td>\n",
              "    </tr>\n",
              "    <tr>\n",
              "      <th></th>\n",
              "      <td>...</td>\n",
              "      <td>...</td>\n",
              "      <td>...</td>\n",
              "      <td>...</td>\n",
              "      <td>...</td>\n",
              "    </tr>\n",
              "    <tr>\n",
              "      <th>...</th>\n",
              "      <td>...</td>\n",
              "      <td>...</td>\n",
              "      <td>...</td>\n",
              "      <td>...</td>\n",
              "      <td>...</td>\n",
              "    </tr>\n",
              "    <tr>\n",
              "      <th></th>\n",
              "      <td>...</td>\n",
              "      <td>...</td>\n",
              "      <td>...</td>\n",
              "      <td>...</td>\n",
              "      <td>...</td>\n",
              "    </tr>\n",
              "    <tr>\n",
              "      <th></th>\n",
              "      <td>...</td>\n",
              "      <td>...</td>\n",
              "      <td>...</td>\n",
              "      <td>...</td>\n",
              "      <td>...</td>\n",
              "    </tr>\n",
              "  </tbody>\n",
              "</table>\n",
              "<div>Dask Name: to_string_dtype, 2 expressions</div>"
            ]
          },
          "metadata": {},
          "execution_count": 4
        }
      ],
      "source": [
        "import dask.dataframe as dd\n",
        "\n",
        "df = dd.read_csv('data/2000-*-*.csv')\n",
        "\n",
        "# Unlike Pandas, Dask DataFrames are lazy and so no data is printed here.\n",
        "df"
      ]
    },
    {
      "cell_type": "markdown",
      "metadata": {
        "id": "HapA2tvrZewE"
      },
      "source": [
        "But the column names and dtypes are known."
      ]
    },
    {
      "cell_type": "code",
      "execution_count": 5,
      "metadata": {
        "id": "osCt-30aZewE",
        "outputId": "41cfb266-e457-4aed-884a-b73598d2c6ae",
        "colab": {
          "base_uri": "https://localhost:8080/",
          "height": 241
        }
      },
      "outputs": [
        {
          "output_type": "execute_result",
          "data": {
            "text/plain": [
              "timestamp    string[pyarrow]\n",
              "name         string[pyarrow]\n",
              "id                     int64\n",
              "x                    float64\n",
              "y                    float64\n",
              "dtype: object"
            ],
            "text/html": [
              "<div>\n",
              "<style scoped>\n",
              "    .dataframe tbody tr th:only-of-type {\n",
              "        vertical-align: middle;\n",
              "    }\n",
              "\n",
              "    .dataframe tbody tr th {\n",
              "        vertical-align: top;\n",
              "    }\n",
              "\n",
              "    .dataframe thead th {\n",
              "        text-align: right;\n",
              "    }\n",
              "</style>\n",
              "<table border=\"1\" class=\"dataframe\">\n",
              "  <thead>\n",
              "    <tr style=\"text-align: right;\">\n",
              "      <th></th>\n",
              "      <th>0</th>\n",
              "    </tr>\n",
              "  </thead>\n",
              "  <tbody>\n",
              "    <tr>\n",
              "      <th>timestamp</th>\n",
              "      <td>string[pyarrow]</td>\n",
              "    </tr>\n",
              "    <tr>\n",
              "      <th>name</th>\n",
              "      <td>string[pyarrow]</td>\n",
              "    </tr>\n",
              "    <tr>\n",
              "      <th>id</th>\n",
              "      <td>int64</td>\n",
              "    </tr>\n",
              "    <tr>\n",
              "      <th>x</th>\n",
              "      <td>float64</td>\n",
              "    </tr>\n",
              "    <tr>\n",
              "      <th>y</th>\n",
              "      <td>float64</td>\n",
              "    </tr>\n",
              "  </tbody>\n",
              "</table>\n",
              "</div><br><label><b>dtype:</b> object</label>"
            ]
          },
          "metadata": {},
          "execution_count": 5
        }
      ],
      "source": [
        "df.dtypes"
      ]
    },
    {
      "cell_type": "code",
      "execution_count": 6,
      "metadata": {
        "id": "NnLBSIPIZewE",
        "outputId": "2927a0c0-a3a6-4177-b9d5-5c45f59376e3",
        "colab": {
          "base_uri": "https://localhost:8080/",
          "height": 175
        }
      },
      "outputs": [
        {
          "output_type": "execute_result",
          "data": {
            "image/svg+xml": "<?xml version=\"1.0\" encoding=\"UTF-8\" standalone=\"no\"?>\n<!DOCTYPE svg PUBLIC \"-//W3C//DTD SVG 1.1//EN\"\n \"http://www.w3.org/Graphics/SVG/1.1/DTD/svg11.dtd\">\n<!-- Generated by graphviz version 2.43.0 (0)\n -->\n<!-- Title: %3 Pages: 1 -->\n<svg width=\"430pt\" height=\"116pt\"\n viewBox=\"0.00 0.00 430.00 116.00\" xmlns=\"http://www.w3.org/2000/svg\" xmlns:xlink=\"http://www.w3.org/1999/xlink\">\n<g id=\"graph0\" class=\"graph\" transform=\"scale(1 1) rotate(0) translate(4 112)\">\n<title>%3</title>\n<polygon fill=\"white\" stroke=\"transparent\" points=\"-4,4 -4,-112 426,-112 426,4 -4,4\"/>\n<!-- &#45;1823477793275687038 -->\n<g id=\"node1\" class=\"node\">\n<title>&#45;1823477793275687038</title>\n<polygon fill=\"none\" stroke=\"black\" points=\"422,-108 0,-108 0,-72 422,-72 422,-108\"/>\n<text text-anchor=\"middle\" x=\"211\" y=\"-85\" font-family=\"Helvetica,sans-Serif\" font-size=\"20.00\">ArrowStringConversion(FromMapProjectable)</text>\n</g>\n<!-- 3598626011372404171 -->\n<g id=\"node2\" class=\"node\">\n<title>3598626011372404171</title>\n<polygon fill=\"none\" stroke=\"black\" points=\"312.5,-36 109.5,-36 109.5,0 312.5,0 312.5,-36\"/>\n<text text-anchor=\"middle\" x=\"211\" y=\"-13\" font-family=\"Helvetica,sans-Serif\" font-size=\"20.00\">FromMapProjectable</text>\n</g>\n<!-- 3598626011372404171&#45;&gt;&#45;1823477793275687038 -->\n<g id=\"edge1\" class=\"edge\">\n<title>3598626011372404171&#45;&gt;&#45;1823477793275687038</title>\n<path fill=\"none\" stroke=\"black\" d=\"M211,-36.3C211,-44.02 211,-53.29 211,-61.89\"/>\n<polygon fill=\"black\" stroke=\"black\" points=\"207.5,-61.9 211,-71.9 214.5,-61.9 207.5,-61.9\"/>\n</g>\n</g>\n</svg>\n",
            "text/plain": [
              "<graphviz.graphs.Digraph at 0x7b128c3f61d0>"
            ]
          },
          "metadata": {},
          "execution_count": 6
        }
      ],
      "source": [
        "df.visualize()"
      ]
    },
    {
      "cell_type": "markdown",
      "metadata": {
        "id": "9FHE8VvnZewE"
      },
      "source": [
        "Some operations will automatically display the data."
      ]
    },
    {
      "cell_type": "code",
      "execution_count": 7,
      "metadata": {
        "id": "7FcA7DvSZewF",
        "outputId": "1871a599-3d2f-4516-e886-24939cfb9f0c",
        "colab": {
          "base_uri": "https://localhost:8080/",
          "height": 144
        }
      },
      "outputs": [
        {
          "output_type": "execute_result",
          "data": {
            "text/plain": [
              "             timestamp    name    id         x         y\n",
              "0  2000-01-01 00:00:00   Edith   984 -0.434047 -0.515119\n",
              "1  2000-01-01 00:00:01   Frank   995 -0.993994  0.928289\n",
              "2  2000-01-01 00:00:02  Oliver  1002 -0.984658  0.338657"
            ],
            "text/html": [
              "\n",
              "  <div id=\"df-d6a55f24-6eeb-4ad9-9a54-5695f2827ac2\" class=\"colab-df-container\">\n",
              "    <div>\n",
              "<style scoped>\n",
              "    .dataframe tbody tr th:only-of-type {\n",
              "        vertical-align: middle;\n",
              "    }\n",
              "\n",
              "    .dataframe tbody tr th {\n",
              "        vertical-align: top;\n",
              "    }\n",
              "\n",
              "    .dataframe thead th {\n",
              "        text-align: right;\n",
              "    }\n",
              "</style>\n",
              "<table border=\"1\" class=\"dataframe\">\n",
              "  <thead>\n",
              "    <tr style=\"text-align: right;\">\n",
              "      <th></th>\n",
              "      <th>timestamp</th>\n",
              "      <th>name</th>\n",
              "      <th>id</th>\n",
              "      <th>x</th>\n",
              "      <th>y</th>\n",
              "    </tr>\n",
              "  </thead>\n",
              "  <tbody>\n",
              "    <tr>\n",
              "      <th>0</th>\n",
              "      <td>2000-01-01 00:00:00</td>\n",
              "      <td>Edith</td>\n",
              "      <td>984</td>\n",
              "      <td>-0.434047</td>\n",
              "      <td>-0.515119</td>\n",
              "    </tr>\n",
              "    <tr>\n",
              "      <th>1</th>\n",
              "      <td>2000-01-01 00:00:01</td>\n",
              "      <td>Frank</td>\n",
              "      <td>995</td>\n",
              "      <td>-0.993994</td>\n",
              "      <td>0.928289</td>\n",
              "    </tr>\n",
              "    <tr>\n",
              "      <th>2</th>\n",
              "      <td>2000-01-01 00:00:02</td>\n",
              "      <td>Oliver</td>\n",
              "      <td>1002</td>\n",
              "      <td>-0.984658</td>\n",
              "      <td>0.338657</td>\n",
              "    </tr>\n",
              "  </tbody>\n",
              "</table>\n",
              "</div>\n",
              "    <div class=\"colab-df-buttons\">\n",
              "\n",
              "  <div class=\"colab-df-container\">\n",
              "    <button class=\"colab-df-convert\" onclick=\"convertToInteractive('df-d6a55f24-6eeb-4ad9-9a54-5695f2827ac2')\"\n",
              "            title=\"Convert this dataframe to an interactive table.\"\n",
              "            style=\"display:none;\">\n",
              "\n",
              "  <svg xmlns=\"http://www.w3.org/2000/svg\" height=\"24px\" viewBox=\"0 -960 960 960\">\n",
              "    <path d=\"M120-120v-720h720v720H120Zm60-500h600v-160H180v160Zm220 220h160v-160H400v160Zm0 220h160v-160H400v160ZM180-400h160v-160H180v160Zm440 0h160v-160H620v160ZM180-180h160v-160H180v160Zm440 0h160v-160H620v160Z\"/>\n",
              "  </svg>\n",
              "    </button>\n",
              "\n",
              "  <style>\n",
              "    .colab-df-container {\n",
              "      display:flex;\n",
              "      gap: 12px;\n",
              "    }\n",
              "\n",
              "    .colab-df-convert {\n",
              "      background-color: #E8F0FE;\n",
              "      border: none;\n",
              "      border-radius: 50%;\n",
              "      cursor: pointer;\n",
              "      display: none;\n",
              "      fill: #1967D2;\n",
              "      height: 32px;\n",
              "      padding: 0 0 0 0;\n",
              "      width: 32px;\n",
              "    }\n",
              "\n",
              "    .colab-df-convert:hover {\n",
              "      background-color: #E2EBFA;\n",
              "      box-shadow: 0px 1px 2px rgba(60, 64, 67, 0.3), 0px 1px 3px 1px rgba(60, 64, 67, 0.15);\n",
              "      fill: #174EA6;\n",
              "    }\n",
              "\n",
              "    .colab-df-buttons div {\n",
              "      margin-bottom: 4px;\n",
              "    }\n",
              "\n",
              "    [theme=dark] .colab-df-convert {\n",
              "      background-color: #3B4455;\n",
              "      fill: #D2E3FC;\n",
              "    }\n",
              "\n",
              "    [theme=dark] .colab-df-convert:hover {\n",
              "      background-color: #434B5C;\n",
              "      box-shadow: 0px 1px 3px 1px rgba(0, 0, 0, 0.15);\n",
              "      filter: drop-shadow(0px 1px 2px rgba(0, 0, 0, 0.3));\n",
              "      fill: #FFFFFF;\n",
              "    }\n",
              "  </style>\n",
              "\n",
              "    <script>\n",
              "      const buttonEl =\n",
              "        document.querySelector('#df-d6a55f24-6eeb-4ad9-9a54-5695f2827ac2 button.colab-df-convert');\n",
              "      buttonEl.style.display =\n",
              "        google.colab.kernel.accessAllowed ? 'block' : 'none';\n",
              "\n",
              "      async function convertToInteractive(key) {\n",
              "        const element = document.querySelector('#df-d6a55f24-6eeb-4ad9-9a54-5695f2827ac2');\n",
              "        const dataTable =\n",
              "          await google.colab.kernel.invokeFunction('convertToInteractive',\n",
              "                                                    [key], {});\n",
              "        if (!dataTable) return;\n",
              "\n",
              "        const docLinkHtml = 'Like what you see? Visit the ' +\n",
              "          '<a target=\"_blank\" href=https://colab.research.google.com/notebooks/data_table.ipynb>data table notebook</a>'\n",
              "          + ' to learn more about interactive tables.';\n",
              "        element.innerHTML = '';\n",
              "        dataTable['output_type'] = 'display_data';\n",
              "        await google.colab.output.renderOutput(dataTable, element);\n",
              "        const docLink = document.createElement('div');\n",
              "        docLink.innerHTML = docLinkHtml;\n",
              "        element.appendChild(docLink);\n",
              "      }\n",
              "    </script>\n",
              "  </div>\n",
              "\n",
              "\n",
              "<div id=\"df-da2ab467-d93f-4322-97fd-4cfd3841576f\">\n",
              "  <button class=\"colab-df-quickchart\" onclick=\"quickchart('df-da2ab467-d93f-4322-97fd-4cfd3841576f')\"\n",
              "            title=\"Suggest charts\"\n",
              "            style=\"display:none;\">\n",
              "\n",
              "<svg xmlns=\"http://www.w3.org/2000/svg\" height=\"24px\"viewBox=\"0 0 24 24\"\n",
              "     width=\"24px\">\n",
              "    <g>\n",
              "        <path d=\"M19 3H5c-1.1 0-2 .9-2 2v14c0 1.1.9 2 2 2h14c1.1 0 2-.9 2-2V5c0-1.1-.9-2-2-2zM9 17H7v-7h2v7zm4 0h-2V7h2v10zm4 0h-2v-4h2v4z\"/>\n",
              "    </g>\n",
              "</svg>\n",
              "  </button>\n",
              "\n",
              "<style>\n",
              "  .colab-df-quickchart {\n",
              "      --bg-color: #E8F0FE;\n",
              "      --fill-color: #1967D2;\n",
              "      --hover-bg-color: #E2EBFA;\n",
              "      --hover-fill-color: #174EA6;\n",
              "      --disabled-fill-color: #AAA;\n",
              "      --disabled-bg-color: #DDD;\n",
              "  }\n",
              "\n",
              "  [theme=dark] .colab-df-quickchart {\n",
              "      --bg-color: #3B4455;\n",
              "      --fill-color: #D2E3FC;\n",
              "      --hover-bg-color: #434B5C;\n",
              "      --hover-fill-color: #FFFFFF;\n",
              "      --disabled-bg-color: #3B4455;\n",
              "      --disabled-fill-color: #666;\n",
              "  }\n",
              "\n",
              "  .colab-df-quickchart {\n",
              "    background-color: var(--bg-color);\n",
              "    border: none;\n",
              "    border-radius: 50%;\n",
              "    cursor: pointer;\n",
              "    display: none;\n",
              "    fill: var(--fill-color);\n",
              "    height: 32px;\n",
              "    padding: 0;\n",
              "    width: 32px;\n",
              "  }\n",
              "\n",
              "  .colab-df-quickchart:hover {\n",
              "    background-color: var(--hover-bg-color);\n",
              "    box-shadow: 0 1px 2px rgba(60, 64, 67, 0.3), 0 1px 3px 1px rgba(60, 64, 67, 0.15);\n",
              "    fill: var(--button-hover-fill-color);\n",
              "  }\n",
              "\n",
              "  .colab-df-quickchart-complete:disabled,\n",
              "  .colab-df-quickchart-complete:disabled:hover {\n",
              "    background-color: var(--disabled-bg-color);\n",
              "    fill: var(--disabled-fill-color);\n",
              "    box-shadow: none;\n",
              "  }\n",
              "\n",
              "  .colab-df-spinner {\n",
              "    border: 2px solid var(--fill-color);\n",
              "    border-color: transparent;\n",
              "    border-bottom-color: var(--fill-color);\n",
              "    animation:\n",
              "      spin 1s steps(1) infinite;\n",
              "  }\n",
              "\n",
              "  @keyframes spin {\n",
              "    0% {\n",
              "      border-color: transparent;\n",
              "      border-bottom-color: var(--fill-color);\n",
              "      border-left-color: var(--fill-color);\n",
              "    }\n",
              "    20% {\n",
              "      border-color: transparent;\n",
              "      border-left-color: var(--fill-color);\n",
              "      border-top-color: var(--fill-color);\n",
              "    }\n",
              "    30% {\n",
              "      border-color: transparent;\n",
              "      border-left-color: var(--fill-color);\n",
              "      border-top-color: var(--fill-color);\n",
              "      border-right-color: var(--fill-color);\n",
              "    }\n",
              "    40% {\n",
              "      border-color: transparent;\n",
              "      border-right-color: var(--fill-color);\n",
              "      border-top-color: var(--fill-color);\n",
              "    }\n",
              "    60% {\n",
              "      border-color: transparent;\n",
              "      border-right-color: var(--fill-color);\n",
              "    }\n",
              "    80% {\n",
              "      border-color: transparent;\n",
              "      border-right-color: var(--fill-color);\n",
              "      border-bottom-color: var(--fill-color);\n",
              "    }\n",
              "    90% {\n",
              "      border-color: transparent;\n",
              "      border-bottom-color: var(--fill-color);\n",
              "    }\n",
              "  }\n",
              "</style>\n",
              "\n",
              "  <script>\n",
              "    async function quickchart(key) {\n",
              "      const quickchartButtonEl =\n",
              "        document.querySelector('#' + key + ' button');\n",
              "      quickchartButtonEl.disabled = true;  // To prevent multiple clicks.\n",
              "      quickchartButtonEl.classList.add('colab-df-spinner');\n",
              "      try {\n",
              "        const charts = await google.colab.kernel.invokeFunction(\n",
              "            'suggestCharts', [key], {});\n",
              "      } catch (error) {\n",
              "        console.error('Error during call to suggestCharts:', error);\n",
              "      }\n",
              "      quickchartButtonEl.classList.remove('colab-df-spinner');\n",
              "      quickchartButtonEl.classList.add('colab-df-quickchart-complete');\n",
              "    }\n",
              "    (() => {\n",
              "      let quickchartButtonEl =\n",
              "        document.querySelector('#df-da2ab467-d93f-4322-97fd-4cfd3841576f button');\n",
              "      quickchartButtonEl.style.display =\n",
              "        google.colab.kernel.accessAllowed ? 'block' : 'none';\n",
              "    })();\n",
              "  </script>\n",
              "</div>\n",
              "\n",
              "    </div>\n",
              "  </div>\n"
            ],
            "application/vnd.google.colaboratory.intrinsic+json": {
              "type": "dataframe",
              "summary": "{\n  \"name\": \"df\",\n  \"rows\": 3,\n  \"fields\": [\n    {\n      \"column\": \"timestamp\",\n      \"properties\": {\n        \"dtype\": \"string\",\n        \"num_unique_values\": 3,\n        \"samples\": [\n          \"2000-01-01 00:00:00\",\n          \"2000-01-01 00:00:01\",\n          \"2000-01-01 00:00:02\"\n        ],\n        \"semantic_type\": \"\",\n        \"description\": \"\"\n      }\n    },\n    {\n      \"column\": \"name\",\n      \"properties\": {\n        \"dtype\": \"string\",\n        \"num_unique_values\": 3,\n        \"samples\": [\n          \"Edith\",\n          \"Frank\",\n          \"Oliver\"\n        ],\n        \"semantic_type\": \"\",\n        \"description\": \"\"\n      }\n    },\n    {\n      \"column\": \"id\",\n      \"properties\": {\n        \"dtype\": \"number\",\n        \"std\": 9,\n        \"min\": 984,\n        \"max\": 1002,\n        \"num_unique_values\": 3,\n        \"samples\": [\n          984,\n          995,\n          1002\n        ],\n        \"semantic_type\": \"\",\n        \"description\": \"\"\n      }\n    },\n    {\n      \"column\": \"x\",\n      \"properties\": {\n        \"dtype\": \"number\",\n        \"std\": 0.3206243682152722,\n        \"min\": -0.9939937477112384,\n        \"max\": -0.4340468057422404,\n        \"num_unique_values\": 3,\n        \"samples\": [\n          -0.4340468057422404,\n          -0.9939937477112384,\n          -0.9846575304724184\n        ],\n        \"semantic_type\": \"\",\n        \"description\": \"\"\n      }\n    },\n    {\n      \"column\": \"y\",\n      \"properties\": {\n        \"dtype\": \"number\",\n        \"std\": 0.7257209893480908,\n        \"min\": -0.5151187345128907,\n        \"max\": 0.92828928902152,\n        \"num_unique_values\": 3,\n        \"samples\": [\n          -0.5151187345128907,\n          0.92828928902152,\n          0.3386565509608998\n        ],\n        \"semantic_type\": \"\",\n        \"description\": \"\"\n      }\n    }\n  ]\n}"
            }
          },
          "metadata": {},
          "execution_count": 7
        }
      ],
      "source": [
        "df.head(3)"
      ]
    },
    {
      "cell_type": "markdown",
      "metadata": {
        "id": "wI-apg9AZewF"
      },
      "source": [
        "## Use Standard Pandas Operations\n",
        "\n",
        "Most common Pandas operations operate identically on Dask dataframes"
      ]
    },
    {
      "cell_type": "code",
      "execution_count": 8,
      "metadata": {
        "id": "wgdHnAHsZewF",
        "outputId": "a4675c5c-4f81-49df-af02-a3c1c8e3c26d",
        "colab": {
          "base_uri": "https://localhost:8080/"
        }
      },
      "outputs": [
        {
          "output_type": "execute_result",
          "data": {
            "text/plain": [
              "Dask Series Structure:\n",
              "npartitions=1\n",
              "    float64\n",
              "        ...\n",
              "Dask Name: getitem, 8 expressions\n",
              "Expr=(((Filter(frame=ArrowStringConversion(frame=FromMapProjectable(6242bf6)), predicate=ArrowStringConversion(frame=FromMapProjectable(6242bf6))['y'] > 0))[['name', 'x']]).std(ddof=1, numeric_only=False, split_out=None, observed=False))['x']"
            ]
          },
          "metadata": {},
          "execution_count": 8
        }
      ],
      "source": [
        "df2 = df[df.y > 0]\n",
        "df3 = df2.groupby('name').x.std()\n",
        "df3"
      ]
    },
    {
      "cell_type": "markdown",
      "metadata": {
        "id": "5jfqGgtWZewF"
      },
      "source": [
        "Call `.compute()` when you want your result as a Pandas dataframe.\n",
        "\n",
        "If you started `Client()` above then you may want to watch the status page during computation."
      ]
    },
    {
      "cell_type": "code",
      "execution_count": 9,
      "metadata": {
        "id": "-6YKri8OZewG",
        "outputId": "652b280b-4df6-41db-e911-427c8a87618d",
        "colab": {
          "base_uri": "https://localhost:8080/",
          "height": 204
        }
      },
      "outputs": [
        {
          "output_type": "execute_result",
          "data": {
            "text/plain": [
              "pandas.core.series.Series"
            ],
            "text/html": [
              "<div style=\"max-width:800px; border: 1px solid var(--colab-border-color);\"><style>\n",
              "      pre.function-repr-contents {\n",
              "        overflow-x: auto;\n",
              "        padding: 8px 12px;\n",
              "        max-height: 500px;\n",
              "      }\n",
              "\n",
              "      pre.function-repr-contents.function-repr-contents-collapsed {\n",
              "        cursor: pointer;\n",
              "        max-height: 100px;\n",
              "      }\n",
              "    </style>\n",
              "    <pre style=\"white-space: initial; background:\n",
              "         var(--colab-secondary-surface-color); padding: 8px 12px;\n",
              "         border-bottom: 1px solid var(--colab-border-color);\"><b>pandas.core.series.Series</b><br/>def __init__(data=None, index=None, dtype: Dtype | None=None, name=None, copy: bool | None=None, fastpath: bool | lib.NoDefault=lib.no_default) -&gt; None</pre><pre class=\"function-repr-contents function-repr-contents-collapsed\" style=\"\"><a class=\"filepath\" style=\"display:none\" href=\"#\">/usr/local/lib/python3.11/dist-packages/pandas/core/series.py</a>One-dimensional ndarray with axis labels (including time series).\n",
              "\n",
              "Labels need not be unique but must be a hashable type. The object\n",
              "supports both integer- and label-based indexing and provides a host of\n",
              "methods for performing operations involving the index. Statistical\n",
              "methods from ndarray have been overridden to automatically exclude\n",
              "missing data (currently represented as NaN).\n",
              "\n",
              "Operations between Series (+, -, /, \\*, \\*\\*) align values based on their\n",
              "associated index values-- they need not be the same length. The result\n",
              "index will be the sorted union of the two indexes.\n",
              "\n",
              "Parameters\n",
              "----------\n",
              "data : array-like, Iterable, dict, or scalar value\n",
              "    Contains data stored in Series. If data is a dict, argument order is\n",
              "    maintained.\n",
              "index : array-like or Index (1d)\n",
              "    Values must be hashable and have the same length as `data`.\n",
              "    Non-unique index values are allowed. Will default to\n",
              "    RangeIndex (0, 1, 2, ..., n) if not provided. If data is dict-like\n",
              "    and index is None, then the keys in the data are used as the index. If the\n",
              "    index is not None, the resulting Series is reindexed with the index values.\n",
              "dtype : str, numpy.dtype, or ExtensionDtype, optional\n",
              "    Data type for the output Series. If not specified, this will be\n",
              "    inferred from `data`.\n",
              "    See the :ref:`user guide &lt;basics.dtypes&gt;` for more usages.\n",
              "name : Hashable, default None\n",
              "    The name to give to the Series.\n",
              "copy : bool, default False\n",
              "    Copy input data. Only affects Series or 1d ndarray input. See examples.\n",
              "\n",
              "Notes\n",
              "-----\n",
              "Please reference the :ref:`User Guide &lt;basics.series&gt;` for more information.\n",
              "\n",
              "Examples\n",
              "--------\n",
              "Constructing Series from a dictionary with an Index specified\n",
              "\n",
              "&gt;&gt;&gt; d = {&#x27;a&#x27;: 1, &#x27;b&#x27;: 2, &#x27;c&#x27;: 3}\n",
              "&gt;&gt;&gt; ser = pd.Series(data=d, index=[&#x27;a&#x27;, &#x27;b&#x27;, &#x27;c&#x27;])\n",
              "&gt;&gt;&gt; ser\n",
              "a   1\n",
              "b   2\n",
              "c   3\n",
              "dtype: int64\n",
              "\n",
              "The keys of the dictionary match with the Index values, hence the Index\n",
              "values have no effect.\n",
              "\n",
              "&gt;&gt;&gt; d = {&#x27;a&#x27;: 1, &#x27;b&#x27;: 2, &#x27;c&#x27;: 3}\n",
              "&gt;&gt;&gt; ser = pd.Series(data=d, index=[&#x27;x&#x27;, &#x27;y&#x27;, &#x27;z&#x27;])\n",
              "&gt;&gt;&gt; ser\n",
              "x   NaN\n",
              "y   NaN\n",
              "z   NaN\n",
              "dtype: float64\n",
              "\n",
              "Note that the Index is first build with the keys from the dictionary.\n",
              "After this the Series is reindexed with the given Index values, hence we\n",
              "get all NaN as a result.\n",
              "\n",
              "Constructing Series from a list with `copy=False`.\n",
              "\n",
              "&gt;&gt;&gt; r = [1, 2]\n",
              "&gt;&gt;&gt; ser = pd.Series(r, copy=False)\n",
              "&gt;&gt;&gt; ser.iloc[0] = 999\n",
              "&gt;&gt;&gt; r\n",
              "[1, 2]\n",
              "&gt;&gt;&gt; ser\n",
              "0    999\n",
              "1      2\n",
              "dtype: int64\n",
              "\n",
              "Due to input data type the Series has a `copy` of\n",
              "the original data even though `copy=False`, so\n",
              "the data is unchanged.\n",
              "\n",
              "Constructing Series from a 1d ndarray with `copy=False`.\n",
              "\n",
              "&gt;&gt;&gt; r = np.array([1, 2])\n",
              "&gt;&gt;&gt; ser = pd.Series(r, copy=False)\n",
              "&gt;&gt;&gt; ser.iloc[0] = 999\n",
              "&gt;&gt;&gt; r\n",
              "array([999,   2])\n",
              "&gt;&gt;&gt; ser\n",
              "0    999\n",
              "1      2\n",
              "dtype: int64\n",
              "\n",
              "Due to input data type the Series has a `view` on\n",
              "the original data, so\n",
              "the data is changed as well.</pre>\n",
              "      <script>\n",
              "      if (google.colab.kernel.accessAllowed && google.colab.files && google.colab.files.view) {\n",
              "        for (const element of document.querySelectorAll('.filepath')) {\n",
              "          element.style.display = 'block'\n",
              "          element.onclick = (event) => {\n",
              "            event.preventDefault();\n",
              "            event.stopPropagation();\n",
              "            google.colab.files.view(element.textContent, 263);\n",
              "          };\n",
              "        }\n",
              "      }\n",
              "      for (const element of document.querySelectorAll('.function-repr-contents')) {\n",
              "        element.onclick = (event) => {\n",
              "          event.preventDefault();\n",
              "          event.stopPropagation();\n",
              "          element.classList.toggle('function-repr-contents-collapsed');\n",
              "        };\n",
              "      }\n",
              "      </script>\n",
              "      </div>"
            ]
          },
          "metadata": {},
          "execution_count": 9
        }
      ],
      "source": [
        "computed_df = df3.compute()\n",
        "type(computed_df)"
      ]
    },
    {
      "cell_type": "code",
      "execution_count": 10,
      "metadata": {
        "id": "ANvnIdPeZewG",
        "outputId": "06e718c2-4bb2-4195-9011-03b0313ef01d",
        "colab": {
          "base_uri": "https://localhost:8080/",
          "height": 931
        }
      },
      "outputs": [
        {
          "output_type": "execute_result",
          "data": {
            "text/plain": [
              "name\n",
              "Bob         0.577208\n",
              "Dan         0.577640\n",
              "Edith       0.578059\n",
              "George      0.577237\n",
              "Hannah      0.578278\n",
              "Ingrid      0.576515\n",
              "Laura       0.575322\n",
              "Michael     0.578273\n",
              "Quinn       0.577213\n",
              "Ray         0.578988\n",
              "Sarah       0.578877\n",
              "Wendy       0.576002\n",
              "Yvonne      0.577102\n",
              "Zelda       0.575091\n",
              "Alice       0.576187\n",
              "Charlie     0.575428\n",
              "Frank       0.578944\n",
              "Jerry       0.577457\n",
              "Kevin       0.576573\n",
              "Norbert     0.577239\n",
              "Oliver      0.576812\n",
              "Patricia    0.577865\n",
              "Tim         0.578468\n",
              "Ursula      0.577022\n",
              "Victor      0.577528\n",
              "Xavier      0.577157\n",
              "Name: x, dtype: float64"
            ],
            "text/html": [
              "<div>\n",
              "<style scoped>\n",
              "    .dataframe tbody tr th:only-of-type {\n",
              "        vertical-align: middle;\n",
              "    }\n",
              "\n",
              "    .dataframe tbody tr th {\n",
              "        vertical-align: top;\n",
              "    }\n",
              "\n",
              "    .dataframe thead th {\n",
              "        text-align: right;\n",
              "    }\n",
              "</style>\n",
              "<table border=\"1\" class=\"dataframe\">\n",
              "  <thead>\n",
              "    <tr style=\"text-align: right;\">\n",
              "      <th></th>\n",
              "      <th>x</th>\n",
              "    </tr>\n",
              "    <tr>\n",
              "      <th>name</th>\n",
              "      <th></th>\n",
              "    </tr>\n",
              "  </thead>\n",
              "  <tbody>\n",
              "    <tr>\n",
              "      <th>Bob</th>\n",
              "      <td>0.577208</td>\n",
              "    </tr>\n",
              "    <tr>\n",
              "      <th>Dan</th>\n",
              "      <td>0.577640</td>\n",
              "    </tr>\n",
              "    <tr>\n",
              "      <th>Edith</th>\n",
              "      <td>0.578059</td>\n",
              "    </tr>\n",
              "    <tr>\n",
              "      <th>George</th>\n",
              "      <td>0.577237</td>\n",
              "    </tr>\n",
              "    <tr>\n",
              "      <th>Hannah</th>\n",
              "      <td>0.578278</td>\n",
              "    </tr>\n",
              "    <tr>\n",
              "      <th>Ingrid</th>\n",
              "      <td>0.576515</td>\n",
              "    </tr>\n",
              "    <tr>\n",
              "      <th>Laura</th>\n",
              "      <td>0.575322</td>\n",
              "    </tr>\n",
              "    <tr>\n",
              "      <th>Michael</th>\n",
              "      <td>0.578273</td>\n",
              "    </tr>\n",
              "    <tr>\n",
              "      <th>Quinn</th>\n",
              "      <td>0.577213</td>\n",
              "    </tr>\n",
              "    <tr>\n",
              "      <th>Ray</th>\n",
              "      <td>0.578988</td>\n",
              "    </tr>\n",
              "    <tr>\n",
              "      <th>Sarah</th>\n",
              "      <td>0.578877</td>\n",
              "    </tr>\n",
              "    <tr>\n",
              "      <th>Wendy</th>\n",
              "      <td>0.576002</td>\n",
              "    </tr>\n",
              "    <tr>\n",
              "      <th>Yvonne</th>\n",
              "      <td>0.577102</td>\n",
              "    </tr>\n",
              "    <tr>\n",
              "      <th>Zelda</th>\n",
              "      <td>0.575091</td>\n",
              "    </tr>\n",
              "    <tr>\n",
              "      <th>Alice</th>\n",
              "      <td>0.576187</td>\n",
              "    </tr>\n",
              "    <tr>\n",
              "      <th>Charlie</th>\n",
              "      <td>0.575428</td>\n",
              "    </tr>\n",
              "    <tr>\n",
              "      <th>Frank</th>\n",
              "      <td>0.578944</td>\n",
              "    </tr>\n",
              "    <tr>\n",
              "      <th>Jerry</th>\n",
              "      <td>0.577457</td>\n",
              "    </tr>\n",
              "    <tr>\n",
              "      <th>Kevin</th>\n",
              "      <td>0.576573</td>\n",
              "    </tr>\n",
              "    <tr>\n",
              "      <th>Norbert</th>\n",
              "      <td>0.577239</td>\n",
              "    </tr>\n",
              "    <tr>\n",
              "      <th>Oliver</th>\n",
              "      <td>0.576812</td>\n",
              "    </tr>\n",
              "    <tr>\n",
              "      <th>Patricia</th>\n",
              "      <td>0.577865</td>\n",
              "    </tr>\n",
              "    <tr>\n",
              "      <th>Tim</th>\n",
              "      <td>0.578468</td>\n",
              "    </tr>\n",
              "    <tr>\n",
              "      <th>Ursula</th>\n",
              "      <td>0.577022</td>\n",
              "    </tr>\n",
              "    <tr>\n",
              "      <th>Victor</th>\n",
              "      <td>0.577528</td>\n",
              "    </tr>\n",
              "    <tr>\n",
              "      <th>Xavier</th>\n",
              "      <td>0.577157</td>\n",
              "    </tr>\n",
              "  </tbody>\n",
              "</table>\n",
              "</div><br><label><b>dtype:</b> float64</label>"
            ]
          },
          "metadata": {},
          "execution_count": 10
        }
      ],
      "source": [
        "computed_df"
      ]
    },
    {
      "cell_type": "code",
      "execution_count": 11,
      "metadata": {
        "id": "o5VHPsfsZewG",
        "outputId": "a235b9a4-1c66-48dd-a8a0-664ce9713bb2",
        "colab": {
          "base_uri": "https://localhost:8080/",
          "height": 751
        }
      },
      "outputs": [
        {
          "output_type": "execute_result",
          "data": {
            "image/svg+xml": "<?xml version=\"1.0\" encoding=\"UTF-8\" standalone=\"no\"?>\n<!DOCTYPE svg PUBLIC \"-//W3C//DTD SVG 1.1//EN\"\n \"http://www.w3.org/Graphics/SVG/1.1/DTD/svg11.dtd\">\n<!-- Generated by graphviz version 2.43.0 (0)\n -->\n<!-- Title: %3 Pages: 1 -->\n<svg width=\"493pt\" height=\"548pt\"\n viewBox=\"0.00 0.00 493.00 548.00\" xmlns=\"http://www.w3.org/2000/svg\" xmlns:xlink=\"http://www.w3.org/1999/xlink\">\n<g id=\"graph0\" class=\"graph\" transform=\"scale(1 1) rotate(0) translate(4 544)\">\n<title>%3</title>\n<polygon fill=\"white\" stroke=\"transparent\" points=\"-4,4 -4,-544 489,-544 489,4 -4,4\"/>\n<!-- 1470337476471807607 -->\n<g id=\"node1\" class=\"node\">\n<title>1470337476471807607</title>\n<polygon fill=\"none\" stroke=\"black\" points=\"252,-540 82,-540 82,-504 252,-504 252,-540\"/>\n<text text-anchor=\"middle\" x=\"167\" y=\"-517\" font-family=\"Helvetica,sans-Serif\" font-size=\"20.00\">Projection(Std, x)</text>\n</g>\n<!-- &#45;4575971208072382685 -->\n<g id=\"node2\" class=\"node\">\n<title>&#45;4575971208072382685</title>\n<polygon fill=\"none\" stroke=\"black\" points=\"241.5,-468 92.5,-468 92.5,-432 241.5,-432 241.5,-468\"/>\n<text text-anchor=\"middle\" x=\"167\" y=\"-445\" font-family=\"Helvetica,sans-Serif\" font-size=\"20.00\">Std(Projection)</text>\n</g>\n<!-- &#45;4575971208072382685&#45;&gt;1470337476471807607 -->\n<g id=\"edge1\" class=\"edge\">\n<title>&#45;4575971208072382685&#45;&gt;1470337476471807607</title>\n<path fill=\"none\" stroke=\"black\" d=\"M167,-468.3C167,-476.02 167,-485.29 167,-493.89\"/>\n<polygon fill=\"black\" stroke=\"black\" points=\"163.5,-493.9 167,-503.9 170.5,-493.9 163.5,-493.9\"/>\n</g>\n<!-- &#45;556873555226626398 -->\n<g id=\"node3\" class=\"node\">\n<title>&#45;556873555226626398</title>\n<polygon fill=\"none\" stroke=\"black\" points=\"301.5,-396 32.5,-396 32.5,-360 301.5,-360 301.5,-396\"/>\n<text text-anchor=\"middle\" x=\"167\" y=\"-373\" font-family=\"Helvetica,sans-Serif\" font-size=\"20.00\">Projection(Filter, [&#39;name&#39;, &#39;x&#39;])</text>\n</g>\n<!-- &#45;556873555226626398&#45;&gt;&#45;4575971208072382685 -->\n<g id=\"edge2\" class=\"edge\">\n<title>&#45;556873555226626398&#45;&gt;&#45;4575971208072382685</title>\n<path fill=\"none\" stroke=\"black\" d=\"M167,-396.3C167,-404.02 167,-413.29 167,-421.89\"/>\n<polygon fill=\"black\" stroke=\"black\" points=\"163.5,-421.9 167,-431.9 170.5,-421.9 163.5,-421.9\"/>\n</g>\n<!-- 1150683981417953281 -->\n<g id=\"node4\" class=\"node\">\n<title>1150683981417953281</title>\n<polygon fill=\"none\" stroke=\"black\" points=\"326.5,-324 7.5,-324 7.5,-288 326.5,-288 326.5,-324\"/>\n<text text-anchor=\"middle\" x=\"167\" y=\"-301\" font-family=\"Helvetica,sans-Serif\" font-size=\"20.00\">Filter(ArrowStringConversion, GT)</text>\n</g>\n<!-- 1150683981417953281&#45;&gt;&#45;556873555226626398 -->\n<g id=\"edge3\" class=\"edge\">\n<title>1150683981417953281&#45;&gt;&#45;556873555226626398</title>\n<path fill=\"none\" stroke=\"black\" d=\"M167,-324.3C167,-332.02 167,-341.29 167,-349.89\"/>\n<polygon fill=\"black\" stroke=\"black\" points=\"163.5,-349.9 167,-359.9 170.5,-349.9 163.5,-349.9\"/>\n</g>\n<!-- &#45;3654841724796753121 -->\n<g id=\"node5\" class=\"node\">\n<title>&#45;3654841724796753121</title>\n<polygon fill=\"none\" stroke=\"black\" points=\"351.5,-252 182.5,-252 182.5,-216 351.5,-216 351.5,-252\"/>\n<text text-anchor=\"middle\" x=\"267\" y=\"-229\" font-family=\"Helvetica,sans-Serif\" font-size=\"20.00\">GT(Projection, 0)</text>\n</g>\n<!-- &#45;3654841724796753121&#45;&gt;1150683981417953281 -->\n<g id=\"edge5\" class=\"edge\">\n<title>&#45;3654841724796753121&#45;&gt;1150683981417953281</title>\n<path fill=\"none\" stroke=\"black\" d=\"M242.54,-252.12C229.7,-261.11 213.8,-272.24 199.91,-281.97\"/>\n<polygon fill=\"black\" stroke=\"black\" points=\"197.74,-279.21 191.56,-287.81 201.76,-284.94 197.74,-279.21\"/>\n</g>\n<!-- 278253701922605487 -->\n<g id=\"node6\" class=\"node\">\n<title>278253701922605487</title>\n<polygon fill=\"none\" stroke=\"black\" points=\"485,-180 139,-180 139,-144 485,-144 485,-180\"/>\n<text text-anchor=\"middle\" x=\"312\" y=\"-157\" font-family=\"Helvetica,sans-Serif\" font-size=\"20.00\">Projection(ArrowStringConversion, y)</text>\n</g>\n<!-- 278253701922605487&#45;&gt;&#45;3654841724796753121 -->\n<g id=\"edge6\" class=\"edge\">\n<title>278253701922605487&#45;&gt;&#45;3654841724796753121</title>\n<path fill=\"none\" stroke=\"black\" d=\"M300.88,-180.3C295.64,-188.44 289.3,-198.31 283.52,-207.3\"/>\n<polygon fill=\"black\" stroke=\"black\" points=\"280.46,-205.59 278,-215.9 286.35,-209.38 280.46,-205.59\"/>\n</g>\n<!-- &#45;1823477793275687038 -->\n<g id=\"node7\" class=\"node\">\n<title>&#45;1823477793275687038</title>\n<polygon fill=\"none\" stroke=\"black\" points=\"422,-108 0,-108 0,-72 422,-72 422,-108\"/>\n<text text-anchor=\"middle\" x=\"211\" y=\"-85\" font-family=\"Helvetica,sans-Serif\" font-size=\"20.00\">ArrowStringConversion(FromMapProjectable)</text>\n</g>\n<!-- &#45;1823477793275687038&#45;&gt;1150683981417953281 -->\n<g id=\"edge4\" class=\"edge\">\n<title>&#45;1823477793275687038&#45;&gt;1150683981417953281</title>\n<path fill=\"none\" stroke=\"black\" d=\"M168.89,-108.13C153.82,-116.55 138.47,-128.33 130,-144 106.31,-187.81 131.79,-246.28 150.63,-279.35\"/>\n<polygon fill=\"black\" stroke=\"black\" points=\"147.62,-281.14 155.72,-287.97 153.65,-277.58 147.62,-281.14\"/>\n</g>\n<!-- &#45;1823477793275687038&#45;&gt;278253701922605487 -->\n<g id=\"edge7\" class=\"edge\">\n<title>&#45;1823477793275687038&#45;&gt;278253701922605487</title>\n<path fill=\"none\" stroke=\"black\" d=\"M235.71,-108.12C248.67,-117.11 264.73,-128.24 278.77,-137.97\"/>\n<polygon fill=\"black\" stroke=\"black\" points=\"276.98,-140.99 287.2,-143.81 280.97,-135.24 276.98,-140.99\"/>\n</g>\n<!-- 3598626011372404171 -->\n<g id=\"node8\" class=\"node\">\n<title>3598626011372404171</title>\n<polygon fill=\"none\" stroke=\"black\" points=\"312.5,-36 109.5,-36 109.5,0 312.5,0 312.5,-36\"/>\n<text text-anchor=\"middle\" x=\"211\" y=\"-13\" font-family=\"Helvetica,sans-Serif\" font-size=\"20.00\">FromMapProjectable</text>\n</g>\n<!-- 3598626011372404171&#45;&gt;&#45;1823477793275687038 -->\n<g id=\"edge8\" class=\"edge\">\n<title>3598626011372404171&#45;&gt;&#45;1823477793275687038</title>\n<path fill=\"none\" stroke=\"black\" d=\"M211,-36.3C211,-44.02 211,-53.29 211,-61.89\"/>\n<polygon fill=\"black\" stroke=\"black\" points=\"207.5,-61.9 211,-71.9 214.5,-61.9 207.5,-61.9\"/>\n</g>\n</g>\n</svg>\n",
            "text/plain": [
              "<graphviz.graphs.Digraph at 0x7b122c456e90>"
            ]
          },
          "metadata": {},
          "execution_count": 11
        }
      ],
      "source": [
        "df3.visualize()"
      ]
    },
    {
      "cell_type": "markdown",
      "metadata": {
        "id": "Gw1X6w2xZewG"
      },
      "source": [
        "## Exercise:\n",
        "\n",
        "* Find the mean x value for all people named Alice\n",
        "* Sum the id numbers for all people named Tim\n",
        "\n",
        "(Note: these are really just Pandas exercises, the fact that we are using Dask is mostly transparent.)"
      ]
    },
    {
      "cell_type": "markdown",
      "metadata": {
        "id": "F-Vg3SxFZewG"
      },
      "source": [
        "[On to the next notebook (`dask.bag`)](06-bag.ipynb) ..."
      ]
    },
    {
      "cell_type": "code",
      "source": [
        "df4 = df[df['name'] == 'Alice'].x.std()\n",
        "result = df4.compute()\n",
        "result"
      ],
      "metadata": {
        "id": "98PSQtiXbcox",
        "outputId": "d08a0b97-eda7-4a7c-d1a4-596a3a723f80",
        "colab": {
          "base_uri": "https://localhost:8080/"
        }
      },
      "execution_count": 15,
      "outputs": [
        {
          "output_type": "execute_result",
          "data": {
            "text/plain": [
              "np.float64(0.5761024108256243)"
            ]
          },
          "metadata": {},
          "execution_count": 15
        }
      ]
    },
    {
      "cell_type": "code",
      "source": [
        "df5 = df[df['name'] == \"Tim\"].id.sum()\n",
        "result = df5.compute()\n",
        "result"
      ],
      "metadata": {
        "id": "HyB5bY2weZn6",
        "outputId": "450bc9ca-79d7-4497-fb9a-17b0a1d3ab16",
        "colab": {
          "base_uri": "https://localhost:8080/"
        }
      },
      "execution_count": 16,
      "outputs": [
        {
          "output_type": "execute_result",
          "data": {
            "text/plain": [
              "np.int64(99072425)"
            ]
          },
          "metadata": {},
          "execution_count": 16
        }
      ]
    }
  ],
  "metadata": {
    "kernelspec": {
      "display_name": "Python 3 (ipykernel)",
      "language": "python",
      "name": "python3"
    },
    "language_info": {
      "codemirror_mode": {
        "name": "ipython",
        "version": 3
      },
      "file_extension": ".py",
      "mimetype": "text/x-python",
      "name": "python",
      "nbconvert_exporter": "python",
      "pygments_lexer": "ipython3",
      "version": "3.9.7"
    },
    "colab": {
      "provenance": []
    }
  },
  "nbformat": 4,
  "nbformat_minor": 0
}