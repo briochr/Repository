{
  "cells": [
    {
      "cell_type": "markdown",
      "metadata": {
        "id": "wBU-AXEaZe-u"
      },
      "source": [
        "# dask.bag\n",
        "\n",
        "Bag: Parallel Lists for semi-structured data\n",
        "\n",
        "Dask-bag excels in processing data that can be represented as a sequence of arbitrary inputs. We'll refer to this as \"messy\" data, because it can contain complex nested structures, missing fields, mixtures of data types, etc.\n",
        "\n",
        "Messy data is often encountered at the beginning of data processing pipelines when large volumes of raw data are first consumed. The initial set of data might be log files, or data stored in JSON, CSV, XML, or any other format that does not enforce strict structure and datatypes. For this reason, the initial data massaging and processing is often done with Python lists, dicts, and sets.\n",
        "\n",
        "These core data structures are optimized for general-purpose storage and processing. Adding streaming computation with iterators/generator expressions or libraries like itertools or toolz let us process large volumes in a small space. If we combine this with parallel processing then we can churn through a fair amount of data.\n",
        "\n",
        "Dask Bag implements operations like `map`, `filter`, `groupby` and aggregations on collections of Python objects. It does this in parallel and in small memory using Python iterators.\n",
        "\n",
        "Full API documentation is available here: http://docs.dask.org/en/latest/bag-api.html"
      ]
    },
    {
      "cell_type": "markdown",
      "metadata": {
        "id": "AbJFTl8TZe-x"
      },
      "source": [
        "## An aside about dirty, unstructured data from web/REST APIs\n",
        "\n",
        "The term `REST API` is used a lot to mean a number of things. REST means [Representational State Transfer](https://en.wikipedia.org/wiki/Representational_state_transfer). Most people take REST to mean \"a web host that gives me data in JSON format\" (and JSON means [Javascript Object Notation](https://en.wikipedia.org/wiki/JSON)). This technically isn't accurate, but you will often hear people use the terms `REST API` and `web API` interchangably.\n",
        "\n",
        "As an example, the Compute Canada docunentation has a web API for doing searches and fetching answers in a machine readable format. For example, visit this page:\n",
        "\n",
        "<https://docs.computecanada.ca/mediawiki/api.php?action=query&list=search&srsearch=Python&format=json>\n",
        "\n",
        "Python has a library for fetching and parsing data from web APIs called `Requests`. Below is an example of using requests to fetch this same data from the Compute Canada documentation:"
      ]
    },
    {
      "cell_type": "code",
      "execution_count": 1,
      "metadata": {
        "id": "O1jZyXlhZe-x",
        "outputId": "a00b2ec4-c7e6-4476-870f-e4152ed22d6b",
        "colab": {
          "base_uri": "https://localhost:8080/"
        }
      },
      "outputs": [
        {
          "output_type": "execute_result",
          "data": {
            "text/plain": [
              "200"
            ]
          },
          "metadata": {},
          "execution_count": 1
        }
      ],
      "source": [
        "import requests\n",
        "\n",
        "r = requests.get('https://docs.computecanada.ca/mediawiki/api.php?action=query&list=search&srsearch=Python&format=json'\n",
        ")\n",
        "\n",
        "# We should always check the response status code coming from the server ... 200 is the one we want from a GET request\n",
        "r.status_code"
      ]
    },
    {
      "cell_type": "code",
      "execution_count": 2,
      "metadata": {
        "id": "EEBzxPj4Ze-y",
        "outputId": "8a440e39-d62d-4f22-d214-a0d5893217f6",
        "colab": {
          "base_uri": "https://localhost:8080/"
        }
      },
      "outputs": [
        {
          "output_type": "execute_result",
          "data": {
            "text/plain": [
              "{'batchcomplete': '',\n",
              " 'query': {'searchinfo': {'totalhits': 7},\n",
              "  'search': [{'ns': 0,\n",
              "    'title': 'Python',\n",
              "    'pageid': 618,\n",
              "    'size': 30470,\n",
              "    'wordcount': 4439,\n",
              "    'snippet': \"...hy stressing the readability of code. Its syntax is simple and expressive. <span class='searchmatch'>Python</span> has an extensive, easy-to-use standard library.\\n...in their own directories. However, most systems offer several versions of <span class='searchmatch'>Python</span> as well as tools to help you install the third-party packages that you need\\n\",\n",
              "    'timestamp': '2024-10-17T19:35:58Z'},\n",
              "   {'ns': 0,\n",
              "    'title': 'Python/en',\n",
              "    'pageid': 2586,\n",
              "    'size': 29110,\n",
              "    'wordcount': 4217,\n",
              "    'snippet': \"...hy stressing the readability of code. Its syntax is simple and expressive. <span class='searchmatch'>Python</span> has an extensive, easy-to-use standard library.\\n...in their own directories. However, most systems offer several versions of <span class='searchmatch'>Python</span> as well as tools to help you install the third-party packages that you need\\n\",\n",
              "    'timestamp': '2024-10-17T19:36:24Z'},\n",
              "   {'ns': 0,\n",
              "    'title': 'Python/fr',\n",
              "    'pageid': 2588,\n",
              "    'size': 30869,\n",
              "    'wordcount': 4468,\n",
              "    'snippet': \"[http://www.<span class='searchmatch'>python</span>.org/ <span class='searchmatch'>Python</span>] est un langage de programmation interprété dont la philosophie de design\\n...che, nous mettons à votre disposition plusieurs versions de l&#039;interpréteur <span class='searchmatch'>Python</span> et les outils nécessaires pour que vous puissiez facilement installer les \\n\",\n",
              "    'timestamp': '2024-10-17T19:46:02Z'},\n",
              "   {'ns': 0,\n",
              "    'title': 'Available Python wheels/fr',\n",
              "    'pageid': 9563,\n",
              "    'size': 1702,\n",
              "    'wordcount': 232,\n",
              "    'snippet': \"...ouverez à la dernière section les [https://pythonwheels.com/ &lt;i&gt;wheels&lt;/i&gt; <span class='searchmatch'>Python</span>] qui sont disponibles sur nos grappes nationales. Ces listes sont mises à \\n...tdEnv actif, utilisez la commande &lt;code&gt;avail_wheels&lt;/code&gt; décrite dans [[<span class='searchmatch'>Python</span>/fr#Wheels_disponibles|Wheels disponibles]].\\n\",\n",
              "    'timestamp': '2024-11-21T20:59:06Z'},\n",
              "   {'ns': 0,\n",
              "    'title': 'Available Python wheels/en',\n",
              "    'pageid': 9561,\n",
              "    'size': 1536,\n",
              "    'wordcount': 216,\n",
              "    'snippet': \"A current list of the [https://pythonwheels.com/ <span class='searchmatch'>Python</span> wheels] available from the wheelhouse on our national systems is presented \\n...ur active StdEnv, use the &lt;code&gt;avail_wheels&lt;/code&gt; command described in [[<span class='searchmatch'>Python</span>#Available_wheels|Available wheels]].\\n\",\n",
              "    'timestamp': '2024-11-21T20:55:30Z'},\n",
              "   {'ns': 0,\n",
              "    'title': 'Available Python wheels',\n",
              "    'pageid': 8970,\n",
              "    'size': 1698,\n",
              "    'wordcount': 239,\n",
              "    'snippet': \"A current list of the [https://pythonwheels.com/ <span class='searchmatch'>Python</span> wheels] available from the wheelhouse on our national systems is presented \\n...ur active StdEnv, use the &lt;code&gt;avail_wheels&lt;/code&gt; command described in [[<span class='searchmatch'>Python</span>#Available_wheels|Available wheels]].\\n\",\n",
              "    'timestamp': '2025-03-14T18:20:09Z'},\n",
              "   {'ns': 0,\n",
              "    'title': 'Python wheels',\n",
              "    'pageid': 9142,\n",
              "    'size': 37,\n",
              "    'wordcount': 4,\n",
              "    'snippet': \"#REDIRECT [[Available <span class='searchmatch'>Python</span> wheels]]\\n\",\n",
              "    'timestamp': '2018-12-07T13:44:50Z'}]}}"
            ]
          },
          "metadata": {},
          "execution_count": 2
        }
      ],
      "source": [
        "# Decode the JSON response from the server into something Python understands ...\n",
        "data = r.json()\n",
        "data"
      ]
    },
    {
      "cell_type": "code",
      "execution_count": 3,
      "metadata": {
        "id": "Y-yvIw2hZe-z",
        "outputId": "3809b744-96c6-4bf4-bfe1-fe724319bf39",
        "colab": {
          "base_uri": "https://localhost:8080/"
        }
      },
      "outputs": [
        {
          "output_type": "execute_result",
          "data": {
            "text/plain": [
              "dict"
            ]
          },
          "metadata": {},
          "execution_count": 3
        }
      ],
      "source": [
        "# The output is a python dict\n",
        "type(data)"
      ]
    },
    {
      "cell_type": "code",
      "execution_count": 4,
      "metadata": {
        "id": "bMh_7GtNZe-z",
        "outputId": "f5aff1fb-4c84-4893-fece-da4e08b7fd5a",
        "colab": {
          "base_uri": "https://localhost:8080/"
        }
      },
      "outputs": [
        {
          "output_type": "execute_result",
          "data": {
            "text/plain": [
              "dict_keys(['batchcomplete', 'query'])"
            ]
          },
          "metadata": {},
          "execution_count": 4
        }
      ],
      "source": [
        "# We can check out the keys of the dict\n",
        "data.keys()"
      ]
    },
    {
      "cell_type": "code",
      "execution_count": 5,
      "metadata": {
        "id": "k3tRzqTZZe-0",
        "outputId": "5685ebd7-8a78-43ba-c9bd-0e8d594c904c",
        "colab": {
          "base_uri": "https://localhost:8080/",
          "height": 35
        }
      },
      "outputs": [
        {
          "output_type": "execute_result",
          "data": {
            "text/plain": [
              "'Python'"
            ],
            "application/vnd.google.colaboratory.intrinsic+json": {
              "type": "string"
            }
          },
          "metadata": {},
          "execution_count": 5
        }
      ],
      "source": [
        "# But better yet, we can explore the data to narrow down on the information we want\n",
        "data['query']['search'][0]['title']"
      ]
    },
    {
      "cell_type": "code",
      "execution_count": 6,
      "metadata": {
        "id": "WkfhIftuZe-0",
        "outputId": "f9c05562-9523-4f75-fbe9-78bb7c95bd2c",
        "colab": {
          "base_uri": "https://localhost:8080/",
          "height": 52
        }
      },
      "outputs": [
        {
          "output_type": "execute_result",
          "data": {
            "text/plain": [
              "\"...hy stressing the readability of code. Its syntax is simple and expressive. <span class='searchmatch'>Python</span> has an extensive, easy-to-use standard library.\\n...in their own directories. However, most systems offer several versions of <span class='searchmatch'>Python</span> as well as tools to help you install the third-party packages that you need\\n\""
            ],
            "application/vnd.google.colaboratory.intrinsic+json": {
              "type": "string"
            }
          },
          "metadata": {},
          "execution_count": 6
        }
      ],
      "source": [
        "data['query']['search'][0]['snippet']"
      ]
    },
    {
      "cell_type": "markdown",
      "metadata": {
        "id": "3xxFlEkdZe-1"
      },
      "source": [
        "## Start Dask Client for Dashboard\n",
        "\n",
        "Starting the Dask Client is optional.  It will provide a dashboard which\n",
        "is useful to gain insight on the computation.  \n",
        "\n",
        "The link to the dashboard will become visible when you create the client below.  We recommend having it open on one side of your screen while using your notebook on the other side.  This can take some effort to arrange your windows, but seeing them both at the same is very useful when learning."
      ]
    },
    {
      "cell_type": "code",
      "execution_count": null,
      "metadata": {
        "id": "-Ii6s8UaZe-3"
      },
      "outputs": [],
      "source": [
        "# NOTE!!! Colab, don't do this\n",
        "\n",
        "from dask.distributed import Client, progress\n",
        "client = Client(n_workers=4, threads_per_worker=1)\n",
        "client"
      ]
    },
    {
      "cell_type": "markdown",
      "metadata": {
        "id": "Y2Iit7XFZe-4"
      },
      "source": [
        "## Create Random Data\n",
        "\n",
        "We create a random set of record data and store it to disk as many JSON files.  This will serve as our data for this notebook."
      ]
    },
    {
      "cell_type": "code",
      "execution_count": 9,
      "metadata": {
        "id": "5DMBSLy3Ze-4",
        "outputId": "e1136073-5a0f-4c2c-9d99-e1bcb0d7de50",
        "colab": {
          "base_uri": "https://localhost:8080/"
        }
      },
      "outputs": [
        {
          "output_type": "stream",
          "name": "stdout",
          "text": [
            "Requirement already satisfied: fsspec in /usr/local/lib/python3.11/dist-packages (2025.3.0)\n",
            "Requirement already satisfied: mimesis in /usr/local/lib/python3.11/dist-packages (18.0.0)\n"
          ]
        }
      ],
      "source": [
        "# We might need this, uncomment out as needed ...\n",
        "!pip install fsspec\n",
        "#!conda install fsspec\n",
        "\n",
        "# Note, Colab needs this:\n",
        "import sys\n",
        "if 'google.colab' in sys.modules:\n",
        "    !pip install mimesis"
      ]
    },
    {
      "cell_type": "code",
      "execution_count": 10,
      "metadata": {
        "id": "DKmDsEVWZe-4",
        "outputId": "c03e8b8e-4c26-4194-b732-bf2d1386a89e",
        "colab": {
          "base_uri": "https://localhost:8080/"
        }
      },
      "outputs": [
        {
          "output_type": "execute_result",
          "data": {
            "text/plain": [
              "['/content/data/0.json',\n",
              " '/content/data/1.json',\n",
              " '/content/data/2.json',\n",
              " '/content/data/3.json',\n",
              " '/content/data/4.json',\n",
              " '/content/data/5.json',\n",
              " '/content/data/6.json',\n",
              " '/content/data/7.json',\n",
              " '/content/data/8.json',\n",
              " '/content/data/9.json']"
            ]
          },
          "metadata": {},
          "execution_count": 10
        }
      ],
      "source": [
        "import dask\n",
        "import json\n",
        "import os\n",
        "\n",
        "os.makedirs('data', exist_ok=True)              # Create data/ directory\n",
        "\n",
        "b = dask.datasets.make_people()                 # Make records of people\n",
        "b.map(json.dumps).to_textfiles('data/*.json')   # Encode as JSON, write to disk"
      ]
    },
    {
      "cell_type": "markdown",
      "metadata": {
        "id": "YO9pfMXCZe-5"
      },
      "source": [
        "## Read JSON data\n",
        "\n",
        "Now that we have some JSON data in a file lets take a look at it with Dask Bag and Python JSON module."
      ]
    },
    {
      "cell_type": "code",
      "execution_count": 11,
      "metadata": {
        "id": "ZtDR0s7aZe-5",
        "outputId": "0ae54286-8cdb-498b-ec0d-4ac7d6a09501",
        "colab": {
          "base_uri": "https://localhost:8080/"
        }
      },
      "outputs": [
        {
          "output_type": "stream",
          "name": "stdout",
          "text": [
            "{\"age\": 92, \"name\": [\"Detra\", \"Reid\"], \"occupation\": \"Relocation Agent\", \"telephone\": \"+12255295418\", \"address\": {\"address\": \"944 Crags Plaza\", \"city\": \"Seguin\"}, \"credit-card\": {\"number\": \"3716 159233 48474\", \"expiration-date\": \"05/19\"}}\n",
            "{\"age\": 58, \"name\": [\"Huey\", \"Rhodes\"], \"occupation\": \"Storeman\", \"telephone\": \"+1-364-480-8896\", \"address\": {\"address\": \"191 Metson Ferry\", \"city\": \"Edwardsville\"}, \"credit-card\": {\"number\": \"2478 4733 6300 7004\", \"expiration-date\": \"02/21\"}}\n"
          ]
        }
      ],
      "source": [
        "!head -n 2 data/0.json"
      ]
    },
    {
      "cell_type": "code",
      "execution_count": 12,
      "metadata": {
        "id": "qyCjzL2VZe-5",
        "outputId": "5c3292cf-f19e-4928-ac92-47b71c508b71",
        "colab": {
          "base_uri": "https://localhost:8080/"
        }
      },
      "outputs": [
        {
          "output_type": "execute_result",
          "data": {
            "text/plain": [
              "dask.bag<loads, npartitions=10>"
            ]
          },
          "metadata": {},
          "execution_count": 12
        }
      ],
      "source": [
        "import dask.bag as db\n",
        "import json\n",
        "\n",
        "b = db.read_text('data/*.json').map(json.loads)\n",
        "b"
      ]
    },
    {
      "cell_type": "code",
      "execution_count": 13,
      "metadata": {
        "id": "FN8q5ySuZe-6",
        "outputId": "5bcddd67-4988-4f78-d0ff-3c75f84c1365",
        "colab": {
          "base_uri": "https://localhost:8080/"
        }
      },
      "outputs": [
        {
          "output_type": "execute_result",
          "data": {
            "text/plain": [
              "({'age': 92,\n",
              "  'name': ['Detra', 'Reid'],\n",
              "  'occupation': 'Relocation Agent',\n",
              "  'telephone': '+12255295418',\n",
              "  'address': {'address': '944 Crags Plaza', 'city': 'Seguin'},\n",
              "  'credit-card': {'number': '3716 159233 48474', 'expiration-date': '05/19'}},\n",
              " {'age': 58,\n",
              "  'name': ['Huey', 'Rhodes'],\n",
              "  'occupation': 'Storeman',\n",
              "  'telephone': '+1-364-480-8896',\n",
              "  'address': {'address': '191 Metson Ferry', 'city': 'Edwardsville'},\n",
              "  'credit-card': {'number': '2478 4733 6300 7004',\n",
              "   'expiration-date': '02/21'}})"
            ]
          },
          "metadata": {},
          "execution_count": 13
        }
      ],
      "source": [
        "b.take(2)"
      ]
    },
    {
      "cell_type": "markdown",
      "metadata": {
        "id": "iEHdxd0KZe-6"
      },
      "source": [
        "## Map, Filter, Aggregate\n",
        "\n",
        "We can process this data by filtering out only certain records of interest, mapping functions over it to process our data, and aggregating those results to a total value."
      ]
    },
    {
      "cell_type": "code",
      "execution_count": 14,
      "metadata": {
        "id": "IM2YndzBZe-6",
        "outputId": "13c64b89-c27f-4eec-aec7-3d1733f0c8d1",
        "colab": {
          "base_uri": "https://localhost:8080/"
        }
      },
      "outputs": [
        {
          "output_type": "execute_result",
          "data": {
            "text/plain": [
              "({'age': 92,\n",
              "  'name': ['Detra', 'Reid'],\n",
              "  'occupation': 'Relocation Agent',\n",
              "  'telephone': '+12255295418',\n",
              "  'address': {'address': '944 Crags Plaza', 'city': 'Seguin'},\n",
              "  'credit-card': {'number': '3716 159233 48474', 'expiration-date': '05/19'}},\n",
              " {'age': 58,\n",
              "  'name': ['Huey', 'Rhodes'],\n",
              "  'occupation': 'Storeman',\n",
              "  'telephone': '+1-364-480-8896',\n",
              "  'address': {'address': '191 Metson Ferry', 'city': 'Edwardsville'},\n",
              "  'credit-card': {'number': '2478 4733 6300 7004',\n",
              "   'expiration-date': '02/21'}})"
            ]
          },
          "metadata": {},
          "execution_count": 14
        }
      ],
      "source": [
        "b.filter(lambda record: record['age'] > 30).take(2)  # Select only people over 30"
      ]
    },
    {
      "cell_type": "code",
      "execution_count": 15,
      "metadata": {
        "id": "qI7ty-DJZe-7",
        "outputId": "507578c0-aace-4441-ea48-f4a51868e75c",
        "colab": {
          "base_uri": "https://localhost:8080/"
        }
      },
      "outputs": [
        {
          "output_type": "execute_result",
          "data": {
            "text/plain": [
              "('Relocation Agent', 'Storeman')"
            ]
          },
          "metadata": {},
          "execution_count": 15
        }
      ],
      "source": [
        "b.map(lambda record: record['occupation']).take(2)  # Select the occupation field"
      ]
    },
    {
      "cell_type": "code",
      "execution_count": 16,
      "metadata": {
        "id": "qPkGU1R3Ze-7",
        "outputId": "e6f22911-8c04-4d2c-d60e-d1185c8a002a",
        "colab": {
          "base_uri": "https://localhost:8080/"
        }
      },
      "outputs": [
        {
          "output_type": "execute_result",
          "data": {
            "text/plain": [
              "10000"
            ]
          },
          "metadata": {},
          "execution_count": 16
        }
      ],
      "source": [
        "b.count().compute()  # Count total number of records"
      ]
    },
    {
      "cell_type": "markdown",
      "metadata": {
        "id": "MUjWhCC5Ze-7"
      },
      "source": [
        "## Chain computations\n",
        "\n",
        "It is common to do many of these steps in one pipeline, only calling `compute` or `take` at the end."
      ]
    },
    {
      "cell_type": "code",
      "execution_count": 17,
      "metadata": {
        "id": "u6tXGa25Ze-7",
        "outputId": "e6464ec4-c6f0-45df-89ea-4b5f2aed407d",
        "colab": {
          "base_uri": "https://localhost:8080/"
        }
      },
      "outputs": [
        {
          "output_type": "execute_result",
          "data": {
            "text/plain": [
              "dask.bag<topk-aggregate, npartitions=1>"
            ]
          },
          "metadata": {},
          "execution_count": 17
        }
      ],
      "source": [
        "result = (b.filter(lambda record: record['age'] > 30)\n",
        "           .map(lambda record: record['occupation'])\n",
        "           .frequencies(sort=True)\n",
        "           .topk(10, key=1))\n",
        "result"
      ]
    },
    {
      "cell_type": "markdown",
      "metadata": {
        "id": "hVAjEpKoZe-7"
      },
      "source": [
        "As with all lazy Dask collections, we need to call `compute` to actually evaluate our result.  The `take` method used in earlier examples is also like `compute` and will also trigger computation."
      ]
    },
    {
      "cell_type": "code",
      "execution_count": 18,
      "metadata": {
        "id": "ZJ2vHCeDZe-7",
        "outputId": "51e688fb-d499-420b-f359-af0c5359fe9c",
        "colab": {
          "base_uri": "https://localhost:8080/"
        }
      },
      "outputs": [
        {
          "output_type": "execute_result",
          "data": {
            "text/plain": [
              "[('Sheet Metal Worker', 15),\n",
              " ('Geophysicist', 15),\n",
              " ('Masseuse', 15),\n",
              " ('Actress', 14),\n",
              " ('Insurance Broker', 14),\n",
              " ('Legal Secretary', 14),\n",
              " ('Air Traffic Controller', 14),\n",
              " ('Foster Parent', 14),\n",
              " ('Storeman', 13),\n",
              " ('Line Manager', 13)]"
            ]
          },
          "metadata": {},
          "execution_count": 18
        }
      ],
      "source": [
        "result.compute()"
      ]
    },
    {
      "cell_type": "markdown",
      "metadata": {
        "id": "jeykJgMnZe-8"
      },
      "source": [
        "## Transform and Store\n",
        "\n",
        "Sometimes we want to compute aggregations as above, but sometimes we want to store results to disk for future analyses.  For that we can use methods like `to_textfiles` and `json.dumps`, or we can convert to Dask Dataframes and use their storage systems, which we'll see more of in the next section."
      ]
    },
    {
      "cell_type": "code",
      "execution_count": 19,
      "metadata": {
        "id": "fp9qJZhXZe-8",
        "outputId": "07e9eeef-08a5-4930-a568-956b0dd5d393",
        "colab": {
          "base_uri": "https://localhost:8080/"
        }
      },
      "outputs": [
        {
          "output_type": "execute_result",
          "data": {
            "text/plain": [
              "['/content/data/processed.0.json',\n",
              " '/content/data/processed.1.json',\n",
              " '/content/data/processed.2.json',\n",
              " '/content/data/processed.3.json',\n",
              " '/content/data/processed.4.json',\n",
              " '/content/data/processed.5.json',\n",
              " '/content/data/processed.6.json',\n",
              " '/content/data/processed.7.json',\n",
              " '/content/data/processed.8.json',\n",
              " '/content/data/processed.9.json']"
            ]
          },
          "metadata": {},
          "execution_count": 19
        }
      ],
      "source": [
        "(b.filter(lambda record: record['age'] > 30)  # Select records of interest\n",
        "  .map(json.dumps)                            # Convert Python objects to text\n",
        "  .to_textfiles('data/processed.*.json'))     # Write to local disk"
      ]
    },
    {
      "cell_type": "markdown",
      "metadata": {
        "id": "QZ75S0dJZe-8"
      },
      "source": [
        "We can use standard UNIX commands to look at some of the files created:"
      ]
    },
    {
      "cell_type": "code",
      "execution_count": 20,
      "metadata": {
        "id": "qkcKme2WZe-8",
        "outputId": "78f6fe1b-9d48-43ec-efc3-3b059ec5ffa7",
        "colab": {
          "base_uri": "https://localhost:8080/"
        }
      },
      "outputs": [
        {
          "output_type": "stream",
          "name": "stdout",
          "text": [
            "-rw-r--r-- 1 root root 248517 Mar 30 19:43 data/0.json\n",
            "-rw-r--r-- 1 root root 248041 Mar 30 19:43 data/1.json\n",
            "-rw-r--r-- 1 root root 248173 Mar 30 19:43 data/2.json\n",
            "-rw-r--r-- 1 root root 248280 Mar 30 19:43 data/3.json\n",
            "-rw-r--r-- 1 root root 248265 Mar 30 19:43 data/4.json\n",
            "-rw-r--r-- 1 root root 248140 Mar 30 19:43 data/5.json\n",
            "-rw-r--r-- 1 root root 248007 Mar 30 19:43 data/6.json\n",
            "-rw-r--r-- 1 root root 248044 Mar 30 19:43 data/7.json\n",
            "-rw-r--r-- 1 root root 248213 Mar 30 19:43 data/8.json\n",
            "-rw-r--r-- 1 root root 248175 Mar 30 19:43 data/9.json\n",
            "-rw-r--r-- 1 root root 185199 Mar 30 19:45 data/processed.0.json\n",
            "-rw-r--r-- 1 root root 184669 Mar 30 19:45 data/processed.1.json\n",
            "-rw-r--r-- 1 root root 185691 Mar 30 19:45 data/processed.2.json\n",
            "-rw-r--r-- 1 root root 185466 Mar 30 19:45 data/processed.3.json\n",
            "-rw-r--r-- 1 root root 188699 Mar 30 19:45 data/processed.4.json\n",
            "-rw-r--r-- 1 root root 186097 Mar 30 19:45 data/processed.5.json\n",
            "-rw-r--r-- 1 root root 180851 Mar 30 19:45 data/processed.6.json\n",
            "-rw-r--r-- 1 root root 183884 Mar 30 19:45 data/processed.7.json\n",
            "-rw-r--r-- 1 root root 184995 Mar 30 19:45 data/processed.8.json\n",
            "-rw-r--r-- 1 root root 185675 Mar 30 19:45 data/processed.9.json\n"
          ]
        }
      ],
      "source": [
        "!ls -l data/*.json"
      ]
    },
    {
      "cell_type": "code",
      "execution_count": 21,
      "metadata": {
        "id": "eLCGJ6o6Ze-8",
        "outputId": "4d5839f6-f817-4d63-b2b8-2080d36fce33",
        "colab": {
          "base_uri": "https://localhost:8080/"
        }
      },
      "outputs": [
        {
          "output_type": "stream",
          "name": "stdout",
          "text": [
            "{\"age\": 114, \"name\": [\"Bryce\", \"Hughes\"], \"occupation\": \"Bank Messenger\", \"telephone\": \"+16140253991\", \"address\": {\"address\": \"270 Brumiss Run\", \"city\": \"Baldwin Park\"}, \"credit-card\": {\"number\": \"4072 7026 1499 6326\", \"expiration-date\": \"01/24\"}}\n",
            "{\"age\": 106, \"name\": [\"Theodore\", \"Brock\"], \"occupation\": \"Car Wash Attendant\", \"telephone\": \"+1-701-222-5386\", \"address\": {\"address\": \"319 Owen Canyon\", \"city\": \"West Hollywood\"}, \"credit-card\": {\"number\": \"4893 1113 7338 5597\", \"expiration-date\": \"07/25\"}}\n",
            "{\"age\": 57, \"name\": [\"Leisha\", \"Carlson\"], \"occupation\": \"Recorder\", \"telephone\": \"+14348505317\", \"address\": {\"address\": \"130 Colusa Heights\", \"city\": \"Moreno Valley\"}, \"credit-card\": {\"number\": \"5172 7708 0694 0143\", \"expiration-date\": \"08/22\"}}\n",
            "{\"age\": 82, \"name\": [\"Marcelo\", \"Andrews\"], \"occupation\": \"Roofer\", \"telephone\": \"+1-316-325-2615\", \"address\": {\"address\": \"1101 Mangels Freeway\", \"city\": \"Pottstown\"}, \"credit-card\": {\"number\": \"5483 7453 2934 2419\", \"expiration-date\": \"08/25\"}}\n",
            "{\"age\": 50, \"name\": [\"Nickie\", \"Peters\"], \"occupation\": \"Art Historian\", \"telephone\": \"+1-650-417-4843\", \"address\": {\"address\": \"1173 Earl Pike\", \"city\": \"Overland Park\"}, \"credit-card\": {\"number\": \"5463 0117 2306 7464\", \"expiration-date\": \"07/19\"}}\n",
            "{\"age\": 105, \"name\": [\"Damon\", \"Zamora\"], \"occupation\": \"Supply Teacher\", \"telephone\": \"+1-954-544-2336\", \"address\": {\"address\": \"126 Noe Field\", \"city\": \"Moline\"}, \"credit-card\": {\"number\": \"4998 7619 7965 4350\", \"expiration-date\": \"03/21\"}}\n",
            "{\"age\": 32, \"name\": [\"Orlando\", \"Avery\"], \"occupation\": \"Special Needs\", \"telephone\": \"+17601374720\", \"address\": {\"address\": \"244 Peabody Point\", \"city\": \"Lake Forest\"}, \"credit-card\": {\"number\": \"4655 8360 7362 8528\", \"expiration-date\": \"07/21\"}}\n",
            "{\"age\": 120, \"name\": [\"Carletta\", \"Burgess\"], \"occupation\": \"Interviewer\", \"telephone\": \"+19893661784\", \"address\": {\"address\": \"183 Harrington Highway\", \"city\": \"Colton\"}, \"credit-card\": {\"number\": \"3749 166113 38521\", \"expiration-date\": \"11/19\"}}\n",
            "{\"age\": 75, \"name\": [\"Nicholas\", \"Wong\"], \"occupation\": \"Park Ranger\", \"telephone\": \"+1-959-209-1803\", \"address\": {\"address\": \"645 Hunter Run\", \"city\": \"Greenwood\"}, \"credit-card\": {\"number\": \"3412 726552 35128\", \"expiration-date\": \"02/25\"}}\n",
            "{\"age\": 78, \"name\": [\"Doug\", \"Ramsey\"], \"occupation\": \"Coroner\", \"telephone\": \"+19361255444\", \"address\": {\"address\": \"616 Del Sur Place\", \"city\": \"Mequon\"}, \"credit-card\": {\"number\": \"4774 5912 1371 4888\", \"expiration-date\": \"12/25\"}}\n"
          ]
        }
      ],
      "source": [
        "!head data/processed.7.json"
      ]
    },
    {
      "cell_type": "markdown",
      "metadata": {
        "id": "S_45gXL8Ze-8"
      },
      "source": [
        "## Convert to Dask Dataframes\n",
        "\n",
        "Dask Bags are good for reading in initial data, doing a bit of pre-processing, and then handing off to some other more efficient form like Dask Dataframes.  Dask Dataframes use Pandas internally, and so can be much faster on numeric data and also have more complex algorithms.  \n",
        "\n",
        "However, Dask Dataframes also expect data that is organized as flat columns.  It does not support nested JSON data very well (Bag is better for this).\n",
        "\n",
        "Here we make a function to flatten down our nested data structure, map that across our records, and then convert that to a Dask Dataframe."
      ]
    },
    {
      "cell_type": "code",
      "execution_count": 22,
      "metadata": {
        "id": "fieIFpMlZe-9",
        "outputId": "6c23c07a-5e06-4712-9c5b-990a95adc442",
        "colab": {
          "base_uri": "https://localhost:8080/"
        }
      },
      "outputs": [
        {
          "output_type": "execute_result",
          "data": {
            "text/plain": [
              "({'age': 92,\n",
              "  'name': ['Detra', 'Reid'],\n",
              "  'occupation': 'Relocation Agent',\n",
              "  'telephone': '+12255295418',\n",
              "  'address': {'address': '944 Crags Plaza', 'city': 'Seguin'},\n",
              "  'credit-card': {'number': '3716 159233 48474', 'expiration-date': '05/19'}},)"
            ]
          },
          "metadata": {},
          "execution_count": 22
        }
      ],
      "source": [
        "b.take(1)"
      ]
    },
    {
      "cell_type": "code",
      "execution_count": 23,
      "metadata": {
        "id": "iWiuZU3KZe-9",
        "outputId": "5cb503d5-4535-46ff-ac77-d731aa179a98",
        "colab": {
          "base_uri": "https://localhost:8080/"
        }
      },
      "outputs": [
        {
          "output_type": "execute_result",
          "data": {
            "text/plain": [
              "({'age': 92,\n",
              "  'occupation': 'Relocation Agent',\n",
              "  'telephone': '+12255295418',\n",
              "  'credit-card-number': '3716 159233 48474',\n",
              "  'credit-card-expiration': '05/19',\n",
              "  'name': 'Detra Reid',\n",
              "  'street-address': '944 Crags Plaza',\n",
              "  'city': 'Seguin'},)"
            ]
          },
          "metadata": {},
          "execution_count": 23
        }
      ],
      "source": [
        "def flatten(record):\n",
        "    return {\n",
        "        'age': record['age'],\n",
        "        'occupation': record['occupation'],\n",
        "        'telephone': record['telephone'],\n",
        "        'credit-card-number': record['credit-card']['number'],\n",
        "        'credit-card-expiration': record['credit-card']['expiration-date'],\n",
        "        'name': ' '.join(record['name']),\n",
        "        'street-address': record['address']['address'],\n",
        "        'city': record['address']['city']\n",
        "    }\n",
        "\n",
        "b.map(flatten).take(1)"
      ]
    },
    {
      "cell_type": "code",
      "execution_count": 24,
      "metadata": {
        "id": "b6cJvUgtZe-9",
        "outputId": "bcc8a2c2-0d29-4316-dacf-c0e354901b78",
        "colab": {
          "base_uri": "https://localhost:8080/",
          "height": 241
        }
      },
      "outputs": [
        {
          "output_type": "stream",
          "name": "stderr",
          "text": [
            "/usr/local/lib/python3.11/dist-packages/dask_expr/_collection.py:5063: FutureWarning: from_legacy_dataframe is deprecated and will be removed in a future release. The legacy implementation as a whole is deprecated and will be removed, making this method unnecessary.\n",
            "  warnings.warn(\n"
          ]
        },
        {
          "output_type": "execute_result",
          "data": {
            "text/plain": [
              "   age        occupation        telephone   credit-card-number  \\\n",
              "0   92  Relocation Agent     +12255295418    3716 159233 48474   \n",
              "1   58          Storeman  +1-364-480-8896  2478 4733 6300 7004   \n",
              "2   15       Pig Manager  +1-925-752-8725  4084 2874 7488 3166   \n",
              "3   94  Blinds Installer     +18120910541    3708 221873 70407   \n",
              "4   50       Bar Manager     +19103765933    3464 179894 55315   \n",
              "\n",
              "  credit-card-expiration              name         street-address  \\\n",
              "0                  05/19        Detra Reid        944 Crags Plaza   \n",
              "1                  02/21       Huey Rhodes       191 Metson Ferry   \n",
              "2                  01/23   Casey Whitfield          444 Leo Trace   \n",
              "3                  11/25       Dane Hebert       1022 Hunt Garden   \n",
              "4                  02/16  Jamaal Velazquez  1032 Torney Extension   \n",
              "\n",
              "               city  \n",
              "0            Seguin  \n",
              "1      Edwardsville  \n",
              "2  Glendale Heights  \n",
              "3         Flagstaff  \n",
              "4       Foster City  "
            ],
            "text/html": [
              "\n",
              "  <div id=\"df-2b641405-b41b-475f-ad2f-3f5790b9bb26\" class=\"colab-df-container\">\n",
              "    <div>\n",
              "<style scoped>\n",
              "    .dataframe tbody tr th:only-of-type {\n",
              "        vertical-align: middle;\n",
              "    }\n",
              "\n",
              "    .dataframe tbody tr th {\n",
              "        vertical-align: top;\n",
              "    }\n",
              "\n",
              "    .dataframe thead th {\n",
              "        text-align: right;\n",
              "    }\n",
              "</style>\n",
              "<table border=\"1\" class=\"dataframe\">\n",
              "  <thead>\n",
              "    <tr style=\"text-align: right;\">\n",
              "      <th></th>\n",
              "      <th>age</th>\n",
              "      <th>occupation</th>\n",
              "      <th>telephone</th>\n",
              "      <th>credit-card-number</th>\n",
              "      <th>credit-card-expiration</th>\n",
              "      <th>name</th>\n",
              "      <th>street-address</th>\n",
              "      <th>city</th>\n",
              "    </tr>\n",
              "  </thead>\n",
              "  <tbody>\n",
              "    <tr>\n",
              "      <th>0</th>\n",
              "      <td>92</td>\n",
              "      <td>Relocation Agent</td>\n",
              "      <td>+12255295418</td>\n",
              "      <td>3716 159233 48474</td>\n",
              "      <td>05/19</td>\n",
              "      <td>Detra Reid</td>\n",
              "      <td>944 Crags Plaza</td>\n",
              "      <td>Seguin</td>\n",
              "    </tr>\n",
              "    <tr>\n",
              "      <th>1</th>\n",
              "      <td>58</td>\n",
              "      <td>Storeman</td>\n",
              "      <td>+1-364-480-8896</td>\n",
              "      <td>2478 4733 6300 7004</td>\n",
              "      <td>02/21</td>\n",
              "      <td>Huey Rhodes</td>\n",
              "      <td>191 Metson Ferry</td>\n",
              "      <td>Edwardsville</td>\n",
              "    </tr>\n",
              "    <tr>\n",
              "      <th>2</th>\n",
              "      <td>15</td>\n",
              "      <td>Pig Manager</td>\n",
              "      <td>+1-925-752-8725</td>\n",
              "      <td>4084 2874 7488 3166</td>\n",
              "      <td>01/23</td>\n",
              "      <td>Casey Whitfield</td>\n",
              "      <td>444 Leo Trace</td>\n",
              "      <td>Glendale Heights</td>\n",
              "    </tr>\n",
              "    <tr>\n",
              "      <th>3</th>\n",
              "      <td>94</td>\n",
              "      <td>Blinds Installer</td>\n",
              "      <td>+18120910541</td>\n",
              "      <td>3708 221873 70407</td>\n",
              "      <td>11/25</td>\n",
              "      <td>Dane Hebert</td>\n",
              "      <td>1022 Hunt Garden</td>\n",
              "      <td>Flagstaff</td>\n",
              "    </tr>\n",
              "    <tr>\n",
              "      <th>4</th>\n",
              "      <td>50</td>\n",
              "      <td>Bar Manager</td>\n",
              "      <td>+19103765933</td>\n",
              "      <td>3464 179894 55315</td>\n",
              "      <td>02/16</td>\n",
              "      <td>Jamaal Velazquez</td>\n",
              "      <td>1032 Torney Extension</td>\n",
              "      <td>Foster City</td>\n",
              "    </tr>\n",
              "  </tbody>\n",
              "</table>\n",
              "</div>\n",
              "    <div class=\"colab-df-buttons\">\n",
              "\n",
              "  <div class=\"colab-df-container\">\n",
              "    <button class=\"colab-df-convert\" onclick=\"convertToInteractive('df-2b641405-b41b-475f-ad2f-3f5790b9bb26')\"\n",
              "            title=\"Convert this dataframe to an interactive table.\"\n",
              "            style=\"display:none;\">\n",
              "\n",
              "  <svg xmlns=\"http://www.w3.org/2000/svg\" height=\"24px\" viewBox=\"0 -960 960 960\">\n",
              "    <path d=\"M120-120v-720h720v720H120Zm60-500h600v-160H180v160Zm220 220h160v-160H400v160Zm0 220h160v-160H400v160ZM180-400h160v-160H180v160Zm440 0h160v-160H620v160ZM180-180h160v-160H180v160Zm440 0h160v-160H620v160Z\"/>\n",
              "  </svg>\n",
              "    </button>\n",
              "\n",
              "  <style>\n",
              "    .colab-df-container {\n",
              "      display:flex;\n",
              "      gap: 12px;\n",
              "    }\n",
              "\n",
              "    .colab-df-convert {\n",
              "      background-color: #E8F0FE;\n",
              "      border: none;\n",
              "      border-radius: 50%;\n",
              "      cursor: pointer;\n",
              "      display: none;\n",
              "      fill: #1967D2;\n",
              "      height: 32px;\n",
              "      padding: 0 0 0 0;\n",
              "      width: 32px;\n",
              "    }\n",
              "\n",
              "    .colab-df-convert:hover {\n",
              "      background-color: #E2EBFA;\n",
              "      box-shadow: 0px 1px 2px rgba(60, 64, 67, 0.3), 0px 1px 3px 1px rgba(60, 64, 67, 0.15);\n",
              "      fill: #174EA6;\n",
              "    }\n",
              "\n",
              "    .colab-df-buttons div {\n",
              "      margin-bottom: 4px;\n",
              "    }\n",
              "\n",
              "    [theme=dark] .colab-df-convert {\n",
              "      background-color: #3B4455;\n",
              "      fill: #D2E3FC;\n",
              "    }\n",
              "\n",
              "    [theme=dark] .colab-df-convert:hover {\n",
              "      background-color: #434B5C;\n",
              "      box-shadow: 0px 1px 3px 1px rgba(0, 0, 0, 0.15);\n",
              "      filter: drop-shadow(0px 1px 2px rgba(0, 0, 0, 0.3));\n",
              "      fill: #FFFFFF;\n",
              "    }\n",
              "  </style>\n",
              "\n",
              "    <script>\n",
              "      const buttonEl =\n",
              "        document.querySelector('#df-2b641405-b41b-475f-ad2f-3f5790b9bb26 button.colab-df-convert');\n",
              "      buttonEl.style.display =\n",
              "        google.colab.kernel.accessAllowed ? 'block' : 'none';\n",
              "\n",
              "      async function convertToInteractive(key) {\n",
              "        const element = document.querySelector('#df-2b641405-b41b-475f-ad2f-3f5790b9bb26');\n",
              "        const dataTable =\n",
              "          await google.colab.kernel.invokeFunction('convertToInteractive',\n",
              "                                                    [key], {});\n",
              "        if (!dataTable) return;\n",
              "\n",
              "        const docLinkHtml = 'Like what you see? Visit the ' +\n",
              "          '<a target=\"_blank\" href=https://colab.research.google.com/notebooks/data_table.ipynb>data table notebook</a>'\n",
              "          + ' to learn more about interactive tables.';\n",
              "        element.innerHTML = '';\n",
              "        dataTable['output_type'] = 'display_data';\n",
              "        await google.colab.output.renderOutput(dataTable, element);\n",
              "        const docLink = document.createElement('div');\n",
              "        docLink.innerHTML = docLinkHtml;\n",
              "        element.appendChild(docLink);\n",
              "      }\n",
              "    </script>\n",
              "  </div>\n",
              "\n",
              "\n",
              "<div id=\"df-30087eaf-4de3-47e0-9b0a-6ec98179e33b\">\n",
              "  <button class=\"colab-df-quickchart\" onclick=\"quickchart('df-30087eaf-4de3-47e0-9b0a-6ec98179e33b')\"\n",
              "            title=\"Suggest charts\"\n",
              "            style=\"display:none;\">\n",
              "\n",
              "<svg xmlns=\"http://www.w3.org/2000/svg\" height=\"24px\"viewBox=\"0 0 24 24\"\n",
              "     width=\"24px\">\n",
              "    <g>\n",
              "        <path d=\"M19 3H5c-1.1 0-2 .9-2 2v14c0 1.1.9 2 2 2h14c1.1 0 2-.9 2-2V5c0-1.1-.9-2-2-2zM9 17H7v-7h2v7zm4 0h-2V7h2v10zm4 0h-2v-4h2v4z\"/>\n",
              "    </g>\n",
              "</svg>\n",
              "  </button>\n",
              "\n",
              "<style>\n",
              "  .colab-df-quickchart {\n",
              "      --bg-color: #E8F0FE;\n",
              "      --fill-color: #1967D2;\n",
              "      --hover-bg-color: #E2EBFA;\n",
              "      --hover-fill-color: #174EA6;\n",
              "      --disabled-fill-color: #AAA;\n",
              "      --disabled-bg-color: #DDD;\n",
              "  }\n",
              "\n",
              "  [theme=dark] .colab-df-quickchart {\n",
              "      --bg-color: #3B4455;\n",
              "      --fill-color: #D2E3FC;\n",
              "      --hover-bg-color: #434B5C;\n",
              "      --hover-fill-color: #FFFFFF;\n",
              "      --disabled-bg-color: #3B4455;\n",
              "      --disabled-fill-color: #666;\n",
              "  }\n",
              "\n",
              "  .colab-df-quickchart {\n",
              "    background-color: var(--bg-color);\n",
              "    border: none;\n",
              "    border-radius: 50%;\n",
              "    cursor: pointer;\n",
              "    display: none;\n",
              "    fill: var(--fill-color);\n",
              "    height: 32px;\n",
              "    padding: 0;\n",
              "    width: 32px;\n",
              "  }\n",
              "\n",
              "  .colab-df-quickchart:hover {\n",
              "    background-color: var(--hover-bg-color);\n",
              "    box-shadow: 0 1px 2px rgba(60, 64, 67, 0.3), 0 1px 3px 1px rgba(60, 64, 67, 0.15);\n",
              "    fill: var(--button-hover-fill-color);\n",
              "  }\n",
              "\n",
              "  .colab-df-quickchart-complete:disabled,\n",
              "  .colab-df-quickchart-complete:disabled:hover {\n",
              "    background-color: var(--disabled-bg-color);\n",
              "    fill: var(--disabled-fill-color);\n",
              "    box-shadow: none;\n",
              "  }\n",
              "\n",
              "  .colab-df-spinner {\n",
              "    border: 2px solid var(--fill-color);\n",
              "    border-color: transparent;\n",
              "    border-bottom-color: var(--fill-color);\n",
              "    animation:\n",
              "      spin 1s steps(1) infinite;\n",
              "  }\n",
              "\n",
              "  @keyframes spin {\n",
              "    0% {\n",
              "      border-color: transparent;\n",
              "      border-bottom-color: var(--fill-color);\n",
              "      border-left-color: var(--fill-color);\n",
              "    }\n",
              "    20% {\n",
              "      border-color: transparent;\n",
              "      border-left-color: var(--fill-color);\n",
              "      border-top-color: var(--fill-color);\n",
              "    }\n",
              "    30% {\n",
              "      border-color: transparent;\n",
              "      border-left-color: var(--fill-color);\n",
              "      border-top-color: var(--fill-color);\n",
              "      border-right-color: var(--fill-color);\n",
              "    }\n",
              "    40% {\n",
              "      border-color: transparent;\n",
              "      border-right-color: var(--fill-color);\n",
              "      border-top-color: var(--fill-color);\n",
              "    }\n",
              "    60% {\n",
              "      border-color: transparent;\n",
              "      border-right-color: var(--fill-color);\n",
              "    }\n",
              "    80% {\n",
              "      border-color: transparent;\n",
              "      border-right-color: var(--fill-color);\n",
              "      border-bottom-color: var(--fill-color);\n",
              "    }\n",
              "    90% {\n",
              "      border-color: transparent;\n",
              "      border-bottom-color: var(--fill-color);\n",
              "    }\n",
              "  }\n",
              "</style>\n",
              "\n",
              "  <script>\n",
              "    async function quickchart(key) {\n",
              "      const quickchartButtonEl =\n",
              "        document.querySelector('#' + key + ' button');\n",
              "      quickchartButtonEl.disabled = true;  // To prevent multiple clicks.\n",
              "      quickchartButtonEl.classList.add('colab-df-spinner');\n",
              "      try {\n",
              "        const charts = await google.colab.kernel.invokeFunction(\n",
              "            'suggestCharts', [key], {});\n",
              "      } catch (error) {\n",
              "        console.error('Error during call to suggestCharts:', error);\n",
              "      }\n",
              "      quickchartButtonEl.classList.remove('colab-df-spinner');\n",
              "      quickchartButtonEl.classList.add('colab-df-quickchart-complete');\n",
              "    }\n",
              "    (() => {\n",
              "      let quickchartButtonEl =\n",
              "        document.querySelector('#df-30087eaf-4de3-47e0-9b0a-6ec98179e33b button');\n",
              "      quickchartButtonEl.style.display =\n",
              "        google.colab.kernel.accessAllowed ? 'block' : 'none';\n",
              "    })();\n",
              "  </script>\n",
              "</div>\n",
              "\n",
              "    </div>\n",
              "  </div>\n"
            ],
            "application/vnd.google.colaboratory.intrinsic+json": {
              "type": "dataframe",
              "summary": "{\n  \"name\": \"df\",\n  \"rows\": 5,\n  \"fields\": [\n    {\n      \"column\": \"age\",\n      \"properties\": {\n        \"dtype\": \"number\",\n        \"std\": 32,\n        \"min\": 15,\n        \"max\": 94,\n        \"num_unique_values\": 5,\n        \"samples\": [\n          58,\n          50,\n          15\n        ],\n        \"semantic_type\": \"\",\n        \"description\": \"\"\n      }\n    },\n    {\n      \"column\": \"occupation\",\n      \"properties\": {\n        \"dtype\": \"string\",\n        \"num_unique_values\": 5,\n        \"samples\": [\n          \"Storeman\",\n          \"Bar Manager\",\n          \"Pig Manager\"\n        ],\n        \"semantic_type\": \"\",\n        \"description\": \"\"\n      }\n    },\n    {\n      \"column\": \"telephone\",\n      \"properties\": {\n        \"dtype\": \"string\",\n        \"num_unique_values\": 5,\n        \"samples\": [\n          \"+1-364-480-8896\",\n          \"+19103765933\",\n          \"+1-925-752-8725\"\n        ],\n        \"semantic_type\": \"\",\n        \"description\": \"\"\n      }\n    },\n    {\n      \"column\": \"credit-card-number\",\n      \"properties\": {\n        \"dtype\": \"string\",\n        \"num_unique_values\": 5,\n        \"samples\": [\n          \"2478 4733 6300 7004\",\n          \"3464 179894 55315\",\n          \"4084 2874 7488 3166\"\n        ],\n        \"semantic_type\": \"\",\n        \"description\": \"\"\n      }\n    },\n    {\n      \"column\": \"credit-card-expiration\",\n      \"properties\": {\n        \"dtype\": \"string\",\n        \"num_unique_values\": 5,\n        \"samples\": [\n          \"02/21\",\n          \"02/16\",\n          \"01/23\"\n        ],\n        \"semantic_type\": \"\",\n        \"description\": \"\"\n      }\n    },\n    {\n      \"column\": \"name\",\n      \"properties\": {\n        \"dtype\": \"string\",\n        \"num_unique_values\": 5,\n        \"samples\": [\n          \"Huey Rhodes\",\n          \"Jamaal Velazquez\",\n          \"Casey Whitfield\"\n        ],\n        \"semantic_type\": \"\",\n        \"description\": \"\"\n      }\n    },\n    {\n      \"column\": \"street-address\",\n      \"properties\": {\n        \"dtype\": \"string\",\n        \"num_unique_values\": 5,\n        \"samples\": [\n          \"191 Metson Ferry\",\n          \"1032 Torney Extension\",\n          \"444 Leo Trace\"\n        ],\n        \"semantic_type\": \"\",\n        \"description\": \"\"\n      }\n    },\n    {\n      \"column\": \"city\",\n      \"properties\": {\n        \"dtype\": \"string\",\n        \"num_unique_values\": 5,\n        \"samples\": [\n          \"Edwardsville\",\n          \"Foster City\",\n          \"Glendale Heights\"\n        ],\n        \"semantic_type\": \"\",\n        \"description\": \"\"\n      }\n    }\n  ]\n}"
            }
          },
          "metadata": {},
          "execution_count": 24
        }
      ],
      "source": [
        "df = b.map(flatten).to_dataframe()\n",
        "df.head()"
      ]
    },
    {
      "cell_type": "markdown",
      "metadata": {
        "id": "u_BviHigZe-9"
      },
      "source": [
        "We can now perform the same computation as before, but now using Pandas and Dask dataframe."
      ]
    },
    {
      "cell_type": "code",
      "execution_count": 25,
      "metadata": {
        "id": "N_7EbcQ1Ze-9",
        "outputId": "4c5f1139-cccd-4e30-8f25-c5adf0768226",
        "colab": {
          "base_uri": "https://localhost:8080/",
          "height": 429
        }
      },
      "outputs": [
        {
          "output_type": "execute_result",
          "data": {
            "text/plain": [
              "occupation\n",
              "Masseuse                  15\n",
              "Geophysicist              15\n",
              "Sheet Metal Worker        15\n",
              "Air Traffic Controller    14\n",
              "Actress                   14\n",
              "Legal Secretary           14\n",
              "Insurance Broker          14\n",
              "Foster Parent             14\n",
              "Shelter Warden            13\n",
              "Rig Worker                13\n",
              "Name: count, dtype: int64[pyarrow]"
            ],
            "text/html": [
              "<div>\n",
              "<style scoped>\n",
              "    .dataframe tbody tr th:only-of-type {\n",
              "        vertical-align: middle;\n",
              "    }\n",
              "\n",
              "    .dataframe tbody tr th {\n",
              "        vertical-align: top;\n",
              "    }\n",
              "\n",
              "    .dataframe thead th {\n",
              "        text-align: right;\n",
              "    }\n",
              "</style>\n",
              "<table border=\"1\" class=\"dataframe\">\n",
              "  <thead>\n",
              "    <tr style=\"text-align: right;\">\n",
              "      <th></th>\n",
              "      <th>count</th>\n",
              "    </tr>\n",
              "    <tr>\n",
              "      <th>occupation</th>\n",
              "      <th></th>\n",
              "    </tr>\n",
              "  </thead>\n",
              "  <tbody>\n",
              "    <tr>\n",
              "      <th>Masseuse</th>\n",
              "      <td>15</td>\n",
              "    </tr>\n",
              "    <tr>\n",
              "      <th>Geophysicist</th>\n",
              "      <td>15</td>\n",
              "    </tr>\n",
              "    <tr>\n",
              "      <th>Sheet Metal Worker</th>\n",
              "      <td>15</td>\n",
              "    </tr>\n",
              "    <tr>\n",
              "      <th>Air Traffic Controller</th>\n",
              "      <td>14</td>\n",
              "    </tr>\n",
              "    <tr>\n",
              "      <th>Actress</th>\n",
              "      <td>14</td>\n",
              "    </tr>\n",
              "    <tr>\n",
              "      <th>Legal Secretary</th>\n",
              "      <td>14</td>\n",
              "    </tr>\n",
              "    <tr>\n",
              "      <th>Insurance Broker</th>\n",
              "      <td>14</td>\n",
              "    </tr>\n",
              "    <tr>\n",
              "      <th>Foster Parent</th>\n",
              "      <td>14</td>\n",
              "    </tr>\n",
              "    <tr>\n",
              "      <th>Shelter Warden</th>\n",
              "      <td>13</td>\n",
              "    </tr>\n",
              "    <tr>\n",
              "      <th>Rig Worker</th>\n",
              "      <td>13</td>\n",
              "    </tr>\n",
              "  </tbody>\n",
              "</table>\n",
              "</div><br><label><b>dtype:</b> int64[pyarrow]</label>"
            ]
          },
          "metadata": {},
          "execution_count": 25
        }
      ],
      "source": [
        "df[df.age > 30].occupation.value_counts().nlargest(10).compute()"
      ]
    },
    {
      "cell_type": "markdown",
      "metadata": {
        "id": "0Advi562Ze--"
      },
      "source": [
        "## Learn More\n",
        "\n",
        "You may be interested in the following links:\n",
        "\n",
        "-  [Dask Bag Documentation](http://docs.dask.org/en/latest/bag-overview.html)\n",
        "-  [API Documentation](http://docs.dask.org/en/latest/bag-api.html)"
      ]
    },
    {
      "cell_type": "markdown",
      "metadata": {
        "id": "4Jlz0I1aZe--"
      },
      "source": [
        "[On to the next (optional) notebook (HPC Clusters)](07-hpc-clusters.ipynb) ..."
      ]
    }
  ],
  "metadata": {
    "kernelspec": {
      "display_name": "Python 3",
      "language": "python",
      "name": "python3"
    },
    "language_info": {
      "codemirror_mode": {
        "name": "ipython",
        "version": 3
      },
      "file_extension": ".py",
      "mimetype": "text/x-python",
      "name": "python",
      "nbconvert_exporter": "python",
      "pygments_lexer": "ipython3",
      "version": "3.8.6"
    },
    "colab": {
      "provenance": []
    }
  },
  "nbformat": 4,
  "nbformat_minor": 0
}