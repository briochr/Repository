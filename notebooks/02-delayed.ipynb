{
  "cells": [
    {
      "cell_type": "markdown",
      "metadata": {
        "id": "a53xzSeCBHZB"
      },
      "source": [
        "In this section we parallelize simple for-loop style code with Dask and `dask.delayed`. Often, this is the only one function that you will need to convert functions for use with Dask.\n",
        "\n",
        "This is a simple way to use `dask` to parallelize existing codebases or build [complex systems](http://matthewrocklin.com/blog/work/2018/02/09/credit-models-with-dask).  This will also help us to develop an understanding for later sections."
      ]
    },
    {
      "cell_type": "markdown",
      "metadata": {
        "id": "VB0HqNdWBHZC"
      },
      "source": [
        "**Users of Colab** (and other users) can download the supporting files for this lesson is they don't have them already:"
      ]
    },
    {
      "cell_type": "code",
      "execution_count": 1,
      "metadata": {
        "id": "kRvLsGJOBHZD",
        "outputId": "f321064e-e0a7-4315-ce55-543735b6760a",
        "colab": {
          "base_uri": "https://localhost:8080/"
        }
      },
      "outputs": [
        {
          "output_type": "stream",
          "name": "stdout",
          "text": [
            "Downloaded solutions/delayed-loop.py\n",
            "Downloaded solutions/delayed-control-flow.py\n"
          ]
        }
      ],
      "source": [
        "# Download data and solutions\n",
        "\n",
        "import urllib.request\n",
        "import os\n",
        "\n",
        "def download_data(path):\n",
        "    if os.path.exists(path):\n",
        "        return\n",
        "    if not os.path.exists('data'):\n",
        "        os.mkdir('data')\n",
        "    if not os.path.exists('solutions'):\n",
        "        os.mkdir('solutions')\n",
        "    url = 'https://raw.githubusercontent.com/ualberta-rcg/python-dask/master/notebooks/' + path\n",
        "    output_file = path\n",
        "    urllib.request.urlretrieve(url, output_file)\n",
        "    print(\"Downloaded \" + path)\n",
        "\n",
        "def show_solution(file):\n",
        "    fp = open('solutions/{}'.format(file), 'r')\n",
        "    print(fp.read())\n",
        "\n",
        "download_data('solutions/delayed-loop.py')\n",
        "download_data('solutions/delayed-control-flow.py')\n"
      ]
    },
    {
      "cell_type": "markdown",
      "metadata": {
        "id": "8KRbV8DOBHZE"
      },
      "source": [
        "## Basics\n",
        "\n",
        "First let's make some toy functions, `inc` and `add`, that sleep for a while to simulate work. We'll then time running these functions normally.\n",
        "\n",
        "In the next section we'll parallelize this code."
      ]
    },
    {
      "cell_type": "code",
      "execution_count": 2,
      "metadata": {
        "id": "MLJO6rlTBHZF"
      },
      "outputs": [],
      "source": [
        "from time import sleep\n",
        "\n",
        "def inc(x):\n",
        "    sleep(1)\n",
        "    return x + 1\n",
        "\n",
        "def add(x, y):\n",
        "    sleep(1)\n",
        "    return x + y"
      ]
    },
    {
      "cell_type": "markdown",
      "metadata": {
        "id": "L8zAIi9SBHZF"
      },
      "source": [
        "We time the execution of this normal code using the `%%time` magic, which is a special function of the Jupyter Notebook."
      ]
    },
    {
      "cell_type": "code",
      "execution_count": 4,
      "metadata": {
        "id": "DtCt0oafBHZG",
        "outputId": "4fd581f3-fdc8-4a59-cc08-3f9eff974a63",
        "colab": {
          "base_uri": "https://localhost:8080/"
        }
      },
      "outputs": [
        {
          "output_type": "stream",
          "name": "stdout",
          "text": [
            "z is 5\n",
            "CPU times: user 17.8 ms, sys: 1.89 ms, total: 19.7 ms\n",
            "Wall time: 3 s\n"
          ]
        }
      ],
      "source": [
        "%%time\n",
        "# This takes three seconds to run because we call each\n",
        "# function sequentially, one after the other\n",
        "\n",
        "x = inc(1)\n",
        "y = inc(2)\n",
        "z = add(x, y)\n",
        "\n",
        "print(\"z is\", z)"
      ]
    },
    {
      "cell_type": "markdown",
      "metadata": {
        "id": "gmiw8xSRBHZG"
      },
      "source": [
        "### Parallelize with `dask.delayed`\n",
        "\n",
        "Those two increment calls *could* be called in parallel, because they are totally independent of one-another.\n",
        "\n",
        "We can call dask.delayed on our funtions to make them lazy. Rather than compute their results immediately, they record what we want to compute as a task into a graph that we’ll run later on parallel hardware."
      ]
    },
    {
      "cell_type": "code",
      "execution_count": 5,
      "metadata": {
        "id": "5JqtZd2DBHZH"
      },
      "outputs": [],
      "source": [
        "# Install prerequisites, if needed ...\n",
        "# !pip install pandas numpy dask distributed graphviz bokeh dask_jobqueue mimesis requests matplotlib"
      ]
    },
    {
      "cell_type": "code",
      "execution_count": 8,
      "metadata": {
        "id": "bESAqYI6BHZI"
      },
      "outputs": [],
      "source": [
        "from dask import delayed"
      ]
    },
    {
      "cell_type": "code",
      "execution_count": 15,
      "metadata": {
        "id": "4M2vTbEuBHZI",
        "outputId": "8d30faa7-d5dc-466c-e153-8679c0e38eb6",
        "colab": {
          "base_uri": "https://localhost:8080/"
        }
      },
      "outputs": [
        {
          "output_type": "stream",
          "name": "stdout",
          "text": [
            "CPU times: user 610 µs, sys: 0 ns, total: 610 µs\n",
            "Wall time: 547 µs\n"
          ]
        }
      ],
      "source": [
        "%%time\n",
        "# This runs immediately, all it does is build a graph\n",
        "\n",
        "x = delayed(inc)(1)\n",
        "y = delayed(inc)(2)\n",
        "z: int = delayed(add)(x, y)"
      ]
    },
    {
      "cell_type": "markdown",
      "metadata": {
        "id": "SCfiH4g6BHZJ"
      },
      "source": [
        "This ran immediately, since nothing has really happened yet.\n",
        "\n",
        "To get the result, call `compute`. Notice that this runs faster than the original code."
      ]
    },
    {
      "cell_type": "code",
      "execution_count": 17,
      "metadata": {
        "id": "WfMzqxunBHZJ",
        "outputId": "78fa850c-6805-46f7-9818-f63982fce7af",
        "colab": {
          "base_uri": "https://localhost:8080/"
        }
      },
      "outputs": [
        {
          "output_type": "stream",
          "name": "stdout",
          "text": [
            "<class 'dask.delayed.Delayed'>\n",
            "CPU times: user 13.2 ms, sys: 3.47 ms, total: 16.7 ms\n",
            "Wall time: 2 s\n"
          ]
        }
      ],
      "source": [
        "%%time\n",
        "# This actually runs our computation using a local thread pool\n",
        "\n",
        "z.compute()\n",
        "print(type(z))"
      ]
    },
    {
      "cell_type": "markdown",
      "metadata": {
        "id": "tSGMP64_BHZJ"
      },
      "source": [
        "## What just happened?\n",
        "\n",
        "The `z` object is a lazy `Delayed` object.  This object holds everything we need to compute the final result, including references to all of the functions that are required and their inputs and relationship to one-another.  We can evaluate the result with `.compute()` as above or we can visualize the task graph for this value with `.visualize()`."
      ]
    },
    {
      "cell_type": "code",
      "execution_count": 18,
      "metadata": {
        "id": "cyTuXf5OBHZK",
        "outputId": "d60ee93b-ea8d-47c0-f9a3-9bc446841fa9",
        "colab": {
          "base_uri": "https://localhost:8080/",
          "height": 394
        }
      },
      "outputs": [
        {
          "output_type": "execute_result",
          "data": {
            "image/png": "[encoded data removed]",
            "text/plain": [
              "<IPython.core.display.Image object>"
            ]
          },
          "metadata": {},
          "execution_count": 18
        }
      ],
      "source": [
        "# Look at the task graph for `z`\n",
        "z.visualize()"
      ]
    },
    {
      "cell_type": "markdown",
      "metadata": {
        "id": "PzxOvVfWBHZK"
      },
      "source": [
        "Notice that this includes the names of the functions from before, and the logical flow of the outputs of the `inc` functions to the inputs of `add`."
      ]
    },
    {
      "cell_type": "markdown",
      "metadata": {
        "id": "C_fDKKoWBHZK"
      },
      "source": [
        "## Exercise: Parallelize a for loop\n",
        "\n",
        "`for` loops are one of the most common things that we want to parallelize.  Use `dask.delayed` on `inc` and `sum` to parallelize the computation below:"
      ]
    },
    {
      "cell_type": "code",
      "execution_count": 20,
      "metadata": {
        "id": "obmg3xAHBHZK"
      },
      "outputs": [],
      "source": [
        "data = [1, 2, 3, 4, 5, 6, 7, 8]"
      ]
    },
    {
      "cell_type": "code",
      "execution_count": 25,
      "metadata": {
        "id": "mVJKUUyxBHZL",
        "outputId": "c2934bf2-f313-434d-f30b-55bf66cb83b2",
        "colab": {
          "base_uri": "https://localhost:8080/"
        }
      },
      "outputs": [
        {
          "output_type": "stream",
          "name": "stdout",
          "text": [
            "total is 44\n",
            "CPU times: user 44.4 ms, sys: 3.86 ms, total: 48.2 ms\n",
            "Wall time: 8 s\n"
          ]
        }
      ],
      "source": [
        "%%time\n",
        "# Sequential code\n",
        "\n",
        "results = []\n",
        "for x in data:\n",
        "    y = inc(x)\n",
        "    results.append(y)\n",
        "\n",
        "total = sum(results)\n",
        "print(\"total is\", total)"
      ]
    },
    {
      "cell_type": "markdown",
      "metadata": {
        "id": "FxO4Ly-gBHZL"
      },
      "source": [
        "The code above is copied below.\n",
        "Try to parallelize it using `dask.delayed`."
      ]
    },
    {
      "cell_type": "code",
      "execution_count": 26,
      "metadata": {
        "id": "D-Sb4CyfBHZL",
        "outputId": "7c09bb70-aedb-4b08-afa5-cca4747794b6",
        "colab": {
          "base_uri": "https://localhost:8080/"
        }
      },
      "outputs": [
        {
          "output_type": "stream",
          "name": "stdout",
          "text": [
            "total is Delayed('sum-f093f025-f59a-4d6d-ba0a-80c7b20e6b10')\n",
            "CPU times: user 24.4 ms, sys: 6.27 ms, total: 30.7 ms\n",
            "Wall time: 4.01 s\n"
          ]
        }
      ],
      "source": [
        "%%time\n",
        "# Your parallel code here...\n",
        "\n",
        "results = []\n",
        "for x in data:\n",
        "    y = delayed(inc)(x)\n",
        "    results.append(y)\n",
        "\n",
        "total = delayed(sum)(results)\n",
        "result = total.compute()\n",
        "print(\"total is\", total)"
      ]
    },
    {
      "cell_type": "code",
      "execution_count": 27,
      "metadata": {
        "id": "0JC_hELQBHZL",
        "outputId": "3e24709b-19e3-4ad4-e54c-39d30c785b77",
        "colab": {
          "base_uri": "https://localhost:8080/"
        }
      },
      "outputs": [
        {
          "output_type": "stream",
          "name": "stdout",
          "text": [
            "results = []\n",
            "\n",
            "for x in data:\n",
            "    y = delayed(inc)(x)\n",
            "    results.append(y)\n",
            "    \n",
            "total = delayed(sum)(results)\n",
            "\n",
            "# Let's see what type of thing total is\n",
            "print(\"Printing total: \", total)\n",
            "\n",
            "# Compuing ...\n",
            "result = total.compute()\n",
            "print(\"Printing result from computing total:\", result)\n",
            "\n"
          ]
        }
      ],
      "source": [
        "# PRINT SOLUTION (copy/paste output into a cell to run)\n",
        "show_solution('delayed-loop.py')"
      ]
    },
    {
      "cell_type": "markdown",
      "metadata": {
        "id": "RaHaySkHBHZL"
      },
      "source": [
        "How do the graph visualizations compare with the given solution, compared to a version with the `sum` function used directly rather than wrapped with `delay`? Can you explain the latter version? You might find the result of the following expression illuminating\n",
        "```python\n",
        "delayed(inc)(1) + delayed(inc)(2)\n",
        "```"
      ]
    },
    {
      "cell_type": "code",
      "execution_count": 28,
      "metadata": {
        "id": "3R9oCGirBHZM",
        "outputId": "cbdae67d-d918-4aa7-e218-af86459ac9eb",
        "colab": {
          "base_uri": "https://localhost:8080/",
          "height": 401
        }
      },
      "outputs": [
        {
          "output_type": "execute_result",
          "data": {
            "image/png": "[encoded data removed]",
            "text/plain": [
              "<IPython.core.display.Image object>"
            ]
          },
          "metadata": {},
          "execution_count": 28
        }
      ],
      "source": [
        "total.visualize()"
      ]
    },
    {
      "cell_type": "markdown",
      "metadata": {
        "id": "mvAe1XIVBHZM"
      },
      "source": [
        "## Exercise: Parallelizing a for-loop code with control flow\n",
        "\n",
        "Often we want to delay only *some* functions, running a few of them immediately.  This is especially helpful when those functions are fast and help us to determine what other slower functions we should call.  This decision, to delay or not to delay, is usually where we need to be thoughtful when using `dask.delayed`.\n",
        "\n",
        "In the example below we iterate through a list of inputs.  If that input is even then we want to call `inc`.  If the input is odd then we want to call `double`.  This `is_even` decision to call `inc` or `double` has to be made immediately (not lazily) in order for our graph-building Python code to proceed."
      ]
    },
    {
      "cell_type": "code",
      "execution_count": 29,
      "metadata": {
        "id": "e2T49IX4BHZM"
      },
      "outputs": [],
      "source": [
        "def double(x):\n",
        "    sleep(1)\n",
        "    return 2 * x\n",
        "\n",
        "def is_even(x):\n",
        "    return not x % 2\n",
        "\n",
        "data = [1, 2, 3, 4, 5, 6, 7, 8, 9, 10]"
      ]
    },
    {
      "cell_type": "code",
      "execution_count": 32,
      "metadata": {
        "id": "Rv5zPGSVBHZN",
        "outputId": "4b25bf70-7523-417f-ddf4-a3b9a2de2bba",
        "colab": {
          "base_uri": "https://localhost:8080/"
        }
      },
      "outputs": [
        {
          "output_type": "stream",
          "name": "stdout",
          "text": [
            "90\n",
            "CPU times: user 50.9 ms, sys: 5.36 ms, total: 56.2 ms\n",
            "Wall time: 10 s\n"
          ]
        }
      ],
      "source": [
        "%%time\n",
        "# Sequential code\n",
        "\n",
        "results = []\n",
        "for x in data:\n",
        "    if is_even(x):\n",
        "        y = double(x)\n",
        "    else:\n",
        "        y = inc(x)\n",
        "    results.append(y)\n",
        "\n",
        "total = sum(results)\n",
        "print(total)"
      ]
    },
    {
      "cell_type": "markdown",
      "metadata": {
        "id": "lTiCzYM6BHZN"
      },
      "source": [
        "The code above is copied in the next cell. Parallelize it to run more efficiently."
      ]
    },
    {
      "cell_type": "code",
      "execution_count": 34,
      "metadata": {
        "id": "vn6UrYHZBHZN",
        "outputId": "51706a89-dd07-4bb6-e0bb-694a66647dcb",
        "colab": {
          "base_uri": "https://localhost:8080/",
          "height": 495
        }
      },
      "outputs": [
        {
          "output_type": "stream",
          "name": "stdout",
          "text": [
            "Delayed('sum-6223b4e3-0bf1-4d65-ace8-e727cbe12fec')\n",
            "CPU times: user 35.4 ms, sys: 5.14 ms, total: 40.5 ms\n",
            "Wall time: 5.05 s\n"
          ]
        },
        {
          "output_type": "execute_result",
          "data": {
            "image/png": "[encoded data removed]",
            "text/plain": [
              "<IPython.core.display.Image object>"
            ]
          },
          "metadata": {},
          "execution_count": 34
        }
      ],
      "source": [
        "%%time\n",
        "# Your parallel code here...\n",
        "# TODO: parallelize the sequential code above using dask.delayed\n",
        "# You will need to delay some functions, but not all\n",
        "\n",
        "results = []\n",
        "for x in data:\n",
        "    if is_even(x):\n",
        "        y = delayed(double)(x)\n",
        "    else:\n",
        "        y = delayed(inc)(x)\n",
        "    results.append(y)\n",
        "\n",
        "total = delayed(sum)(results)\n",
        "result = total.compute()\n",
        "print(total)\n",
        "total.visualize()"
      ]
    },
    {
      "cell_type": "code",
      "execution_count": 35,
      "metadata": {
        "id": "k9DGh3gqBHZN",
        "outputId": "4df33f5a-17b9-4495-9e22-e22116274294",
        "colab": {
          "base_uri": "https://localhost:8080/"
        }
      },
      "outputs": [
        {
          "output_type": "stream",
          "name": "stdout",
          "text": [
            "results = []\n",
            "for x in data:\n",
            "    if is_even(x):\n",
            "        y = delayed(double)(x)\n",
            "    else:\n",
            "        y = delayed(inc)(x)\n",
            "    results.append(y)\n",
            "    \n",
            "total = delayed(sum)(results)\n",
            "result = total.compute()\n",
            "print(result)\n",
            "\n"
          ]
        }
      ],
      "source": [
        "# PRINT SOLUTION (copy/paste output into a cell to run)\n",
        "show_solution('delayed-control-flow.py')"
      ]
    },
    {
      "cell_type": "markdown",
      "metadata": {
        "id": "8cOouSKHBHZN"
      },
      "source": [
        "### Some things to try:\n",
        "\n",
        "* Print out the execution graph of the computation above;\n",
        "* Try delaying `is_even(x)` in the example.\n"
      ]
    },
    {
      "cell_type": "markdown",
      "metadata": {
        "id": "lhh5HXa2BHZO"
      },
      "source": [
        "[On to the next notebook (`Dask Schedulers`)](03-schedulers.ipynb) ..."
      ]
    }
  ],
  "metadata": {
    "kernelspec": {
      "display_name": "Python 3 (ipykernel)",
      "language": "python",
      "name": "python3"
    },
    "language_info": {
      "codemirror_mode": {
        "name": "ipython",
        "version": 3
      },
      "file_extension": ".py",
      "mimetype": "text/x-python",
      "name": "python",
      "nbconvert_exporter": "python",
      "pygments_lexer": "ipython3",
      "version": "3.9.7"
    },
    "colab": {
      "provenance": []
    }
  },
  "nbformat": 4,
  "nbformat_minor": 0
}